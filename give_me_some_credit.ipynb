{
  "nbformat": 4,
  "nbformat_minor": 0,
  "metadata": {
    "colab": {
      "name": "give-me-some-credit.ipynb",
      "provenance": [],
      "collapsed_sections": [],
      "include_colab_link": true
    },
    "kernelspec": {
      "display_name": "Python 3",
      "language": "python",
      "name": "python3"
    },
    "language_info": {
      "codemirror_mode": {
        "name": "ipython",
        "version": 3
      },
      "file_extension": ".py",
      "mimetype": "text/x-python",
      "name": "python",
      "nbconvert_exporter": "python",
      "pygments_lexer": "ipython3",
      "version": "3.7.6"
    }
  },
  "cells": [
    {
      "cell_type": "markdown",
      "metadata": {
        "id": "view-in-github",
        "colab_type": "text"
      },
      "source": [
        "<a href=\"https://colab.research.google.com/github/sheikhasif1996/Give-Me-Some-Credit/blob/main/give_me_some_credit.ipynb\" target=\"_parent\"><img src=\"https://colab.research.google.com/assets/colab-badge.svg\" alt=\"Open In Colab\"/></a>"
      ]
    },
    {
      "cell_type": "code",
      "metadata": {
        "id": "YgDBCDcBndt-"
      },
      "source": [
        "# Jovian Commit Essentials\n",
        "# Please retain and execute this cell without modifying the contents for `jovian.commit` to work\n",
        "!pip install jovian --upgrade -q\n",
        "import jovian\n",
        "jovian.set_project('give-me-some-credit')\n",
        "jovian.set_colab_id('1eI0dKqxDZy4z5qwoEoMI1QZgIm2R-p6U') "
      ],
      "execution_count": null,
      "outputs": []
    },
    {
      "cell_type": "markdown",
      "metadata": {
        "id": "TVs9eEDpnduF"
      },
      "source": [
        "# Prject Title: Give ME some Credit\n",
        "\n",
        "## Description of the project from kaggle \n",
        "\n",
        "Banks play a crucial role in market economies. They decide who can get finance and on what terms and can make or break investment decisions. For markets and society to function, individuals and companies need access to credit. \n",
        "\n",
        "Credit scoring algorithms, which make a guess at the probability of default, are the method banks use to determine whether or not a loan should be granted. This competition requires participants to improve on the state of the art in credit scoring, by predicting the probability that somebody will experience financial distress in the next two years.\n",
        "\n",
        "The goal of this competition is to build a model that borrowers can use to help make the best financial decisions.\n"
      ]
    },
    {
      "cell_type": "markdown",
      "metadata": {
        "id": "KJlrlxtts5Vy"
      },
      "source": [
        "## Commiting to jovian\n",
        "\n",
        "Import Jovian to connect google colab"
      ]
    },
    {
      "cell_type": "code",
      "metadata": {
        "id": "y6_Itr5nnduJ"
      },
      "source": [
        "import jovian"
      ],
      "execution_count": null,
      "outputs": []
    },
    {
      "cell_type": "code",
      "metadata": {
        "colab": {
          "base_uri": "https://localhost:8080/",
          "height": 174
        },
        "id": "gFZ52rdVnduK",
        "outputId": "f011095b-9641-4032-fa98-5ae802c8bb1c"
      },
      "source": [
        "# Execute this to save new versions of the notebook\n",
        "jovian.commit(project=\"give-me-some-credit\")\n"
      ],
      "execution_count": null,
      "outputs": [
        {
          "name": "stdout",
          "output_type": "stream",
          "text": [
            "[jovian] Detected Colab notebook...\u001b[0m\n",
            "[jovian] Please enter your API key ( from https://jovian.ai/ ):\u001b[0m\n",
            "API KEY: ··········\n"
          ]
        },
        {
          "output_type": "stream",
          "name": "stderr",
          "text": [
            "\u001b[31m[jovian] Error: The current API key is invalid or expired.\u001b[0m\n"
          ]
        },
        {
          "output_type": "stream",
          "name": "stdout",
          "text": [
            "[jovian] Please enter your API key ( from https://jovian.ai/ ):\u001b[0m\n",
            "API KEY: ··········\n",
            "[jovian] Uploading colab notebook to Jovian...\u001b[0m\n",
            "Committed successfully! https://jovian.ai/sheikhasif-buet13/give-me-some-credit\n"
          ]
        },
        {
          "output_type": "execute_result",
          "data": {
            "application/vnd.google.colaboratory.intrinsic+json": {
              "type": "string"
            },
            "text/plain": [
              "'https://jovian.ai/sheikhasif-buet13/give-me-some-credit'"
            ]
          },
          "metadata": {},
          "execution_count": 56
        }
      ]
    },
    {
      "cell_type": "code",
      "metadata": {
        "colab": {
          "base_uri": "https://localhost:8080/"
        },
        "id": "ImcMF_6cp5_Z",
        "outputId": "a23bc205-c376-460d-a041-1e8359189dc7"
      },
      "source": [
        "!pip install opendatasets scikit-learn jovian --quiet --upgrade"
      ],
      "execution_count": null,
      "outputs": [
        {
          "output_type": "stream",
          "name": "stdout",
          "text": [
            "\u001b[K     |████████████████████████████████| 23.1 MB 1.6 MB/s \n",
            "\u001b[K     |████████████████████████████████| 68 kB 6.2 MB/s \n",
            "\u001b[?25h  Building wheel for uuid (setup.py) ... \u001b[?25l\u001b[?25hdone\n"
          ]
        }
      ]
    },
    {
      "cell_type": "markdown",
      "metadata": {
        "id": "YJccxXhqHndS"
      },
      "source": [
        "## Importing Necessary Libraries and setting styles"
      ]
    },
    {
      "cell_type": "code",
      "metadata": {
        "id": "5pi-XrsMnduL"
      },
      "source": [
        "import os\n",
        "import opendatasets as od\n",
        "import pandas as pd\n",
        "import seaborn as sns\n",
        "import numpy as np\n",
        "import matplotlib\n",
        "import matplotlib.pyplot as plt\n",
        "%matplotlib inline\n",
        "sns.set_style('darkgrid')\n",
        "matplotlib.rcParams['font.size'] = 14\n",
        "matplotlib.rcParams['figure.figsize'] = (10, 6)\n",
        "matplotlib.rcParams['figure.facecolor'] = '#00000000'\n",
        "pd.set_option(\"display.max_columns\", 120)\n",
        "pd.set_option(\"display.max_rows\", 120)"
      ],
      "execution_count": null,
      "outputs": []
    },
    {
      "cell_type": "markdown",
      "metadata": {
        "id": "NvkEIaqcAFiR"
      },
      "source": [
        "## Downloading Data From Kaggle"
      ]
    },
    {
      "cell_type": "code",
      "metadata": {
        "colab": {
          "base_uri": "https://localhost:8080/"
        },
        "id": "gOErLQkrqxEI",
        "outputId": "acea384b-290f-4b55-e849-ff0fd0698cf6"
      },
      "source": [
        "od.download('https://www.kaggle.com/c/GiveMeSomeCredit')"
      ],
      "execution_count": null,
      "outputs": [
        {
          "output_type": "stream",
          "name": "stdout",
          "text": [
            "Please provide your Kaggle credentials to download this dataset. Learn more: http://bit.ly/kaggle-creds\n",
            "Your Kaggle username: skmuhammadasif\n",
            "Your Kaggle Key: ··········\n",
            "Downloading GiveMeSomeCredit.zip to ./GiveMeSomeCredit\n"
          ]
        },
        {
          "output_type": "stream",
          "name": "stderr",
          "text": [
            "100%|██████████| 5.16M/5.16M [00:00<00:00, 50.1MB/s]"
          ]
        },
        {
          "output_type": "stream",
          "name": "stdout",
          "text": [
            "\n",
            "Extracting archive ./GiveMeSomeCredit/GiveMeSomeCredit.zip to ./GiveMeSomeCredit\n"
          ]
        },
        {
          "output_type": "stream",
          "name": "stderr",
          "text": [
            "\n"
          ]
        }
      ]
    },
    {
      "cell_type": "code",
      "metadata": {
        "colab": {
          "base_uri": "https://localhost:8080/"
        },
        "id": "DVlZ2Hs8rNNg",
        "outputId": "19e7dd02-268b-4e2b-d1d6-5eaffd3548e2"
      },
      "source": [
        "os.listdir('GiveMeSomeCredit')"
      ],
      "execution_count": null,
      "outputs": [
        {
          "data": {
            "text/plain": [
              "['Data Dictionary.xls', 'sampleEntry.csv', 'cs-training.csv', 'cs-test.csv']"
            ]
          },
          "execution_count": 6,
          "metadata": {},
          "output_type": "execute_result"
        }
      ]
    },
    {
      "cell_type": "markdown",
      "metadata": {
        "id": "mXAMny5CtJSe"
      },
      "source": [
        "### Loading Data to Pandas Data Frame"
      ]
    },
    {
      "cell_type": "code",
      "metadata": {
        "id": "HSrXsCb2mdZj"
      },
      "source": [
        "cs_Training_df = pd.read_csv('./GiveMeSomeCredit/cs-training.csv')\n",
        "cs_test_df = pd.read_csv('./GiveMeSomeCredit/cs-test.csv')\n",
        "sampleEntry_df = pd.read_csv('./GiveMeSomeCredit/sampleEntry.csv')"
      ],
      "execution_count": null,
      "outputs": []
    },
    {
      "cell_type": "code",
      "metadata": {
        "colab": {
          "base_uri": "https://localhost:8080/",
          "height": 244
        },
        "id": "d6QvMDIcmz9i",
        "outputId": "1b902a5c-076f-45d7-92ee-6bd486d8b851"
      },
      "source": [
        "cs_Training_df.head()"
      ],
      "execution_count": null,
      "outputs": [
        {
          "data": {
            "text/html": [
              "<div>\n",
              "<style scoped>\n",
              "    .dataframe tbody tr th:only-of-type {\n",
              "        vertical-align: middle;\n",
              "    }\n",
              "\n",
              "    .dataframe tbody tr th {\n",
              "        vertical-align: top;\n",
              "    }\n",
              "\n",
              "    .dataframe thead th {\n",
              "        text-align: right;\n",
              "    }\n",
              "</style>\n",
              "<table border=\"1\" class=\"dataframe\">\n",
              "  <thead>\n",
              "    <tr style=\"text-align: right;\">\n",
              "      <th></th>\n",
              "      <th>Unnamed: 0</th>\n",
              "      <th>SeriousDlqin2yrs</th>\n",
              "      <th>RevolvingUtilizationOfUnsecuredLines</th>\n",
              "      <th>age</th>\n",
              "      <th>NumberOfTime30-59DaysPastDueNotWorse</th>\n",
              "      <th>DebtRatio</th>\n",
              "      <th>MonthlyIncome</th>\n",
              "      <th>NumberOfOpenCreditLinesAndLoans</th>\n",
              "      <th>NumberOfTimes90DaysLate</th>\n",
              "      <th>NumberRealEstateLoansOrLines</th>\n",
              "      <th>NumberOfTime60-89DaysPastDueNotWorse</th>\n",
              "      <th>NumberOfDependents</th>\n",
              "    </tr>\n",
              "  </thead>\n",
              "  <tbody>\n",
              "    <tr>\n",
              "      <th>0</th>\n",
              "      <td>1</td>\n",
              "      <td>1</td>\n",
              "      <td>0.766127</td>\n",
              "      <td>45</td>\n",
              "      <td>2</td>\n",
              "      <td>0.802982</td>\n",
              "      <td>9120.0</td>\n",
              "      <td>13</td>\n",
              "      <td>0</td>\n",
              "      <td>6</td>\n",
              "      <td>0</td>\n",
              "      <td>2.0</td>\n",
              "    </tr>\n",
              "    <tr>\n",
              "      <th>1</th>\n",
              "      <td>2</td>\n",
              "      <td>0</td>\n",
              "      <td>0.957151</td>\n",
              "      <td>40</td>\n",
              "      <td>0</td>\n",
              "      <td>0.121876</td>\n",
              "      <td>2600.0</td>\n",
              "      <td>4</td>\n",
              "      <td>0</td>\n",
              "      <td>0</td>\n",
              "      <td>0</td>\n",
              "      <td>1.0</td>\n",
              "    </tr>\n",
              "    <tr>\n",
              "      <th>2</th>\n",
              "      <td>3</td>\n",
              "      <td>0</td>\n",
              "      <td>0.658180</td>\n",
              "      <td>38</td>\n",
              "      <td>1</td>\n",
              "      <td>0.085113</td>\n",
              "      <td>3042.0</td>\n",
              "      <td>2</td>\n",
              "      <td>1</td>\n",
              "      <td>0</td>\n",
              "      <td>0</td>\n",
              "      <td>0.0</td>\n",
              "    </tr>\n",
              "    <tr>\n",
              "      <th>3</th>\n",
              "      <td>4</td>\n",
              "      <td>0</td>\n",
              "      <td>0.233810</td>\n",
              "      <td>30</td>\n",
              "      <td>0</td>\n",
              "      <td>0.036050</td>\n",
              "      <td>3300.0</td>\n",
              "      <td>5</td>\n",
              "      <td>0</td>\n",
              "      <td>0</td>\n",
              "      <td>0</td>\n",
              "      <td>0.0</td>\n",
              "    </tr>\n",
              "    <tr>\n",
              "      <th>4</th>\n",
              "      <td>5</td>\n",
              "      <td>0</td>\n",
              "      <td>0.907239</td>\n",
              "      <td>49</td>\n",
              "      <td>1</td>\n",
              "      <td>0.024926</td>\n",
              "      <td>63588.0</td>\n",
              "      <td>7</td>\n",
              "      <td>0</td>\n",
              "      <td>1</td>\n",
              "      <td>0</td>\n",
              "      <td>0.0</td>\n",
              "    </tr>\n",
              "  </tbody>\n",
              "</table>\n",
              "</div>"
            ],
            "text/plain": [
              "   Unnamed: 0  SeriousDlqin2yrs  RevolvingUtilizationOfUnsecuredLines  age  \\\n",
              "0           1                 1                              0.766127   45   \n",
              "1           2                 0                              0.957151   40   \n",
              "2           3                 0                              0.658180   38   \n",
              "3           4                 0                              0.233810   30   \n",
              "4           5                 0                              0.907239   49   \n",
              "\n",
              "   NumberOfTime30-59DaysPastDueNotWorse  DebtRatio  MonthlyIncome  \\\n",
              "0                                     2   0.802982         9120.0   \n",
              "1                                     0   0.121876         2600.0   \n",
              "2                                     1   0.085113         3042.0   \n",
              "3                                     0   0.036050         3300.0   \n",
              "4                                     1   0.024926        63588.0   \n",
              "\n",
              "   NumberOfOpenCreditLinesAndLoans  NumberOfTimes90DaysLate  \\\n",
              "0                               13                        0   \n",
              "1                                4                        0   \n",
              "2                                2                        1   \n",
              "3                                5                        0   \n",
              "4                                7                        0   \n",
              "\n",
              "   NumberRealEstateLoansOrLines  NumberOfTime60-89DaysPastDueNotWorse  \\\n",
              "0                             6                                     0   \n",
              "1                             0                                     0   \n",
              "2                             0                                     0   \n",
              "3                             0                                     0   \n",
              "4                             1                                     0   \n",
              "\n",
              "   NumberOfDependents  \n",
              "0                 2.0  \n",
              "1                 1.0  \n",
              "2                 0.0  \n",
              "3                 0.0  \n",
              "4                 0.0  "
            ]
          },
          "execution_count": 9,
          "metadata": {},
          "output_type": "execute_result"
        }
      ]
    },
    {
      "cell_type": "code",
      "metadata": {
        "colab": {
          "base_uri": "https://localhost:8080/"
        },
        "id": "dM4DYKQxm2cw",
        "outputId": "b34b471b-5167-45eb-94a0-2ea719625d8c"
      },
      "source": [
        "cs_Training_df.shape"
      ],
      "execution_count": null,
      "outputs": [
        {
          "data": {
            "text/plain": [
              "(150000, 12)"
            ]
          },
          "execution_count": 10,
          "metadata": {},
          "output_type": "execute_result"
        }
      ]
    },
    {
      "cell_type": "code",
      "metadata": {
        "colab": {
          "base_uri": "https://localhost:8080/"
        },
        "id": "vqC16pTUqpjD",
        "outputId": "b82fe055-1877-4d22-e152-237c0af69812"
      },
      "source": [
        "cs_test_df.shape"
      ],
      "execution_count": null,
      "outputs": [
        {
          "data": {
            "text/plain": [
              "(101503, 12)"
            ]
          },
          "execution_count": 11,
          "metadata": {},
          "output_type": "execute_result"
        }
      ]
    },
    {
      "cell_type": "markdown",
      "metadata": {
        "id": "dLSjb46UyrJZ"
      },
      "source": [
        "# Exploratory Data Analysis & Data Cleaning"
      ]
    },
    {
      "cell_type": "code",
      "metadata": {
        "colab": {
          "base_uri": "https://localhost:8080/"
        },
        "id": "HyZ6TYHYyt_J",
        "outputId": "bebcd697-db2f-4846-9979-153f5da3cc0d"
      },
      "source": [
        "cs_Training_df.info()"
      ],
      "execution_count": null,
      "outputs": [
        {
          "name": "stdout",
          "output_type": "stream",
          "text": [
            "<class 'pandas.core.frame.DataFrame'>\n",
            "RangeIndex: 150000 entries, 0 to 149999\n",
            "Data columns (total 12 columns):\n",
            " #   Column                                Non-Null Count   Dtype  \n",
            "---  ------                                --------------   -----  \n",
            " 0   Unnamed: 0                            150000 non-null  int64  \n",
            " 1   SeriousDlqin2yrs                      150000 non-null  int64  \n",
            " 2   RevolvingUtilizationOfUnsecuredLines  150000 non-null  float64\n",
            " 3   age                                   150000 non-null  int64  \n",
            " 4   NumberOfTime30-59DaysPastDueNotWorse  150000 non-null  int64  \n",
            " 5   DebtRatio                             150000 non-null  float64\n",
            " 6   MonthlyIncome                         120269 non-null  float64\n",
            " 7   NumberOfOpenCreditLinesAndLoans       150000 non-null  int64  \n",
            " 8   NumberOfTimes90DaysLate               150000 non-null  int64  \n",
            " 9   NumberRealEstateLoansOrLines          150000 non-null  int64  \n",
            " 10  NumberOfTime60-89DaysPastDueNotWorse  150000 non-null  int64  \n",
            " 11  NumberOfDependents                    146076 non-null  float64\n",
            "dtypes: float64(4), int64(8)\n",
            "memory usage: 13.7 MB\n"
          ]
        }
      ]
    },
    {
      "cell_type": "markdown",
      "metadata": {
        "id": "cFD24Jtk7mYq"
      },
      "source": [
        "We see that there are no object datatype in this training dataset.  so there is no need for encoding. Also there are missing values in two columns which we will deal with later."
      ]
    },
    {
      "cell_type": "markdown",
      "metadata": {
        "id": "SWVCdr-P8Kom"
      },
      "source": [
        "The first column is unnecessary. So just drop this column."
      ]
    },
    {
      "cell_type": "code",
      "metadata": {
        "id": "lpEYBO3Jy-iY"
      },
      "source": [
        "train_df = cs_Training_df.drop(columns = ['Unnamed: 0'])\n",
        "train_df.head()\n",
        "test_df = cs_test_df.drop(columns = ['Unnamed: 0', 'SeriousDlqin2yrs'])"
      ],
      "execution_count": null,
      "outputs": []
    },
    {
      "cell_type": "code",
      "metadata": {
        "colab": {
          "base_uri": "https://localhost:8080/",
          "height": 338
        },
        "id": "xHnMh5lE9gBB",
        "outputId": "eff14428-5948-435f-9d4b-0e140e8ddea2"
      },
      "source": [
        "train_df.describe()"
      ],
      "execution_count": null,
      "outputs": [
        {
          "data": {
            "text/html": [
              "<div>\n",
              "<style scoped>\n",
              "    .dataframe tbody tr th:only-of-type {\n",
              "        vertical-align: middle;\n",
              "    }\n",
              "\n",
              "    .dataframe tbody tr th {\n",
              "        vertical-align: top;\n",
              "    }\n",
              "\n",
              "    .dataframe thead th {\n",
              "        text-align: right;\n",
              "    }\n",
              "</style>\n",
              "<table border=\"1\" class=\"dataframe\">\n",
              "  <thead>\n",
              "    <tr style=\"text-align: right;\">\n",
              "      <th></th>\n",
              "      <th>SeriousDlqin2yrs</th>\n",
              "      <th>RevolvingUtilizationOfUnsecuredLines</th>\n",
              "      <th>age</th>\n",
              "      <th>NumberOfTime30-59DaysPastDueNotWorse</th>\n",
              "      <th>DebtRatio</th>\n",
              "      <th>MonthlyIncome</th>\n",
              "      <th>NumberOfOpenCreditLinesAndLoans</th>\n",
              "      <th>NumberOfTimes90DaysLate</th>\n",
              "      <th>NumberRealEstateLoansOrLines</th>\n",
              "      <th>NumberOfTime60-89DaysPastDueNotWorse</th>\n",
              "      <th>NumberOfDependents</th>\n",
              "    </tr>\n",
              "  </thead>\n",
              "  <tbody>\n",
              "    <tr>\n",
              "      <th>count</th>\n",
              "      <td>150000.000000</td>\n",
              "      <td>150000.000000</td>\n",
              "      <td>150000.000000</td>\n",
              "      <td>150000.000000</td>\n",
              "      <td>150000.000000</td>\n",
              "      <td>1.202690e+05</td>\n",
              "      <td>150000.000000</td>\n",
              "      <td>150000.000000</td>\n",
              "      <td>150000.000000</td>\n",
              "      <td>150000.000000</td>\n",
              "      <td>146076.000000</td>\n",
              "    </tr>\n",
              "    <tr>\n",
              "      <th>mean</th>\n",
              "      <td>0.066840</td>\n",
              "      <td>6.048438</td>\n",
              "      <td>52.295207</td>\n",
              "      <td>0.421033</td>\n",
              "      <td>353.005076</td>\n",
              "      <td>6.670221e+03</td>\n",
              "      <td>8.452760</td>\n",
              "      <td>0.265973</td>\n",
              "      <td>1.018240</td>\n",
              "      <td>0.240387</td>\n",
              "      <td>0.757222</td>\n",
              "    </tr>\n",
              "    <tr>\n",
              "      <th>std</th>\n",
              "      <td>0.249746</td>\n",
              "      <td>249.755371</td>\n",
              "      <td>14.771866</td>\n",
              "      <td>4.192781</td>\n",
              "      <td>2037.818523</td>\n",
              "      <td>1.438467e+04</td>\n",
              "      <td>5.145951</td>\n",
              "      <td>4.169304</td>\n",
              "      <td>1.129771</td>\n",
              "      <td>4.155179</td>\n",
              "      <td>1.115086</td>\n",
              "    </tr>\n",
              "    <tr>\n",
              "      <th>min</th>\n",
              "      <td>0.000000</td>\n",
              "      <td>0.000000</td>\n",
              "      <td>0.000000</td>\n",
              "      <td>0.000000</td>\n",
              "      <td>0.000000</td>\n",
              "      <td>0.000000e+00</td>\n",
              "      <td>0.000000</td>\n",
              "      <td>0.000000</td>\n",
              "      <td>0.000000</td>\n",
              "      <td>0.000000</td>\n",
              "      <td>0.000000</td>\n",
              "    </tr>\n",
              "    <tr>\n",
              "      <th>25%</th>\n",
              "      <td>0.000000</td>\n",
              "      <td>0.029867</td>\n",
              "      <td>41.000000</td>\n",
              "      <td>0.000000</td>\n",
              "      <td>0.175074</td>\n",
              "      <td>3.400000e+03</td>\n",
              "      <td>5.000000</td>\n",
              "      <td>0.000000</td>\n",
              "      <td>0.000000</td>\n",
              "      <td>0.000000</td>\n",
              "      <td>0.000000</td>\n",
              "    </tr>\n",
              "    <tr>\n",
              "      <th>50%</th>\n",
              "      <td>0.000000</td>\n",
              "      <td>0.154181</td>\n",
              "      <td>52.000000</td>\n",
              "      <td>0.000000</td>\n",
              "      <td>0.366508</td>\n",
              "      <td>5.400000e+03</td>\n",
              "      <td>8.000000</td>\n",
              "      <td>0.000000</td>\n",
              "      <td>1.000000</td>\n",
              "      <td>0.000000</td>\n",
              "      <td>0.000000</td>\n",
              "    </tr>\n",
              "    <tr>\n",
              "      <th>75%</th>\n",
              "      <td>0.000000</td>\n",
              "      <td>0.559046</td>\n",
              "      <td>63.000000</td>\n",
              "      <td>0.000000</td>\n",
              "      <td>0.868254</td>\n",
              "      <td>8.249000e+03</td>\n",
              "      <td>11.000000</td>\n",
              "      <td>0.000000</td>\n",
              "      <td>2.000000</td>\n",
              "      <td>0.000000</td>\n",
              "      <td>1.000000</td>\n",
              "    </tr>\n",
              "    <tr>\n",
              "      <th>max</th>\n",
              "      <td>1.000000</td>\n",
              "      <td>50708.000000</td>\n",
              "      <td>109.000000</td>\n",
              "      <td>98.000000</td>\n",
              "      <td>329664.000000</td>\n",
              "      <td>3.008750e+06</td>\n",
              "      <td>58.000000</td>\n",
              "      <td>98.000000</td>\n",
              "      <td>54.000000</td>\n",
              "      <td>98.000000</td>\n",
              "      <td>20.000000</td>\n",
              "    </tr>\n",
              "  </tbody>\n",
              "</table>\n",
              "</div>"
            ],
            "text/plain": [
              "       SeriousDlqin2yrs  RevolvingUtilizationOfUnsecuredLines            age  \\\n",
              "count     150000.000000                         150000.000000  150000.000000   \n",
              "mean           0.066840                              6.048438      52.295207   \n",
              "std            0.249746                            249.755371      14.771866   \n",
              "min            0.000000                              0.000000       0.000000   \n",
              "25%            0.000000                              0.029867      41.000000   \n",
              "50%            0.000000                              0.154181      52.000000   \n",
              "75%            0.000000                              0.559046      63.000000   \n",
              "max            1.000000                          50708.000000     109.000000   \n",
              "\n",
              "       NumberOfTime30-59DaysPastDueNotWorse      DebtRatio  MonthlyIncome  \\\n",
              "count                         150000.000000  150000.000000   1.202690e+05   \n",
              "mean                               0.421033     353.005076   6.670221e+03   \n",
              "std                                4.192781    2037.818523   1.438467e+04   \n",
              "min                                0.000000       0.000000   0.000000e+00   \n",
              "25%                                0.000000       0.175074   3.400000e+03   \n",
              "50%                                0.000000       0.366508   5.400000e+03   \n",
              "75%                                0.000000       0.868254   8.249000e+03   \n",
              "max                               98.000000  329664.000000   3.008750e+06   \n",
              "\n",
              "       NumberOfOpenCreditLinesAndLoans  NumberOfTimes90DaysLate  \\\n",
              "count                    150000.000000            150000.000000   \n",
              "mean                          8.452760                 0.265973   \n",
              "std                           5.145951                 4.169304   \n",
              "min                           0.000000                 0.000000   \n",
              "25%                           5.000000                 0.000000   \n",
              "50%                           8.000000                 0.000000   \n",
              "75%                          11.000000                 0.000000   \n",
              "max                          58.000000                98.000000   \n",
              "\n",
              "       NumberRealEstateLoansOrLines  NumberOfTime60-89DaysPastDueNotWorse  \\\n",
              "count                 150000.000000                         150000.000000   \n",
              "mean                       1.018240                              0.240387   \n",
              "std                        1.129771                              4.155179   \n",
              "min                        0.000000                              0.000000   \n",
              "25%                        0.000000                              0.000000   \n",
              "50%                        1.000000                              0.000000   \n",
              "75%                        2.000000                              0.000000   \n",
              "max                       54.000000                             98.000000   \n",
              "\n",
              "       NumberOfDependents  \n",
              "count       146076.000000  \n",
              "mean             0.757222  \n",
              "std              1.115086  \n",
              "min              0.000000  \n",
              "25%              0.000000  \n",
              "50%              0.000000  \n",
              "75%              1.000000  \n",
              "max             20.000000  "
            ]
          },
          "execution_count": 14,
          "metadata": {},
          "output_type": "execute_result"
        }
      ]
    },
    {
      "cell_type": "markdown",
      "metadata": {
        "id": "ebgpX3UXq--a"
      },
      "source": [
        "Lets draw a plot to understand the distribution of yes and no values in the target column. "
      ]
    },
    {
      "cell_type": "code",
      "metadata": {
        "colab": {
          "base_uri": "https://localhost:8080/",
          "height": 433
        },
        "id": "I_xKrO-aDqwr",
        "outputId": "ab36d060-f4a3-4352-dbad-4f63e63d6b5f"
      },
      "source": [
        "sns.countplot(x='SeriousDlqin2yrs',data=train_df,palette='RdBu_r')\n",
        "plt.title('Binary Class Comparison')"
      ],
      "execution_count": null,
      "outputs": [
        {
          "output_type": "execute_result",
          "data": {
            "text/plain": [
              "Text(0.5, 1.0, 'Binary Class Comparison')"
            ]
          },
          "metadata": {},
          "execution_count": 9
        },
        {
          "output_type": "display_data",
          "data": {
            "image/png": "[encoded data removed]",
            "text/plain": [
              "<Figure size 720x432 with 1 Axes>"
            ]
          },
          "metadata": {
            "needs_background": "light"
          }
        }
      ]
    },
    {
      "cell_type": "markdown",
      "metadata": {
        "id": "vRic6luvFGv6"
      },
      "source": [
        "It is clear that Target Data is highly imbalanced. So, there is a possibility that ROC_AUC score might be low even though accuracy is high. So, we may try balancing the data later and see what happens."
      ]
    },
    {
      "cell_type": "code",
      "metadata": {
        "colab": {
          "base_uri": "https://localhost:8080/"
        },
        "id": "ZMlg4KEWGclY",
        "outputId": "5713be14-7540-45fa-d2f0-ed5a38deb1b2"
      },
      "source": [
        "train_df.isnull().sum()"
      ],
      "execution_count": null,
      "outputs": [
        {
          "data": {
            "text/plain": [
              "SeriousDlqin2yrs                            0\n",
              "RevolvingUtilizationOfUnsecuredLines        0\n",
              "age                                         0\n",
              "NumberOfTime30-59DaysPastDueNotWorse        0\n",
              "DebtRatio                                   0\n",
              "MonthlyIncome                           29731\n",
              "NumberOfOpenCreditLinesAndLoans             0\n",
              "NumberOfTimes90DaysLate                     0\n",
              "NumberRealEstateLoansOrLines                0\n",
              "NumberOfTime60-89DaysPastDueNotWorse        0\n",
              "NumberOfDependents                       3924\n",
              "dtype: int64"
            ]
          },
          "execution_count": 79,
          "metadata": {},
          "output_type": "execute_result"
        }
      ]
    },
    {
      "cell_type": "markdown",
      "metadata": {
        "id": "tLzr7aXeGjhX"
      },
      "source": [
        "There are some missing values in Monthly Income and NumberOfDependents column. We can check out the distribution of Monthly Income and Number of Dependents Column and replace the missing values with appropriate values.  "
      ]
    },
    {
      "cell_type": "code",
      "metadata": {
        "colab": {
          "base_uri": "https://localhost:8080/",
          "height": 413
        },
        "id": "ezERO3HRKHim",
        "outputId": "c6c2b36b-d6b8-4627-c20a-7e30f71861db"
      },
      "source": [
        "sns.histplot(data=train_df, x= 'MonthlyIncome', bins = 10)"
      ],
      "execution_count": null,
      "outputs": [
        {
          "output_type": "execute_result",
          "data": {
            "text/plain": [
              "<matplotlib.axes._subplots.AxesSubplot at 0x7fa3f38d7a90>"
            ]
          },
          "metadata": {},
          "execution_count": 10
        },
        {
          "output_type": "display_data",
          "data": {
            "image/png": "[encoded data removed]",
            "text/plain": [
              "<Figure size 720x432 with 1 Axes>"
            ]
          },
          "metadata": {
            "needs_background": "light"
          }
        }
      ]
    },
    {
      "cell_type": "code",
      "metadata": {
        "colab": {
          "base_uri": "https://localhost:8080/"
        },
        "id": "d5WH1D7GS5pO",
        "outputId": "38781f8e-1c79-4999-cdde-f320f46ca3a5"
      },
      "source": [
        "train_df.MonthlyIncome.median()"
      ],
      "execution_count": null,
      "outputs": [
        {
          "data": {
            "text/plain": [
              "5400.0"
            ]
          },
          "execution_count": 103,
          "metadata": {},
          "output_type": "execute_result"
        }
      ]
    },
    {
      "cell_type": "code",
      "metadata": {
        "colab": {
          "base_uri": "https://localhost:8080/"
        },
        "id": "q-EOwpodTdMw",
        "outputId": "2f8261a4-abcd-46a0-f2ea-2adccc2775b0"
      },
      "source": [
        "train_df.MonthlyIncome.mean()"
      ],
      "execution_count": null,
      "outputs": [
        {
          "data": {
            "text/plain": [
              "6670.221237392844"
            ]
          },
          "execution_count": 104,
          "metadata": {},
          "output_type": "execute_result"
        }
      ]
    },
    {
      "cell_type": "code",
      "metadata": {
        "colab": {
          "base_uri": "https://localhost:8080/"
        },
        "id": "ceSZsqiQTins",
        "outputId": "813b0a5c-28c2-4cb4-aeeb-df23839ec5de"
      },
      "source": [
        "train_df.MonthlyIncome.max()"
      ],
      "execution_count": null,
      "outputs": [
        {
          "data": {
            "text/plain": [
              "3008750.0"
            ]
          },
          "execution_count": 105,
          "metadata": {},
          "output_type": "execute_result"
        }
      ]
    },
    {
      "cell_type": "markdown",
      "metadata": {
        "id": "a_1mK5O0Tqds"
      },
      "source": [
        "Though the maximum income is very large than median it doesnt pull the mean from the median greatly. We can impute the missing Monthly Income values with both the median and the mean. "
      ]
    },
    {
      "cell_type": "markdown",
      "metadata": {
        "id": "L-_9fTfivsAv"
      },
      "source": [
        "Now, lets analyze the columns where information about late pay is given. "
      ]
    },
    {
      "cell_type": "code",
      "metadata": {
        "colab": {
          "base_uri": "https://localhost:8080/"
        },
        "id": "eTz8jzpJva-f",
        "outputId": "41a73b49-99a0-4a8e-b34a-881caf2ca132"
      },
      "source": [
        "train_df[\"NumberOfTimes90DaysLate\"].value_counts().sort_index()"
      ],
      "execution_count": null,
      "outputs": [
        {
          "output_type": "execute_result",
          "data": {
            "text/plain": [
              "0     141662\n",
              "1       5243\n",
              "2       1555\n",
              "3        667\n",
              "4        291\n",
              "5        131\n",
              "6         80\n",
              "7         38\n",
              "8         21\n",
              "9         19\n",
              "10         8\n",
              "11         5\n",
              "12         2\n",
              "13         4\n",
              "14         2\n",
              "15         2\n",
              "17         1\n",
              "Name: NumberOfTimes90DaysLate, dtype: int64"
            ]
          },
          "metadata": {},
          "execution_count": 11
        }
      ]
    },
    {
      "cell_type": "code",
      "metadata": {
        "colab": {
          "base_uri": "https://localhost:8080/"
        },
        "id": "F-0On3pAv5Py",
        "outputId": "29064893-4e2a-4e1e-ab87-5dac4e7f2893"
      },
      "source": [
        "train_df[\"NumberOfTime60-89DaysPastDueNotWorse\"].value_counts().sort_index()"
      ],
      "execution_count": null,
      "outputs": [
        {
          "output_type": "execute_result",
          "data": {
            "text/plain": [
              "0     142396\n",
              "1       5731\n",
              "2       1118\n",
              "3        318\n",
              "4        105\n",
              "5         34\n",
              "6         16\n",
              "7          9\n",
              "8          2\n",
              "9          1\n",
              "11         1\n",
              "Name: NumberOfTime60-89DaysPastDueNotWorse, dtype: int64"
            ]
          },
          "metadata": {},
          "execution_count": 14
        }
      ]
    },
    {
      "cell_type": "code",
      "metadata": {
        "colab": {
          "base_uri": "https://localhost:8080/"
        },
        "id": "d0e_146Swt8l",
        "outputId": "9a3b1dd1-5355-4307-8e84-0b6164b21251"
      },
      "source": [
        "train_df[\"NumberOfTime30-59DaysPastDueNotWorse\"].value_counts().sort_index()"
      ],
      "execution_count": null,
      "outputs": [
        {
          "output_type": "execute_result",
          "data": {
            "text/plain": [
              "0     126018\n",
              "1      16033\n",
              "2       4598\n",
              "3       1754\n",
              "4        747\n",
              "5        342\n",
              "6        140\n",
              "7         54\n",
              "8         25\n",
              "9         12\n",
              "10         4\n",
              "11         1\n",
              "12         2\n",
              "13         1\n",
              "Name: NumberOfTime30-59DaysPastDueNotWorse, dtype: int64"
            ]
          },
          "metadata": {},
          "execution_count": 15
        }
      ]
    },
    {
      "cell_type": "markdown",
      "metadata": {
        "id": "-lPc6ZQlwzu9"
      },
      "source": [
        "Look at the three columns value counts. It is clear that there is a sudden absense of values from 17 to 96 in \"NumberOfTimes90DaysLate\" column.For the other two columns there is also absence of values. It is bit unusual. Lets delete the rows with values greater than 17 to remove this ambiguity."
      ]
    },
    {
      "cell_type": "code",
      "metadata": {
        "id": "Ws_DiLy2rVIJ"
      },
      "source": [
        "train_df = train_df.drop(train_df[train_df.NumberOfTimes90DaysLate > 17].index)"
      ],
      "execution_count": null,
      "outputs": []
    },
    {
      "cell_type": "markdown",
      "metadata": {
        "id": "Psj8BQYIDk2F"
      },
      "source": [
        "## Setting Feature and Target Column"
      ]
    },
    {
      "cell_type": "code",
      "metadata": {
        "id": "VlrrRFSSOuDd"
      },
      "source": [
        "X = train_df.drop(columns = ['SeriousDlqin2yrs'])\n",
        "y = train_df['SeriousDlqin2yrs']"
      ],
      "execution_count": null,
      "outputs": []
    },
    {
      "cell_type": "markdown",
      "metadata": {
        "id": "P0c-jVkq00dI"
      },
      "source": [
        "## Filling missing values"
      ]
    },
    {
      "cell_type": "code",
      "metadata": {
        "id": "P8SF4oA63POe"
      },
      "source": [
        "X['MonthlyIncome'].fillna(X['MonthlyIncome'].mean(),inplace=True)\n",
        "X['NumberOfDependents'].fillna(test_df['NumberOfDependents'].mode()[0], inplace=True)"
      ],
      "execution_count": null,
      "outputs": []
    },
    {
      "cell_type": "code",
      "metadata": {
        "colab": {
          "base_uri": "https://localhost:8080/"
        },
        "id": "uk_wiEi83kRY",
        "outputId": "09a8aa8f-de6e-46b5-a5ad-e17d091fd6a6"
      },
      "source": [
        "X.isna().sum()"
      ],
      "execution_count": null,
      "outputs": [
        {
          "output_type": "execute_result",
          "data": {
            "text/plain": [
              "RevolvingUtilizationOfUnsecuredLines    0\n",
              "age                                     0\n",
              "NumberOfTime30-59DaysPastDueNotWorse    0\n",
              "DebtRatio                               0\n",
              "MonthlyIncome                           0\n",
              "NumberOfOpenCreditLinesAndLoans         0\n",
              "NumberOfTimes90DaysLate                 0\n",
              "NumberRealEstateLoansOrLines            0\n",
              "NumberOfTime60-89DaysPastDueNotWorse    0\n",
              "NumberOfDependents                      0\n",
              "dtype: int64"
            ]
          },
          "metadata": {},
          "execution_count": 19
        }
      ]
    },
    {
      "cell_type": "markdown",
      "metadata": {
        "id": "ovv2-aRr1GFV"
      },
      "source": [
        "Now there is no missing values in training data. "
      ]
    },
    {
      "cell_type": "markdown",
      "metadata": {
        "id": "4gB8qONdj7g5"
      },
      "source": [
        "# Model Type 1: Logistic Regression Model"
      ]
    },
    {
      "cell_type": "markdown",
      "metadata": {
        "id": "sxMo_wJC1NAP"
      },
      "source": [
        "## Import, split,scaling, fitting, training"
      ]
    },
    {
      "cell_type": "code",
      "metadata": {
        "colab": {
          "base_uri": "https://localhost:8080/"
        },
        "id": "MtllkRh5jZvL",
        "outputId": "e6920a0e-5384-460b-b8ae-d9d399c8132d"
      },
      "source": [
        "#Import scikit learn and necessary metrics\n",
        "from sklearn.model_selection import train_test_split\n",
        "from sklearn.linear_model import LogisticRegression\n",
        "from sklearn.metrics import classification_report\n",
        "from sklearn.metrics import confusion_matrix,accuracy_score\n",
        "from sklearn.metrics import classification_report\n",
        "from sklearn.preprocessing import StandardScaler\n",
        "from sklearn.feature_selection import SelectFromModel\n",
        "import sklearn.metrics as metrics\n",
        "\n",
        "\n",
        "X_train, X_valid, y_train, y_valid = train_test_split(X, y, train_size=0.8, test_size=0.2,random_state=1)\n",
        "scaler = StandardScaler().fit(X_train)\n",
        "X_train = scaler.transform(X_train)\n",
        "X_valid = scaler.transform(X_valid)\n",
        "\n",
        "\n",
        "LRmodel = LogisticRegression(max_iter= 300, solver= 'lbfgs')\n",
        "LRmodel.fit(X_train, y_train)\n",
        "\n",
        "# implementing model and scoring\n",
        "predictions = LRmodel.predict(X_valid)\n",
        "print(classification_report(y_valid, predictions))\n",
        "print(\"Accuracy:\",metrics.accuracy_score(y_valid, predictions))"
      ],
      "execution_count": null,
      "outputs": [
        {
          "output_type": "stream",
          "name": "stdout",
          "text": [
            "              precision    recall  f1-score   support\n",
            "\n",
            "           0       0.94      0.99      0.97     27974\n",
            "           1       0.59      0.15      0.25      1973\n",
            "\n",
            "    accuracy                           0.94     29947\n",
            "   macro avg       0.77      0.57      0.61     29947\n",
            "weighted avg       0.92      0.94      0.92     29947\n",
            "\n",
            "Accuracy: 0.9373559955922129\n"
          ]
        }
      ]
    },
    {
      "cell_type": "code",
      "metadata": {
        "id": "IRTHnZyX1PzL"
      },
      "source": [
        "from sklearn.metrics import confusion_matrix"
      ],
      "execution_count": null,
      "outputs": []
    },
    {
      "cell_type": "code",
      "metadata": {
        "id": "8kAArcwN4BPm"
      },
      "source": [
        "def predict_and_plot(inputs,targets,model, name=''):\n",
        "    preds = model.predict(inputs)\n",
        "    \n",
        "    accuracy = accuracy_score(targets, preds)\n",
        "    print(\"Accuracy: {:.2f}%\".format(accuracy * 100))\n",
        "    \n",
        "    cf = confusion_matrix(targets, preds, normalize='true')\n",
        "    plt.figure()\n",
        "    sns.heatmap(cf, annot=True)\n",
        "    plt.xlabel('Prediction')\n",
        "    plt.ylabel('Target')\n",
        "    plt.title('{} Confusion Matrix'.format(name));\n",
        "    \n",
        "    return preds"
      ],
      "execution_count": null,
      "outputs": []
    },
    {
      "cell_type": "code",
      "metadata": {
        "colab": {
          "base_uri": "https://localhost:8080/",
          "height": 433
        },
        "id": "fCo8ovBE4Mky",
        "outputId": "9cea5b3f-c642-4db9-cb6c-cd3e364fb8a2"
      },
      "source": [
        "val_preds = predict_and_plot(X_valid, y_valid, LRmodel, 'Validatiaon')"
      ],
      "execution_count": null,
      "outputs": [
        {
          "output_type": "stream",
          "name": "stdout",
          "text": [
            "Accuracy: 93.74%\n"
          ]
        },
        {
          "output_type": "display_data",
          "data": {
            "image/png": "[encoded data removed]",
            "text/plain": [
              "<Figure size 720x432 with 2 Axes>"
            ]
          },
          "metadata": {
            "needs_background": "light"
          }
        }
      ]
    },
    {
      "cell_type": "markdown",
      "metadata": {
        "id": "sw8Hla7vzUnZ"
      },
      "source": [
        "Though the accuracy score is high, we see bad results in F1 score and cofusion metrics. We will now use another metric called ROC AUC score which is used in the kaggle competition. "
      ]
    },
    {
      "cell_type": "markdown",
      "metadata": {
        "id": "_rOFLfMaFWuV"
      },
      "source": [
        "## Logistic Regression ROC AUC with Untouched Data"
      ]
    },
    {
      "cell_type": "code",
      "metadata": {
        "colab": {
          "base_uri": "https://localhost:8080/",
          "height": 413
        },
        "id": "fVpSVlSBFAMl",
        "outputId": "5ce64dcc-1768-4993-a4fc-4ca162caaf42"
      },
      "source": [
        "# roc curve and auc\n",
        "from sklearn.datasets import make_classification\n",
        "from sklearn.metrics import roc_curve\n",
        "from sklearn.metrics import roc_auc_score\n",
        "from matplotlib import pyplot\n",
        "\n",
        "# predict probabilities\n",
        "yhat = LRmodel.predict_proba(X_valid)\n",
        "# keep probabilities for the positive outcome only\n",
        "yhat = yhat[:, 1]\n",
        "# calculate scores\n",
        "lr_auc = roc_auc_score(y_valid, yhat)\n",
        "# summarize scores\n",
        "print('Logistic: ROC AUC=%.3f' % (lr_auc))\n",
        "# calculate roc curves\n",
        "fpr, tpr, thresholds = roc_curve(y_valid, yhat)\n",
        "# plot the roc curve for the model\n",
        "pyplot.plot([0,1], [0,1], linestyle='--', label='No Skill')\n",
        "pyplot.plot(fpr, tpr, marker='.', label='Logistic with Untouched data')\n",
        "# axis labels\n",
        "pyplot.xlabel('False Positive Rate')\n",
        "pyplot.ylabel('True Positive Rate')\n",
        "pyplot.legend()\n",
        "# show the plot\n",
        "pyplot.show()"
      ],
      "execution_count": null,
      "outputs": [
        {
          "output_type": "stream",
          "name": "stdout",
          "text": [
            "Logistic: ROC AUC=0.807\n"
          ]
        },
        {
          "output_type": "display_data",
          "data": {
            "image/png": "[encoded data removed]",
            "text/plain": [
              "<Figure size 720x432 with 1 Axes>"
            ]
          },
          "metadata": {
            "needs_background": "light"
          }
        }
      ]
    },
    {
      "cell_type": "markdown",
      "metadata": {
        "id": "8kYQR4haUZS4"
      },
      "source": [
        "# Under & Oversampling Skewed Data\n",
        "\n",
        "Imbalance is a common phenomenon in Binary Classification Problem. Not surprisingly, there is a skewness in the target data in this problem also.This bias can influence many machine learning algorithm. And, it can cause ignoring minority class entirely. The problem can be reduced by wither undersampling majority class or oversampling minority class or finding a sweet spot between the two. So, we would use the last approach to improve performance of some of the models. Lets see what happens when we deliberately balance the imbalanced data and how it affects the ROC AUC score in validation and test data.\n",
        "\n",
        "To know more: https://machinelearningmastery.com/random-oversampling-and-undersampling-for-imbalanced-classification/"
      ]
    },
    {
      "cell_type": "code",
      "metadata": {
        "colab": {
          "base_uri": "https://localhost:8080/"
        },
        "id": "4zkHg9KSfhzD",
        "outputId": "7c937c17-6e39-4d89-c4e5-8d1e97edec26"
      },
      "source": [
        "!pip install -U imbalanced-learn\n",
        "!pip install six "
      ],
      "execution_count": null,
      "outputs": [
        {
          "output_type": "stream",
          "name": "stdout",
          "text": [
            "Requirement already satisfied: imbalanced-learn in /usr/local/lib/python3.7/dist-packages (0.4.3)\n",
            "Collecting imbalanced-learn\n",
            "  Downloading imbalanced_learn-0.8.1-py3-none-any.whl (189 kB)\n",
            "\u001b[K     |████████████████████████████████| 189 kB 5.1 MB/s \n",
            "\u001b[?25hRequirement already satisfied: joblib>=0.11 in /usr/local/lib/python3.7/dist-packages (from imbalanced-learn) (1.0.1)\n",
            "Requirement already satisfied: numpy>=1.13.3 in /usr/local/lib/python3.7/dist-packages (from imbalanced-learn) (1.19.5)\n",
            "Requirement already satisfied: scikit-learn>=0.24 in /usr/local/lib/python3.7/dist-packages (from imbalanced-learn) (1.0)\n",
            "Requirement already satisfied: scipy>=0.19.1 in /usr/local/lib/python3.7/dist-packages (from imbalanced-learn) (1.4.1)\n",
            "Requirement already satisfied: threadpoolctl>=2.0.0 in /usr/local/lib/python3.7/dist-packages (from scikit-learn>=0.24->imbalanced-learn) (3.0.0)\n",
            "Installing collected packages: imbalanced-learn\n",
            "  Attempting uninstall: imbalanced-learn\n",
            "    Found existing installation: imbalanced-learn 0.4.3\n",
            "    Uninstalling imbalanced-learn-0.4.3:\n",
            "      Successfully uninstalled imbalanced-learn-0.4.3\n",
            "Successfully installed imbalanced-learn-0.8.1\n",
            "Requirement already satisfied: six in /usr/local/lib/python3.7/dist-packages (1.15.0)\n"
          ]
        }
      ]
    },
    {
      "cell_type": "code",
      "metadata": {
        "id": "O-DXtrHlnKia"
      },
      "source": [
        "from imblearn.combine import SMOTEENN\n",
        "\n",
        "# define sampling strategy\n",
        "sample = SMOTEENN(sampling_strategy=0.5)\n",
        "# fit and apply the transform\n",
        "X_over, y_over = sample.fit_resample(X, y)\n",
        "\n"
      ],
      "execution_count": null,
      "outputs": []
    },
    {
      "cell_type": "code",
      "metadata": {
        "colab": {
          "base_uri": "https://localhost:8080/"
        },
        "id": "wiSuXgxdg37o",
        "outputId": "f101caab-d492-4fb0-c401-7832adfb80a1"
      },
      "source": [
        "X_train_new, X_valid_new, y_train_new, y_valid_new = train_test_split(X_over, y_over, train_size=0.8, test_size=0.2,random_state=2)\n",
        "scaler1 = StandardScaler().fit(X_train_new)\n",
        "X_train_new = scaler1.transform(X_train_new)\n",
        "X_valid_new = scaler1.transform(X_valid_new)\n",
        "\n",
        "LRmodelBalanced = LogisticRegression(max_iter= 300, solver= 'lbfgs')\n",
        "\n",
        "LRmodelBalanced.fit(X_train_new, y_train_new)\n",
        "\n",
        "# implementing model and scoring\n",
        "predictions = LRmodelBalanced.predict(X_valid_new)\n",
        "print(classification_report(y_valid_new, predictions))\n",
        "print(\"Accuracy:\",metrics.accuracy_score(y_valid_new, predictions))"
      ],
      "execution_count": null,
      "outputs": [
        {
          "output_type": "stream",
          "name": "stdout",
          "text": [
            "              precision    recall  f1-score   support\n",
            "\n",
            "           0       0.78      0.92      0.85     20386\n",
            "           1       0.76      0.49      0.60     10244\n",
            "\n",
            "    accuracy                           0.78     30630\n",
            "   macro avg       0.77      0.71      0.72     30630\n",
            "weighted avg       0.78      0.78      0.76     30630\n",
            "\n",
            "Accuracy: 0.7780933725106105\n"
          ]
        }
      ]
    },
    {
      "cell_type": "markdown",
      "metadata": {
        "id": "7dGoCxPt7mmq"
      },
      "source": [
        "Here you can see, with a reduced accuracy score, the models precision, recall and f1 score has improved greatly with the balacned data. "
      ]
    },
    {
      "cell_type": "markdown",
      "metadata": {
        "id": "7qWRFM287C1v"
      },
      "source": [
        "We can also look at the confusion metrics for balanced data to have a good visualization of what is happenning. "
      ]
    },
    {
      "cell_type": "code",
      "metadata": {
        "colab": {
          "base_uri": "https://localhost:8080/",
          "height": 433
        },
        "id": "Uj7POqsM5czp",
        "outputId": "6ad611ea-31b5-46cc-9e6b-4fbf17eb0295"
      },
      "source": [
        "val_preds = predict_and_plot(X_valid_new, y_valid_new, LRmodelBalanced, 'Validatiaon')"
      ],
      "execution_count": null,
      "outputs": [
        {
          "output_type": "stream",
          "name": "stdout",
          "text": [
            "Accuracy: 77.81%\n"
          ]
        },
        {
          "output_type": "display_data",
          "data": {
            "image/png": "[encoded data removed]",
            "text/plain": [
              "<Figure size 720x432 with 2 Axes>"
            ]
          },
          "metadata": {
            "needs_background": "light"
          }
        }
      ]
    },
    {
      "cell_type": "markdown",
      "metadata": {
        "id": "S_bliq4z1qE5"
      },
      "source": [
        "In the above plot we see though the accuracy score is reduced, confusion metrics has improved greatly."
      ]
    },
    {
      "cell_type": "markdown",
      "metadata": {
        "id": "DqfeyWqeTF9U"
      },
      "source": [
        "## Logistic Regression ROC AUC with Balanced Data"
      ]
    },
    {
      "cell_type": "code",
      "metadata": {
        "colab": {
          "base_uri": "https://localhost:8080/",
          "height": 413
        },
        "id": "A7bO1ktNMkNQ",
        "outputId": "22c9dc92-be66-4f11-8ac4-c01c7a59169d"
      },
      "source": [
        "# predict probabilities\n",
        "yhat = LRmodelBalanced.predict_proba(X_valid_new)\n",
        "# keep probabilities for the positive outcome only\n",
        "yhat = yhat[:, 1]\n",
        "# calculate scores\n",
        "lr_auc = roc_auc_score(y_valid_new, yhat)\n",
        "# summarize scores\n",
        "print('Logistic: ROC AUC=%.3f' % (lr_auc))\n",
        "# calculate roc curves\n",
        "fpr, tpr, thresholds = roc_curve(y_valid_new, yhat)\n",
        "# plot the roc curve for the model\n",
        "pyplot.plot([0,1], [0,1], linestyle='--', label='No Skill')\n",
        "pyplot.plot(fpr, tpr, marker='.', label='Logistic with Balanced data')\n",
        "# axis labels\n",
        "pyplot.xlabel('False Positive Rate')\n",
        "pyplot.ylabel('True Positive Rate')\n",
        "pyplot.legend()\n",
        "# show the plot\n",
        "pyplot.show()"
      ],
      "execution_count": null,
      "outputs": [
        {
          "output_type": "stream",
          "name": "stdout",
          "text": [
            "Logistic: ROC AUC=0.827\n"
          ]
        },
        {
          "output_type": "display_data",
          "data": {
            "image/png": "[encoded data removed]",
            "text/plain": [
              "<Figure size 720x432 with 1 Axes>"
            ]
          },
          "metadata": {
            "needs_background": "light"
          }
        }
      ]
    },
    {
      "cell_type": "markdown",
      "metadata": {
        "id": "EG7MlSxbUuL4"
      },
      "source": [
        "Clearly ROC AUC score is slightly greater in the Balanced Data than the raw data.  "
      ]
    },
    {
      "cell_type": "markdown",
      "metadata": {
        "id": "zjzhfDumfpOb"
      },
      "source": [
        "## Now, we will try other models to improve our ROC AUC score"
      ]
    },
    {
      "cell_type": "markdown",
      "metadata": {
        "id": "wO3uXEL1Y7QU"
      },
      "source": [
        "# Model type 2: Random Forest Classifier"
      ]
    },
    {
      "cell_type": "code",
      "metadata": {
        "colab": {
          "base_uri": "https://localhost:8080/",
          "height": 413
        },
        "id": "deVn3cEw4F7-",
        "outputId": "433d1469-8f58-4518-ac0d-a03a0b98acd7"
      },
      "source": [
        "from sklearn.ensemble import RandomForestClassifier\n",
        "rfc_model = RandomForestClassifier(n_estimators=220)\n",
        "rfc_model.fit(X_train, y_train)\n",
        "# predict probabilities\n",
        "yhat = rfc_model.predict_proba(X_valid)\n",
        "# keep probabilities for the positive outcome only\n",
        "yhat = yhat[:, 1]\n",
        "# calculate scores\n",
        "rfc_auc = roc_auc_score(y_valid, yhat)\n",
        "# summarize scores\n",
        "print('Random Forest: ROC AUC=%.3f' % (rfc_auc))\n",
        "# calculate roc curves\n",
        "fpr, tpr, thresholds = roc_curve(y_valid, yhat)\n",
        "# plot the roc curve for the model\n",
        "pyplot.plot([0,1], [0,1], linestyle='--', label='No Skill')\n",
        "pyplot.plot(fpr, tpr, marker='.', label='Random Forest with untouched data')\n",
        "# axis labels\n",
        "pyplot.xlabel('False Positive Rate')\n",
        "pyplot.ylabel('True Positive Rate')\n",
        "pyplot.legend()\n",
        "# show the plot\n",
        "pyplot.show()"
      ],
      "execution_count": null,
      "outputs": [
        {
          "output_type": "stream",
          "name": "stdout",
          "text": [
            "Random Forest: ROC AUC=0.839\n"
          ]
        },
        {
          "output_type": "display_data",
          "data": {
            "image/png": "[encoded data removed]",
            "text/plain": [
              "<Figure size 720x432 with 1 Axes>"
            ]
          },
          "metadata": {
            "needs_background": "light"
          }
        }
      ]
    },
    {
      "cell_type": "code",
      "metadata": {
        "colab": {
          "base_uri": "https://localhost:8080/",
          "height": 413
        },
        "id": "fYN6VZrCS7Mv",
        "outputId": "8ed9ad69-e7da-4fab-8ebe-54116e6171fc"
      },
      "source": [
        "rfc_model_balanced = RandomForestClassifier(n_estimators=220)\n",
        "rfc_model_balanced.fit(X_train_new, y_train_new)\n",
        "# predict probabilities\n",
        "yhat = rfc_model_balanced.predict_proba(X_valid_new)\n",
        "# keep probabilities for the positive outcome only\n",
        "yhat = yhat[:, 1]\n",
        "# calculate scores\n",
        "rfc_auc = roc_auc_score(y_valid_new, yhat)\n",
        "# summarize scores\n",
        "print('Random Forest: ROC AUC=%.3f' % (rfc_auc))\n",
        "# calculate roc curves\n",
        "fpr, tpr, thresholds = roc_curve(y_valid_new, yhat)\n",
        "# plot the roc curve for the model\n",
        "pyplot.plot([0,1], [0,1], linestyle='--', label='No Skill')\n",
        "pyplot.plot(fpr, tpr, marker='.', label='Random Forest with Balanced data')\n",
        "# axis labels\n",
        "pyplot.xlabel('False Positive Rate')\n",
        "pyplot.ylabel('True Positive Rate')\n",
        "pyplot.legend()\n",
        "# show the plot\n",
        "pyplot.show()"
      ],
      "execution_count": null,
      "outputs": [
        {
          "output_type": "stream",
          "name": "stdout",
          "text": [
            "Random Forest: ROC AUC=0.974\n"
          ]
        },
        {
          "output_type": "display_data",
          "data": {
            "image/png": "[encoded data removed]",
            "text/plain": [
              "<Figure size 720x432 with 1 Axes>"
            ]
          },
          "metadata": {
            "needs_background": "light"
          }
        }
      ]
    },
    {
      "cell_type": "markdown",
      "metadata": {
        "id": "DjPCCPv17z5X"
      },
      "source": [
        "ROC AUC score is higher for balanced data. "
      ]
    },
    {
      "cell_type": "markdown",
      "metadata": {
        "id": "eOOF4NEPeiI5"
      },
      "source": [
        "# Model Type 3: XGBoost"
      ]
    },
    {
      "cell_type": "code",
      "metadata": {
        "colab": {
          "base_uri": "https://localhost:8080/",
          "height": 413
        },
        "id": "k-rUDfE15hrv",
        "outputId": "28dab3df-0415-4829-ea1c-09d869f2f9cd"
      },
      "source": [
        "import xgboost as xgb\n",
        "xgb_model = xgb.XGBClassifier(n_jobs = -1, n_estimators = 220, random_state= 2)\n",
        "xgb_model.fit(X_train, y_train)\n",
        "# predict probabilities\n",
        "yhat = xgb_model.predict_proba(X_valid)\n",
        "# keep probabilities for the positive outcome only\n",
        "yhat = yhat[:, 1]\n",
        "# calculate scores\n",
        "rfc_auc = roc_auc_score(y_valid, yhat)\n",
        "# summarize scores\n",
        "print('XGboost: ROC AUC=%.3f' % (rfc_auc))\n",
        "# calculate roc curves\n",
        "fpr, tpr, thresholds = roc_curve(y_valid, yhat)\n",
        "# plot the roc curve for the model\n",
        "pyplot.plot([0,1], [0,1], linestyle='--', label='No Skill')\n",
        "pyplot.plot(fpr, tpr, marker='.', label='XGboost with Untouched data')\n",
        "# axis labels\n",
        "pyplot.xlabel('False Positive Rate')\n",
        "pyplot.ylabel('True Positive Rate')\n",
        "pyplot.legend()\n",
        "# show the plot\n",
        "pyplot.show()"
      ],
      "execution_count": null,
      "outputs": [
        {
          "output_type": "stream",
          "name": "stdout",
          "text": [
            "XGboost: ROC AUC=0.858\n"
          ]
        },
        {
          "output_type": "display_data",
          "data": {
            "image/png": "[encoded data removed]",
            "text/plain": [
              "<Figure size 720x432 with 1 Axes>"
            ]
          },
          "metadata": {
            "needs_background": "light"
          }
        }
      ]
    },
    {
      "cell_type": "code",
      "metadata": {
        "colab": {
          "base_uri": "https://localhost:8080/",
          "height": 413
        },
        "id": "Iyde55F2cbCk",
        "outputId": "dc6eaa78-d530-408a-f689-c15f8c6336ef"
      },
      "source": [
        "import xgboost as xgb\n",
        "xgb_model_balanced = xgb.XGBClassifier(n_jobs = -1, n_estimators = 220, random_state=3)\n",
        "xgb_model_balanced.fit(X_train_new, y_train_new)\n",
        "# predict probabilities\n",
        "yhat = xgb_model_balanced.predict_proba(X_valid_new)\n",
        "# keep probabilities for the positive outcome only\n",
        "yhat = yhat[:, 1]\n",
        "# calculate scores\n",
        "rfc_auc = roc_auc_score(y_valid_new, yhat)\n",
        "# summarize scores\n",
        "print('XGboost: ROC AUC=%.3f' % (rfc_auc))\n",
        "# calculate roc curves\n",
        "fpr, tpr, thresholds = roc_curve(y_valid_new, yhat)\n",
        "# plot the roc curve for the model\n",
        "pyplot.plot([0,1], [0,1], linestyle='--', label='No Skill')\n",
        "pyplot.plot(fpr, tpr, marker='.', label='XGboost with Balanced data')\n",
        "# axis labels\n",
        "pyplot.xlabel('False Positive Rate')\n",
        "pyplot.ylabel('True Positive Rate')\n",
        "pyplot.legend()\n",
        "# show the plot\n",
        "pyplot.show()"
      ],
      "execution_count": null,
      "outputs": [
        {
          "output_type": "stream",
          "name": "stdout",
          "text": [
            "XGboost: ROC AUC=0.956\n"
          ]
        },
        {
          "output_type": "display_data",
          "data": {
            "image/png": "[encoded data removed]",
            "text/plain": [
              "<Figure size 720x432 with 1 Axes>"
            ]
          },
          "metadata": {
            "needs_background": "light"
          }
        }
      ]
    },
    {
      "cell_type": "markdown",
      "metadata": {
        "id": "i-hQhPzxTO1c"
      },
      "source": [
        "# Score Summary\n",
        "\n",
        "Now, we will present a summary of our models in a pandas dataframe."
      ]
    },
    {
      "cell_type": "code",
      "metadata": {
        "colab": {
          "base_uri": "https://localhost:8080/",
          "height": 143
        },
        "id": "URn-wuXkTlmc",
        "outputId": "ad0a59df-5286-49c5-f19d-e38256ba1523"
      },
      "source": [
        "data = {'Name': ['Logistic Regression', 'Rabdom Forest', 'XGboost'], 'ROC_AUC': [0.807,0.839,0.858], 'ROC_AUC_Balanced':[0.827,0.974,0.956]}  \n",
        "summary_df = pd.DataFrame(data)  \n",
        "summary_df"
      ],
      "execution_count": null,
      "outputs": [
        {
          "output_type": "execute_result",
          "data": {
            "text/html": [
              "<div>\n",
              "<style scoped>\n",
              "    .dataframe tbody tr th:only-of-type {\n",
              "        vertical-align: middle;\n",
              "    }\n",
              "\n",
              "    .dataframe tbody tr th {\n",
              "        vertical-align: top;\n",
              "    }\n",
              "\n",
              "    .dataframe thead th {\n",
              "        text-align: right;\n",
              "    }\n",
              "</style>\n",
              "<table border=\"1\" class=\"dataframe\">\n",
              "  <thead>\n",
              "    <tr style=\"text-align: right;\">\n",
              "      <th></th>\n",
              "      <th>Name</th>\n",
              "      <th>ROC_AUC</th>\n",
              "      <th>ROC_AUC_Balanced</th>\n",
              "    </tr>\n",
              "  </thead>\n",
              "  <tbody>\n",
              "    <tr>\n",
              "      <th>0</th>\n",
              "      <td>Logistic Regression</td>\n",
              "      <td>0.807</td>\n",
              "      <td>0.827</td>\n",
              "    </tr>\n",
              "    <tr>\n",
              "      <th>1</th>\n",
              "      <td>Rabdom Forest</td>\n",
              "      <td>0.839</td>\n",
              "      <td>0.974</td>\n",
              "    </tr>\n",
              "    <tr>\n",
              "      <th>2</th>\n",
              "      <td>XGboost</td>\n",
              "      <td>0.858</td>\n",
              "      <td>0.956</td>\n",
              "    </tr>\n",
              "  </tbody>\n",
              "</table>\n",
              "</div>"
            ],
            "text/plain": [
              "                  Name  ROC_AUC  ROC_AUC_Balanced\n",
              "0  Logistic Regression    0.807             0.827\n",
              "1        Rabdom Forest    0.839             0.974\n",
              "2              XGboost    0.858             0.956"
            ]
          },
          "metadata": {},
          "execution_count": 41
        }
      ]
    },
    {
      "cell_type": "markdown",
      "metadata": {
        "id": "tBgMmetwWqmi"
      },
      "source": [
        "# How to submit in the Kaggle Competition\n",
        "\n",
        "You can follow the following procedure to submit in the kaggle competitiom"
      ]
    },
    {
      "cell_type": "code",
      "metadata": {
        "colab": {
          "base_uri": "https://localhost:8080/"
        },
        "id": "g9iCalsRXIyq",
        "outputId": "ccfc58f1-4d79-43e6-9615-547b2568f89a"
      },
      "source": [
        "#check missing values in test data\n",
        "test_df.isnull().sum()"
      ],
      "execution_count": null,
      "outputs": [
        {
          "output_type": "execute_result",
          "data": {
            "text/plain": [
              "RevolvingUtilizationOfUnsecuredLines        0\n",
              "age                                         0\n",
              "NumberOfTime30-59DaysPastDueNotWorse        0\n",
              "DebtRatio                                   0\n",
              "MonthlyIncome                           20103\n",
              "NumberOfOpenCreditLinesAndLoans             0\n",
              "NumberOfTimes90DaysLate                     0\n",
              "NumberRealEstateLoansOrLines                0\n",
              "NumberOfTime60-89DaysPastDueNotWorse        0\n",
              "NumberOfDependents                       2626\n",
              "dtype: int64"
            ]
          },
          "metadata": {},
          "execution_count": 42
        }
      ]
    },
    {
      "cell_type": "code",
      "metadata": {
        "id": "QTtwhIahW28T"
      },
      "source": [
        "#fill them with appropriate condition\n",
        "test_df['MonthlyIncome'].fillna(test_df['MonthlyIncome'].mean(),inplace=True)\n",
        "test_df['NumberOfDependents'].fillna(test_df['NumberOfDependents'].mode()[0], inplace=True)"
      ],
      "execution_count": null,
      "outputs": []
    },
    {
      "cell_type": "code",
      "metadata": {
        "id": "HYytEjszX8Dp"
      },
      "source": [
        "#scale test values \n",
        "test_df= scaler.transform(test_df)"
      ],
      "execution_count": null,
      "outputs": []
    },
    {
      "cell_type": "code",
      "metadata": {
        "id": "xxMkAH2gW85j"
      },
      "source": [
        "#predict with a model\n",
        "test_pred=LRmodel.predict_proba(test_df)[:,1]"
      ],
      "execution_count": null,
      "outputs": []
    },
    {
      "cell_type": "code",
      "metadata": {
        "colab": {
          "base_uri": "https://localhost:8080/",
          "height": 206
        },
        "id": "c4BQujOrYZ0X",
        "outputId": "46552aa9-3dcf-4269-c123-fb1bb8eb1fca"
      },
      "source": [
        "# Change the values of sample file with our predictions\n",
        "sampleEntry_df[\"Probability\"]= test_pred\n",
        "sampleEntry_df.head()"
      ],
      "execution_count": null,
      "outputs": [
        {
          "output_type": "execute_result",
          "data": {
            "text/html": [
              "<div>\n",
              "<style scoped>\n",
              "    .dataframe tbody tr th:only-of-type {\n",
              "        vertical-align: middle;\n",
              "    }\n",
              "\n",
              "    .dataframe tbody tr th {\n",
              "        vertical-align: top;\n",
              "    }\n",
              "\n",
              "    .dataframe thead th {\n",
              "        text-align: right;\n",
              "    }\n",
              "</style>\n",
              "<table border=\"1\" class=\"dataframe\">\n",
              "  <thead>\n",
              "    <tr style=\"text-align: right;\">\n",
              "      <th></th>\n",
              "      <th>Id</th>\n",
              "      <th>Probability</th>\n",
              "    </tr>\n",
              "  </thead>\n",
              "  <tbody>\n",
              "    <tr>\n",
              "      <th>0</th>\n",
              "      <td>1</td>\n",
              "      <td>0.041753</td>\n",
              "    </tr>\n",
              "    <tr>\n",
              "      <th>1</th>\n",
              "      <td>2</td>\n",
              "      <td>0.040330</td>\n",
              "    </tr>\n",
              "    <tr>\n",
              "      <th>2</th>\n",
              "      <td>3</td>\n",
              "      <td>0.033388</td>\n",
              "    </tr>\n",
              "    <tr>\n",
              "      <th>3</th>\n",
              "      <td>4</td>\n",
              "      <td>0.100004</td>\n",
              "    </tr>\n",
              "    <tr>\n",
              "      <th>4</th>\n",
              "      <td>5</td>\n",
              "      <td>0.071104</td>\n",
              "    </tr>\n",
              "  </tbody>\n",
              "</table>\n",
              "</div>"
            ],
            "text/plain": [
              "   Id  Probability\n",
              "0   1     0.041753\n",
              "1   2     0.040330\n",
              "2   3     0.033388\n",
              "3   4     0.100004\n",
              "4   5     0.071104"
            ]
          },
          "metadata": {},
          "execution_count": 50
        }
      ]
    },
    {
      "cell_type": "code",
      "metadata": {
        "id": "QLANK2iVYgT7"
      },
      "source": [
        "# Convert to CSV file\n",
        "sampleEntry_df.to_csv(\"submission.csv\",index=False)"
      ],
      "execution_count": null,
      "outputs": []
    },
    {
      "cell_type": "markdown",
      "metadata": {
        "id": "HyeeGYllY0I0"
      },
      "source": [
        "Now download the file using following command and upload on kaggle\n",
        "```\n",
        "from google.colab import files\n",
        "files.download(\"submission.csv\")\n",
        "```\n",
        "\n"
      ]
    },
    {
      "cell_type": "markdown",
      "metadata": {
        "id": "-fT4i-CASvKQ"
      },
      "source": [
        "# Kaggle Submission\n",
        "\n",
        "We submitted few late submissions during the project in kaggle competition for our dataset and got these scores. The best scores are highlighted with yellow color.\n",
        "\n",
        "NB: After these submission, we changed some parameters and tested some other data engineering techniques. So our current model may give a slightly higher or lower score if you submit with the current models. "
      ]
    },
    {
      "cell_type": "markdown",
      "metadata": {
        "id": "4SFbMydrRKDh"
      },
      "source": [
        "![Kaggle Submission.JPG](data:image/jpeg;base64,/9j/4AAQSkZJRgABAQEAYABgAAD/4RDuRXhpZgAATU0AKgAAAAgABAE7AAIAAAAMAAAISodpAAQAAAABAAAIVpydAAEAAAAYAAAQzuocAAcAAAgMAAAAPgAAAAAc6gAAAAgAAAAAAAAAAAAAAAAAAAAAAAAAAAAAAAAAAAAAAAAAAAAAAAAAAAAAAAAAAAAAAAAAAAAAAAAAAAAAAAAAAAAAAAAAAAAAAAAAAAAAAAAAAAAAAAAAAAAAAAAAAAAAAAAAAAAAAAAAAAAAAAAAAAAAAAAAAAAAAAAAAAAAAAAAAAAAAAAAAAAAAAAAAAAAAAAAAAAAAAAAAAAAAAAAAAAAAAAAAAAAAAAAAAAAAAAAAAAAAAAAAAAAAAAAAAAAAAAAAAAAAAAAAAAAAAAAAAAAAAAAAAAAAAAAAAAAAAAAAAAAAAAAAAAAAAAAAAAAAAAAAAAAAAAAAAAAAAAAAAAAAAAAAAAAAAAAAAAAAAAAAAAAAAAAAAAAAAAAAAAAAAAAAAAAAAAAAAAAAAAAAAAAAAAAAAAAAAAAAAAAAAAAAAAAAAAAAAAAAAAAAAAAAAAAAAAAAAAAAAAAAAAAAAAAAAAAAAAAAAAAAAAAAAAAAAAAAAAAAAAAAAAAAAAAAAAAAAAAAAAAAAAAAAAAAAAAAAAAAAAAAAAAAAAAAAAAAAAAAAAAAAAAAAAAAAAAAAAAAAAAAAAAAAAAAAAAAAAAAAAAAAAAAAAAAAAAAAAAAAAAAAAAAAAAAAAAAAAAAAAAAAAAAAAAAAAAAAAAAAAAAAAAAAAAAAAAAAAAAAAAAAAAAAAAAAAAAAAAAAAAAAAAAAAAAAAAAAAAAAAAAAAAAAAAAAAAAAAAAAAAAAAAAAAAAAAAAAAAAAAAAAAAAAAAAAAAAAAAAAAAAAAAAAAAAAAAAAAAAAAAAAAAAAAAAAAAAAAAAAAAAAAAAAAAAAAAAAAAAAAAAAAAAAAAAAAAAAAAAAAAAAAAAAAAAAAAAAAAAAAAAAAAAAAAAAAAAAAAAAAAAAAAAAAAAAAAAAAAAAAAAAAAAAAAAAAAAAAAAAAAAAAAAAAAAAAAAAAAAAAAAAAAAAAAAAAAAAAAAAAAAAAAAAAAAAAAAAAAAAAAAAAAAAAAAAAAAAAAAAAAAAAAAAAAAAAAAAAAAAAAAAAAAAAAAAAAAAAAAAAAAAAAAAAAAAAAAAAAAAAAAAAAAAAAAAAAAAAAAAAAAAAAAAAAAAAAAAAAAAAAAAAAAAAAAAAAAAAAAAAAAAAAAAAAAAAAAAAAAAAAAAAAAAAAAAAAAAAAAAAAAAAAAAAAAAAAAAAAAAAAAAAAAAAAAAAAAAAAAAAAAAAAAAAAAAAAAAAAAAAAAAAAAAAAAAAAAAAAAAAAAAAAAAAAAAAAAAAAAAAAAAAAAAAAAAAAAAAAAAAAAAAAAAAAAAAAAAAAAAAAAAAAAAAAAAAAAAAAAAAAAAAAAAAAAAAAAAAAAAAAAAAAAAAAAAAAAAAAAAAAAAAAAAAAAAAAAAAAAAAAAAAAAAAAAAAAAAAAAAAAAAAAAAAAAAAAAAAAAAAAAAAAAAAAAAAAAAAAAAAAAAAAAAAAAAAAAAAAAAAAAAAAAAAAAAAAAAAAAAAAAAAAAAAAAAAAAAAAAAAAAAAAAAAAAAAAAAAAAAAAAAAAAAAAAAAAAAAAAAAAAAAAAAAAAAAAAAAAAAAAAAAAAAAAAAAAAAAAAAAAAAAAAAAAAAAAAAAAAAAAAAAAAAAAAAAAAAAAAAAAAAAAAAAAAAAAAAAAAAAAAAAAAAAAAAAAAAAAAAAAAAAAAAAAAAAAAAAAAAAAAAAAAAAAAAAAAAAAAAAAAAAAAAAAAAAAAAAAAAAAAAAAAAAAAAAAAAAAAAAAAAAAAAAAAAAAAAAAAAAAAAAAAAAAAAAAAAAAAAAAAAAAAAAAAAAAAAAAAAAAAAAAAAAAAAAAAAAAAAAAAAAAAAAAAAAAAAAAAAAAAAAAAAAAAAAAAAAAAAAAAAAAAAAAAAAAAAAAAAAAAAAAAAAAAAAAAAAAAAAAAAAAAAAAAAAAAAAAAAAAAAAAAAAAAAAAAAAAAAAAAAAAAAAAAAAAAAAAAAAAAAAAAAAAAAAAAAAAAAAAAAAAAAAAAAAAAAAAAAAAAAAAAAAAAAAAAAAAAAAAAAAAAAAAAAAAAAAAAAAAAAAAAAAAAAAAAAAAAAAAAAAAAAAAAAAAAAAAAAAAAAAAAAAAAAAAAAAAAAAAAAAAAAAAAAAAAAAAAAAAAAAAAAAAAAAAAAAAAAAAAAAAAAAAAAAAAAAAAAAAAAAAAAAAAAAAAAAAAAAAAAAAAAAAAAAAAAAAAAAAAAAAAAAAAAAAAAAAAAAAAAAAAAAAAAAAAAAAAAAAAAAAAAAAAAAAAAAAAAAAAAAAAAAAAAAAAAAAAAAAAAAAAAAAAAAAAAAAAAAAAAAAAAAAAAAAAAAAAAAAAAAAAAAAAAAAAAAAAAAAAAAAAAAAAAAAAAAAAAAAAAAAAAAAAAAAAAAAAAAAAAAAAAAAAAAAAAAAAAAAAAAAAAAAAAAAAAAAAAAAAAAAAAAAAAAAAAAAAAAAAAAAAAAAAAAAAAAAAAAAAAAAAAAAAAAAAAAAAAAAAAAAAAAAAAAAAAAAAAAAAAAAAAAAAAAAAAAAAAAAAAAAAAAAAAAAAAAAAAAAAAAAAAAAAAAAAAAAAAAAAAAAAAAAAAAAAAAAAAAAAAAAAAAAAAAAAAAAAAAAAAAAAAAAAAAAAAAAAAAAAAAAAAAAAAAAAAAAAAAAAAAAAAAAAAAAAAAAAAAAAAAAAAAAAAAAAAAAAAAAAAAAAAAAAAAAAAAAAAAAAAAAAAAAAAAAAAAAAFNoZWlraCBBc2lmAAAFkAMAAgAAABQAABCkkAQAAgAAABQAABC4kpEAAgAAAAM4OAAAkpIAAgAAAAM4OAAA6hwABwAACAwAAAiYAAAAABzqAAAACAAAAAAAAAAAAAAAAAAAAAAAAAAAAAAAAAAAAAAAAAAAAAAAAAAAAAAAAAAAAAAAAAAAAAAAAAAAAAAAAAAAAAAAAAAAAAAAAAAAAAAAAAAAAAAAAAAAAAAAAAAAAAAAAAAAAAAAAAAAAAAAAAAAAAAAAAAAAAAAAAAAAAAAAAAAAAAAAAAAAAAAAAAAAAAAAAAAAAAAAAAAAAAAAAAAAAAAAAAAAAAAAAAAAAAAAAAAAAAAAAAAAAAAAAAAAAAAAAAAAAAAAAAAAAAAAAAAAAAAAAAAAAAAAAAAAAAAAAAAAAAAAAAAAAAAAAAAAAAAAAAAAAAAAAAAAAAAAAAAAAAAAAAAAAAAAAAAAAAAAAAAAAAAAAAAAAAAAAAAAAAAAAAAAAAAAAAAAAAAAAAAAAAAAAAAAAAAAAAAAAAAAAAAAAAAAAAAAAAAAAAAAAAAAAAAAAAAAAAAAAAAAAAAAAAAAAAAAAAAAAAAAAAAAAAAAAAAAAAAAAAAAAAAAAAAAAAAAAAAAAAAAAAAAAAAAAAAAAAAAAAAAAAAAAAAAAAAAAAAAAAAAAAAAAAAAAAAAAAAAAAAAAAAAAAAAAAAAAAAAAAAAAAAAAAAAAAAAAAAAAAAAAAAAAAAAAAAAAAAAAAAAAAAAAAAAAAAAAAAAAAAAAAAAAAAAAAAAAAAAAAAAAAAAAAAAAAAAAAAAAAAAAAAAAAAAAAAAAAAAAAAAAAAAAAAAAAAAAAAAAAAAAAAAAAAAAAAAAAAAAAAAAAAAAAAAAAAAAAAAAAAAAAAAAAAAAAAAAAAAAAAAAAAAAAAAAAAAAAAAAAAAAAAAAAAAAAAAAAAAAAAAAAAAAAAAAAAAAAAAAAAAAAAAAAAAAAAAAAAAAAAAAAAAAAAAAAAAAAAAAAAAAAAAAAAAAAAAAAAAAAAAAAAAAAAAAAAAAAAAAAAAAAAAAAAAAAAAAAAAAAAAAAAAAAAAAAAAAAAAAAAAAAAAAAAAAAAAAAAAAAAAAAAAAAAAAAAAAAAAAAAAAAAAAAAAAAAAAAAAAAAAAAAAAAAAAAAAAAAAAAAAAAAAAAAAAAAAAAAAAAAAAAAAAAAAAAAAAAAAAAAAAAAAAAAAAAAAAAAAAAAAAAAAAAAAAAAAAAAAAAAAAAAAAAAAAAAAAAAAAAAAAAAAAAAAAAAAAAAAAAAAAAAAAAAAAAAAAAAAAAAAAAAAAAAAAAAAAAAAAAAAAAAAAAAAAAAAAAAAAAAAAAAAAAAAAAAAAAAAAAAAAAAAAAAAAAAAAAAAAAAAAAAAAAAAAAAAAAAAAAAAAAAAAAAAAAAAAAAAAAAAAAAAAAAAAAAAAAAAAAAAAAAAAAAAAAAAAAAAAAAAAAAAAAAAAAAAAAAAAAAAAAAAAAAAAAAAAAAAAAAAAAAAAAAAAAAAAAAAAAAAAAAAAAAAAAAAAAAAAAAAAAAAAAAAAAAAAAAAAAAAAAAAAAAAAAAAAAAAAAAAAAAAAAAAAAAAAAAAAAAAAAAAAAAAAAAAAAAAAAAAAAAAAAAAAAAAAAAAAAAAAAAAAAAAAAAAAAAAAAAAAAAAAAAAAAAAAAAAAAAAAAAAAAAAAAAAAAAAAAAAAAAAAAAAAAAAAAAAAAAAAAAAAAAAAAAAAAAAAAAAAAAAAAAAAAAAAAAAAAAAAAAAAAAAAAAAAAAAAAAAAAAAAAAAAAAAAAAAAAAAAAAAAAAAAAAAAAAAAAAAAAAAAAAAAAAAAAAAAAAAAAAAAAAAAAAAAAAAAAAAAAAAAAAAAAAAAAAAAAAAAAAAAAAAAAAAAAAAAAAAAAAAAAAAAAAAAAAAAAAAAAAAAAAAAAAAAAAAAAAAAAAAAAAAAAAAAAAAAAAAAAAAAAAAAAAAAAAAAAAAAAAAAAAAAAAAAAAAAAAAAAAAAAAAAAAAAAAAAAAAAAAAAAAAAAAAAAAAAAAAAAAAAAAAAAAAAAAAAAAAAAAAAAAAAAAAAAAAAAAAAAAAAAAAAAAAAAAAAAAAAAAAAAAAAAAAAAAAAAAAAAAAAAAAAAAAAAAAAAAAAAAAAAAAAAAAAAAAAAAAAAAAAAAAAAAAAAAAAAAAAAAAAAAAAAAAAAAAAAAAAAAAAAAAAAAAAAAAAAAAAAAAAAAAAAAAAAAAAAAAAAAAAAAAAAAAAAAAAAAAAAAAAAAAAAAAAAAAAAAAAAAAAAAAAAAAAAAAAAAAAAAAAAAAAAAAAAAAAAAAAAAAAAAAAAAAAAAAAAAAAAAAAAAAAAAAAAAAAAAAAAAAAAAAAAAAAAAAAAAAAAAAAAAAAAAAAAAAAAAAAAAAAAAAAAAAAAAAAAAAAAAAAAAAAAAAAAAAAAAAAAAAAAAAAAAAAAAAAAAAAAAAAAAAAAAAAAAAAAAAAAAAAAAAAAAAAAAAAAAAAAAAAAAAAAAAAAAAAAAAAAAAAAAAAAAAAAAAAAAAAAAAAAAAAAAAAAAAAAAAAAAAAAAAAAAAAAAAAAAAAAAAAAAAAAAAAAAAAAAAAAAAAAAAAAAAAAAAAAAAAAAAAAAAAAAAAAAAAAAAAAAAAAAAAAAAAAAAAAAAAAAAAAAAAAAAAAAAAAAAAAAAAAAAAAAAAAAAAAAAAAAAAAAAAAAAAAAAAAAAAAAAAAAAAAAAAAAAAAAAAAAAAAAAAAAAAAAAAAAAAAAAAAAAAAAAAAAAAAAAAAAAAAAAAAAAAAAAAAAAAAAAAAAAAAAAAAAAAAAAAAAAAAAAAAAAAAAMjAyMToxMDoxNCAxMTozMjoyOQAyMDIxOjEwOjE0IDExOjMyOjI5AAAAUwBoAGUAaQBrAGgAIABBAHMAaQBmAAAA/+ELHmh0dHA6Ly9ucy5hZG9iZS5jb20veGFwLzEuMC8APD94cGFja2V0IGJlZ2luPSfvu78nIGlkPSdXNU0wTXBDZWhpSHpyZVN6TlRjemtjOWQnPz4NCjx4OnhtcG1ldGEgeG1sbnM6eD0iYWRvYmU6bnM6bWV0YS8iPjxyZGY6UkRGIHhtbG5zOnJkZj0iaHR0cDovL3d3dy53My5vcmcvMTk5OS8wMi8yMi1yZGYtc3ludGF4LW5zIyI+PHJkZjpEZXNjcmlwdGlvbiByZGY6YWJvdXQ9InV1aWQ6ZmFmNWJkZDUtYmEzZC0xMWRhLWFkMzEtZDMzZDc1MTgyZjFiIiB4bWxuczpkYz0iaHR0cDovL3B1cmwub3JnL2RjL2VsZW1lbnRzLzEuMS8iLz48cmRmOkRlc2NyaXB0aW9uIHJkZjphYm91dD0idXVpZDpmYWY1YmRkNS1iYTNkLTExZGEtYWQzMS1kMzNkNzUxODJmMWIiIHhtbG5zOnhtcD0iaHR0cDovL25zLmFkb2JlLmNvbS94YXAvMS4wLyI+PHhtcDpDcmVhdGVEYXRlPjIwMjEtMTAtMTRUMTE6MzI6MjkuODc2PC94bXA6Q3JlYXRlRGF0ZT48L3JkZjpEZXNjcmlwdGlvbj48cmRmOkRlc2NyaXB0aW9uIHJkZjphYm91dD0idXVpZDpmYWY1YmRkNS1iYTNkLTExZGEtYWQzMS1kMzNkNzUxODJmMWIiIHhtbG5zOmRjPSJodHRwOi8vcHVybC5vcmcvZGMvZWxlbWVudHMvMS4xLyI+PGRjOmNyZWF0b3I+PHJkZjpTZXEgeG1sbnM6cmRmPSJodHRwOi8vd3d3LnczLm9yZy8xOTk5LzAyLzIyLXJkZi1zeW50YXgtbnMjIj48cmRmOmxpPlNoZWlraCBBc2lmPC9yZGY6bGk+PC9yZGY6U2VxPg0KCQkJPC9kYzpjcmVhdG9yPjwvcmRmOkRlc2NyaXB0aW9uPjwvcmRmOlJERj48L3g6eG1wbWV0YT4NCiAgICAgICAgICAgICAgICAgICAgICAgICAgICAgICAgICAgICAgICAgICAgICAgICAgICAgICAgICAgICAgICAgICAgICAgICAgICAgICAgICAgICAgICAgICAgICAgICAgICAKICAgICAgICAgICAgICAgICAgICAgICAgICAgICAgICAgICAgICAgICAgICAgICAgICAgICAgICAgICAgICAgICAgICAgICAgICAgICAgICAgICAgICAgICAgICAgICAgICAgIAogICAgICAgICAgICAgICAgICAgICAgICAgICAgICAgICAgICAgICAgICAgICAgICAgICAgICAgICAgICAgICAgICAgICAgICAgICAgICAgICAgICAgICAgICAgICAgICAgICAgCiAgICAgICAgICAgICAgICAgICAgICAgICAgICAgICAgICAgICAgICAgICAgICAgICAgICAgICAgICAgICAgICAgICAgICAgICAgICAgICAgICAgICAgICAgICAgICAgICAgICAKICAgICAgICAgICAgICAgICAgICAgICAgICAgICAgICAgICAgICAgICAgICAgICAgICAgICAgICAgICAgICAgICAgICAgICAgICAgICAgICAgICAgICAgICAgICAgICAgICAgIAogICAgICAgICAgICAgICAgICAgICAgICAgICAgICAgICAgICAgICAgICAgICAgICAgICAgICAgICAgICAgICAgICAgICAgICAgICAgICAgICAgICAgICAgICAgICAgICAgICAgCiAgICAgICAgICAgICAgICAgICAgICAgICAgICAgICAgICAgICAgICAgICAgICAgICAgICAgICAgICAgICAgICAgICAgICAgICAgICAgICAgICAgICAgICAgICAgICAgICAgICAKICAgICAgICAgICAgICAgICAgICAgICAgICAgICAgICAgICAgICAgICAgICAgICAgICAgICAgICAgICAgICAgICAgICAgICAgICAgICAgICAgICAgICAgICAgICAgICAgICAgIAogICAgICAgICAgICAgICAgICAgICAgICAgICAgICAgICAgICAgICAgICAgICAgICAgICAgICAgICAgICAgICAgICAgICAgICAgICAgICAgICAgICAgICAgICAgICAgICAgICAgCiAgICAgICAgICAgICAgICAgICAgICAgICAgICAgICAgICAgICAgICAgICAgICAgICAgICAgICAgICAgICAgICAgICAgICAgICAgICAgICAgICAgICAgICAgICAgICAgICAgICAKICAgICAgICAgICAgICAgICAgICAgICAgICAgICAgICAgICAgICAgICAgICAgICAgICAgICAgICAgICAgICAgICAgICAgICAgICAgICAgICAgICAgICAgICAgICAgICAgICAgIAogICAgICAgICAgICAgICAgICAgICAgICAgICAgICAgICAgICAgICAgICAgICAgICAgICAgICAgICAgICAgICAgICAgICAgICAgICAgICAgICAgICAgICAgICAgICAgICAgICAgCiAgICAgICAgICAgICAgICAgICAgICAgICAgICAgICAgICAgICAgICAgICAgICAgICAgICAgICAgICAgICAgICAgICAgICAgICAgICAgICAgICAgICAgICAgICAgICAgICAgICAKICAgICAgICAgICAgICAgICAgICAgICAgICAgICAgICAgICAgICAgICAgICAgICAgICAgICAgICAgICAgICAgICAgICAgICAgICAgICAgICAgICAgICAgICAgICAgICAgICAgIAogICAgICAgICAgICAgICAgICAgICAgICAgICAgICAgICAgICAgICAgICAgICAgICAgICAgICAgICAgICAgICAgICAgICAgICAgICAgICAgICAgICAgICAgICAgICAgICAgICAgCiAgICAgICAgICAgICAgICAgICAgICAgICAgICAgICAgICAgICAgICAgICAgICAgICAgICAgICAgICAgICAgICAgICAgICAgICAgICAgICAgICAgICAgICAgICAgICAgICAgICAKICAgICAgICAgICAgICAgICAgICAgICAgICAgICAgICAgICAgICAgICAgICAgICAgICAgICAgICAgICAgICAgICAgICAgICAgICAgICAgICAgICAgICAgICAgICAgICAgICAgIAogICAgICAgICAgICAgICAgICAgICAgICAgICAgICAgICAgICAgICAgICAgICAgICAgICAgICAgICAgICAgICAgICAgICAgICAgICAgICAgICAgICAgICAgICAgICAgICAgICAgCiAgICAgICAgICAgICAgICAgICAgICAgICAgICAgICAgICAgICAgICAgICAgICAgICAgICAgICAgICAgICAgICAgICAgICAgICAgICAgICAgICAgICAgICAgICAgICAgICAgICAKICAgICAgICAgICAgICAgICAgICAgICAgICAgICAgICAgICAgICAgICAgICAgICAgICAgICAgICAgICAgICAgICAgICAgICAgICAgICAgICAgICAgICAgICAgICAgICAgICAgIAogICAgICAgICAgICAgICAgICAgICAgICAgICAgPD94cGFja2V0IGVuZD0ndyc/Pv/bAEMABwUFBgUEBwYFBggHBwgKEQsKCQkKFQ8QDBEYFRoZGBUYFxseJyEbHSUdFxgiLiIlKCkrLCsaIC8zLyoyJyorKv/bAEMBBwgICgkKFAsLFCocGBwqKioqKioqKioqKioqKioqKioqKioqKioqKioqKioqKioqKioqKioqKioqKioqKioqKv/AABEIAfIC+wMBIgACEQEDEQH/xAAfAAABBQEBAQEBAQAAAAAAAAAAAQIDBAUGBwgJCgv/xAC1EAACAQMDAgQDBQUEBAAAAX0BAgMABBEFEiExQQYTUWEHInEUMoGRoQgjQrHBFVLR8CQzYnKCCQoWFxgZGiUmJygpKjQ1Njc4OTpDREVGR0hJSlNUVVZXWFlaY2RlZmdoaWpzdHV2d3h5eoOEhYaHiImKkpOUlZaXmJmaoqOkpaanqKmqsrO0tba3uLm6wsPExcbHyMnK0tPU1dbX2Nna4eLj5OXm5+jp6vHy8/T19vf4+fr/xAAfAQADAQEBAQEBAQEBAAAAAAAAAQIDBAUGBwgJCgv/xAC1EQACAQIEBAMEBwUEBAABAncAAQIDEQQFITEGEkFRB2FxEyIygQgUQpGhscEJIzNS8BVictEKFiQ04SXxFxgZGiYnKCkqNTY3ODk6Q0RFRkdISUpTVFVWV1hZWmNkZWZnaGlqc3R1dnd4eXqCg4SFhoeIiYqSk5SVlpeYmZqio6Slpqeoqaqys7S1tre4ubrCw8TFxsfIycrS09TV1tfY2dri4+Tl5ufo6ery8/T19vf4+fr/2gAMAwEAAhEDEQA/APomISlW2OgG9sAoT/EfepNs/wDz0j/79n/Gi3/1Z/33/wDQjUlAEe2f/npH/wB+z/jRtn/56R/9+z/jUlFAEe2f/npH/wB+z/jRtn/56R/9+z/jUlFAEe2f/npH/wB+z/jRtn/56R/9+z/jUlFAEe2f/npH/wB+z/jRtn/56R/9+z/jUlFAEe2f/npH/wB+z/jRtn/56R/9+z/jUlFAEe2f/npH/wB+z/jRtn/56R/9+z/jUlFAEe2f/npH/wB+z/jRtn/56R/9+z/jUlFAEe2f/npH/wB+z/jRtn/56R/9+z/jUlFAEe2f/npH/wB+z/jRtn/56R/9+z/jUlFAEe2f/npH/wB+z/jRtn/56R/9+z/jUlFAEe2f/npH/wB+z/jRtn/56R/9+z/jUlFAEe2f/npH/wB+z/jRtn/56R/9+z/jUlFAEe2f/npH/wB+z/jRtn/56R/9+z/jUlFAEe2f/npH/wB+z/jRtn/56R/9+z/jUlFAEe2f/npH/wB+z/jRtn/56R/9+z/jUlFAEe2f/npH/wB+z/jRtn/56R/9+z/jUlFAEe2f/npH/wB+z/jRtn/56R/9+z/jUlFAEe2f/npH/wB+z/jRtn/56R/9+z/jUlFAEe2f/npH/wB+z/jRtn/56R/9+z/jUlFAEe2f/npH/wB+z/jRtn/56R/9+z/jUlFAEe2f/npH/wB+z/jRtn/56R/9+z/jUlFAEe2f/npH/wB+z/jRtn/56R/9+z/jUlFAEe2f/npH/wB+z/jRtn/56R/9+z/jUlFAEe2f/npH/wB+z/jRtn/56R/9+z/jUlFAEe2f/npH/wB+z/jRtn/56R/9+z/jUlFAEe2f/npH/wB+z/jRtn/56R/9+z/jUlFAEe2f/npH/wB+z/jRtn/56R/9+z/jUlFAEe2f/npH/wB+z/jRtn/56R/9+z/jUlFAEe2f/npH/wB+z/jRtn/56R/9+z/jUlFAEe2f/npH/wB+z/jRtn/56R/9+z/jUlFAEe2f/npH/wB+z/jRtn/56R/9+z/jUlFAEe2f/npH/wB+z/jRtn/56R/9+z/jUlFAEe2f/npH/wB+z/jRtn/56R/9+z/jUlFAEe2f/npH/wB+z/jRtn/56R/9+z/jUlFAEe2f/npH/wB+z/jRtn/56R/9+z/jUlFAEe2f/npH/wB+z/jRtn/56R/9+z/jUlFAEe2f/npH/wB+z/jRtn/56R/9+z/jUlFAEe2f/npH/wB+z/jRtn/56R/9+z/jUlFAEe2f/npH/wB+z/jRtn/56R/9+z/jUlFAEe2f/npH/wB+z/jRtn/56R/9+z/jUlFAEe2f/npH/wB+z/jRtn/56R/9+z/jUlFAEe2f/npH/wB+z/jRtn/56R/9+z/jUlFAEe2f/npH/wB+z/jRtn/56R/9+z/jUlFAEe2f/npH/wB+z/jRtn/56R/9+z/jUlFAEe2f/npH/wB+z/jRtn/56R/9+z/jUlFAEe2f/npH/wB+z/jRtn/56R/9+z/jUlFAEe2f/npH/wB+z/jRbf8AHrF/uD+VSVHbf8esX+4P5UAFv/qz/vv/AOhGpKjt/wDVn/ff/wBCNSUAFFFFABRRRQAUUUUAFFFFABRRRQAUUUUAFFFFABRRRQAUUUUAFFFFABRRRQAUUUUAFFFFABRRRQAUUUUAFFFFABRRRQAUUUUAFFFFABRRRQAUUUUAFFFFABRRRQAUUUUAFFFFABRRRQAUUUUAFFFFABRRRQAUUUUAFFFFABRRRQAUUUUAFFFFABRRRQAUUUUAFFFFABRRRQAUUUUAFFFFABRRRQAUUUUAFFFFABRRRQAUUUUAFFFFABUdt/x6xf7g/lUlR23/AB6xf7g/lQAW/wDqz/vv/wChGpKjt/8AVn/ff/0I1JQBDebvscgSRYmIwGY4AP17elUoZ2tpRCBIrNIiusspkABB5Vic9u/p0rSdFkQo6hlYYKkZBFQrY2iwNCtrCImOWQRjaT7igCl9quLi8iWCWJCROPmBZTtdQOARk/jTTqVy6eZEIVVYonIZS27eSODkelX3srWSMRyW0LIucKYwQPwqQwxHOY0OQAflHIHT8qOgGc13cJIiyeW8iSumVyitiMsOMn6c59acLy7NuQNhuFcBl8ojaCM/d3fN+Dfyq+YYmOWjQnJPKjrjH8uKjFjaCEwi1hEZO4p5Yxn1xQBRW+keRvKKFnSIByG2gsWBO0njp04PYmni8u3mFujQiQO6tIYyVOApyF3e+OtXTawGMxmCPYyhSuwYKjoMelLHbwxKixRIgTIUKoG3PXFDArfbWbSorgbUklVcDaWG4+w5NQx3t3N5US+UkrNIrM0ZIG3H8Ib39avtBC8PktEhixjYVG38qI7eGIKIoo0C527VAxn0oAy5tQuJ9OlkiaOHZbCR8g5JYHoc8Yx15q1qILyWMe+RVknw3lyFCR5bnGQQeoFTvZWsmzzLaFtg2pmMHaPQelPmt4blAlxDHKoOQsihgD680xmf9qltw8MDGUeeIo3cGTb8m4g85buOvf2okv7qOBJJFjjVQ5mcoWACnGcBsgEZPfFXza25t/s5gjMIGBHsG38ulNNlasqK1tCVj+4DGML9PSkIgS5nd2k3wrEHZBGQdxIzznPPTOMdO9VW1C4jhgnk8ovJbmTjcqrlk4Izz9481p/ZYPPM/kR+aRgybBuI+tNms4Z4REyKqgBRtA4AIOB7cCjoHUo3FzeqDCssQlSaIGRYjtKsemN3X8elPS5neUwwGNHMkp3yBnGFIGMbh6+uOOlXFs7ZIDAtvEImOTGEG0/hRJaW80eyW3idd27ayAjPr9aP6/IDPGp3MkZmQRLHHHHIylSS24nIByMdODg1rUwwxHOY0O4AH5RyB0FPoEFFFFAwooooAKKKKACiiigAooooAKKKKACiiigAooooAKKKKACiiigAooooAKKKKACiiigAooooAKKKKACiiigDJ1gs15YxgXLo7PuS3mMbNheOQy/zotJb9JIradkG2JpH8wFnxuIVcg4zjGTz0rUaNGdXZFLJnaxHK59KPLTfv2ruxt3Y5x6UgMe21OcWtpGETzLiGJocknOfv5ycnA56046ncyTPHG0eySKVoX8ojaVwO7fN19BWoLeFfL2wxjyhiPCj5BjGB6U1LO2ilaWO3iSRskuqAE56803qMx11TUEt4VURzSLbLPI/lYD5zx975enJ569Kv6ksk0ECxSBC8g3R+cYmkGD8oYcg9+PSpzp9kUjQ2kBWM5RfKGFOc8ccc1JPbw3URiuYY5oz1SRQwP4Gm9RLQyoL2YiO2s38tlEjO14fMI2sAVyCM9euTx60+XU7gNLJH5HlQGMOuCxk3AHKtkcc8cHOO1XmsLN4Ehe1haKP7kZjG1foO1Pe0t5JkmkgiaWP7jsgLL9D2pAZkupXiglFjO+5aCMCMkrjdyfmGemMcf0q/YTy3FoHuECSBipA6HBxnGTj6Z4qV7aCSJopIY2jY5ZCoIJ65Ip0cUcMaxwosaKMKqjAH4ULYGOooooAKKKKAMC/FzNrV3Hbi7eRLaMw+VcbEjYl+WG4A9B2PSrbalKhlR/L3R3cUA4PIYISevX5j+VaQjQSNIEUOwAZgOSB0GfxP51G1nbPcee9vE03A8woC3ByOevWmDMaC+u10+PzJUkSZJVUrnzEKhjktnnp6DHHWpYr6dcRxbRLLJHGJJdzKpMW7JGfbGBjrWmljaRuzx20Ksy7WZYwCR6H2pzWlu8bRvBEyPjcpQEHHTNSlYCtLJNJpMhNzAk3K+ajYTIOOvb074PrVOO5ezWWCMSJPvjXbcTGZE3kgMGJ3EcHgkduma1xBEsHkLEgixt8sKNuPTFRR2FnDbtbxWsCQv8AejWMBW+op9QKbXl55yWyzWnmhHd5dpKnaQMbd3B555OKhOsXLQyXCRxrFHaxzmNlJYl88ZzgAYHatJrCzeBIXtIGiQ5VDGCqn2FS+VHlj5a5ZQrHb1Hofbk0dAKun3NzMZUu0AZMYYJsyD/s7jj86u1FBbQWqFLaGOFSclY1CjP4VLQAVU1N3js1ZGZT50WSDjjzFz+GM1bpGVXQq6hlYYIIyCKAKNxPNHeziD5mWBNqE8AlmGcZHP4jOKiN/cMsUcRUytv3N5DYG0jjbuBzz61eSytY4WhjtoVif7yCMBW+opGsrV4BC9tC0SnIQxgqD64oAqX8txLo0ToRBJI8QYcnG51BHBHrTku5xIhPleSZjBsCndkZGc59s4x071eMaMgRkUqCCFI4GOR+WKYLaAXBnEMfnEYMmwbvzoDoV7eeebSTPMyBnjLL5akbePqarRBoNLWUrLubysmS4d85Yc9eOtagjRY/LVFCAY2gcY9MUGNDGEKKUGMLjgY6UAZyajMoEs5iELeaAAhyuwnknJzwPSmG8uX/AHcxCss0PzIpTKs3TG4nt/8AWrT8iLaB5SYGcDaOM9fzpkdpbRLtit4kGQcKgHI6flR1E72sVr5HknXazOioS0UU5jcf7QwRn8SBSJdSykGCWMQoiMzTKdzhu+QQB+R5q3PaW9zt+0wRzbfu+YgbH50PawSSJJJBGzx/cZkBK/Q9qBlB9QuI0Ex8oxu0iogU7lKhjknPP3emB1olvb1AFQRs4i81sRHBznC/e46deevSr4tLcSvKIIvMkGHfYMsPQnvRLaW8+zz4IpNn3d6A7fp6UASKdygkYyM49KWiigAqO2/49Yv9wfyqSo7b/j1i/wBwfyoAbCpKNh2HzvwMf3jUmw/89G/If4U23/1Z/wB9/wD0I1JQA3Yf+ejfkP8ACjYf+ejfkP8ACnUUAN2H/no35D/CjYf+ejfkP8KdRQA3Yf8Ano35D/CjYf8Ano35D/CnZGcZ564ooAbsP/PRvyH+FGw/89G/If4U7IyRnkdRRQA3Yf8Ano35D/CjYf8Ano35D/CnUUAN2H/no35D/CjYf+ejfkP8KdRQA3Yf+ejfkP8ACjYf+ejfkP8ACnUUAN2H/no35D/CjYf+ejfkP8KdRQA3Yf8Ano35D/CjYf8Ano35D/CnUUAN2H/no35D/CjYf+ejfkP8KdRQA3Yf+ejfkP8ACjYf+ejfkP8ACnUUAN2H/no35D/CjYf+ejfkP8KdRQA3Yf8Ano35D/CjYf8Ano35D/CnUUAN2H/no35D/CjYf+ejfkP8KdRQA3Yf+ejfkP8ACjYf+ejfkP8ACnUUAN2H/no35D/CjYf+ejfkP8KdRQA3Yf8Ano35D/CjYf8Ano35D/CnUUAN2H/no35D/CjYf+ejfkP8KdRQA3Yf+ejfkP8ACjYf+ejfkP8ACnUUAN2H/no35D/CjYf+ejfkP8KdRQA3Yf8Ano35D/CjYf8Ano35D/CnUUAN2H/no35D/CjYf+ejfkP8KdRQA3Yf+ejfkP8ACjYf+ejfkP8ACnUUAN2H/no35D/CjYf+ejfkP8KdRQA3Yf8Ano35D/CjYf8Ano35D/CnUUAN2H/no35D/CjYf+ejfkP8KdRQA3Yf+ejfkP8ACjYf+ejfkP8ACm3H/HrL/uH+VYVfLZ5xB/ZNSEPZc3Mr72/Rm9Kl7RXub+w/89G/If4UbD/z0b8h/hWCrFGypKkdwasLqFwrAlw3sVHNeXh+NsLP+PScfS0vv+H8mW8NLozW2H/no35D/CjYf+ejfkP8KoR6pziZB9V/wqddRt2HLFT6Ef4V9Bh+IcrxCvGsl/i938zJ0ZroWNh/56N+Q/wo2H/no35D/Coft9t/z0/8dNH2+2/56f8Ajprr/tbLv+f8P/Ao/wCZPs59ibYf+ejfkP8ACjYf+ejfkP8ACo47uCVwiPlj0GDU1ddDEUcRHnozUltdNP8AIlprcbsP/PRvyH+FGw/89G/If4U6itxDdh/56N+Q/wAKNh/56N+Q/wAKdRQAxhsXLSlQO5x/hTPNi/5+l/76Wm3/APx4yfh/MVjV8Zn3EdXKsTGhCCknFPX1a/Q6KVFTjds39h/56N+Q/wAKNh/56N+Q/wAKw1lkQYR2UegOKvxamvlgTKxYd1A5p4Di/BYmTjXXs35u6+//AIASw8ltqXdh/wCejfkP8KNh/wCejfkP8KhF9bEgCTr6g1Orq67lYMp7g8V9RQxmGxDao1Iyt2af5GLjJboTYf8Ano35D/CjYf8Ano35D/CnUV1Ejdh/56N+Q/wo2H/no35D/CnUUAN2H/no35D/AAo2H/no35D/AAp1FADdh/56N+Q/wo2H/no35D/CnUUAN2H/AJ6N+Q/wo2H/AJ6N+Q/wp1FADdh/56N+Q/wo2H/no35D/CnVk6fZ/atPhnmurrfIu5sTsB+VAGpsP/PRvyH+FGw/89G/If4VnGA2mpWYjuLh1lZ1ZZJSwOFJ71p0AN2H/no35D/CjYf+ejfkP8KdRQA3Yf8Ano35D/CjYf8Ano35D/CnUUAN2H/no35D/CjYf+ejfkP8KdRQA3Yf+ejfkP8ACm23/HrF/uD+VSVHbf8AHrF/uD+VABb/AOrP++//AKEakqO3/wBWf99//QjUlAFDW55rXRLqa2njt5VT5ZZfupz1PBx9cEDvXP2XiVk+wyXd+Ram5mhmnm8raxCblAkQBWGTgEYyRgjIrr6OlaRkkrNGc4SbTTsedprM++W/m1f7HcvpsUiZjT/SHDy7Uww79Nq4Y9jxWtNqGrS3jkX8lqBqEVqYUijIVXiQnkqTkFjjt6g111FaOrG9+X+vuM/Yy/m/q3r8zixqd9sR2uoTcxWt8q3U0K8GOZVVjtXgY6gDHfHFNPiC7bSBJHqwQJdmOSeSSAbx5edscoXyjye6qeo4PNdtRgYxjip9pH+X+rh7KX839Wt3OIOtXBummW4+yxTW9kZrx7eNXiR/NyzcEDkAc5Vc5FWrXUdR1CW1todTkWGWW5RLyOOMtOibdrjKlepIyBg4rraKHUT2j/VgjRkt5f195n6JeS33h6zurlgJZYFZ3AwM45PtXMQ+INUksbp5LooI3hSOYQr81u0mGusYx07dBjOMEV1U2i6XcXwvZ9Ns5bpSGE7wKXBHQ7iM8VYubdLu3aGQyKrd45GRh9CCCKFOCd7bjcJtWva34/18/wDPiJtTeeaEza0Wgt9W8uO/KRjahtiSchQh5Y/NjHfoK1YtduF8LXM0U63l6qzm0cqM3KIcBwq4B6joMHt1rdsdPg0+ORbfeTK/mSPI5dnbAGST7AD8KtU5VIvRIUKUk7tnIzavImlzvYeJI7xVmiBuJFjTywQSVEgTy8njGV46E8imPr2oDTbKa2nkk/tCJraB5YkyLjfhXO3ggruOR8pCggDNdjgYxjiil7SP8v8AX3D9lL+bp5979xFBVQCxYgYJPeloorE3CiiigAooooAKKKKACiiigAooooAKKKKACiiigAooooAKKKKACiiigAooooAKKKKACiiigAooooAKKKKACiiigAooooAKKKKAI7j/AI9Zf9w/yrCroaCAQQRkHqDXy2ecPvNqkKiqcvKrbXv+KN6VX2atY8r0prUarYG2MQ1b7RN/am3Hm7Nr/wCs77d2zbntjFR+K7i0vZ9/nWflNYb7eW5bhyzHBgP/AD04HIyeU4r0+SwgkOduw+q8VXfSjyY5c+gYf1r5LEcO5lQq+0hBTS7SXm+qXpZX+Z0RrQa1PNtZdDrMk16tq06xwtZW10hNxL3KwsGBVt2clQT0zwBTr9lXxVcSXgs5LtbyEWcEin7S8RCZMTBgVUHeTgEHDbuDXoDafcBsBA3uGFJ9guf+ef8A48K8f6pmMHy/Vp6K2z8ttPL8dy7w/mOKmkuJfGmn3N5Z3KEXEsEAIG1Y/LbLderH5j7BR2qtobIniGEyCzm1CSadbpY0IuYVyxDSNu+ZOAACMfMuOld99guf+ef/AI8KPsFz/wA8/wDx4VH1TMeXl+rT2t8MvPy8wvC794LD/j+j/H+RrZrNtLSeK6R3TCjOTkelaVfoPCOHrYfAThWg4vnbs010j3OXENOWgUUUV9gc4UUUUAV74E2UmBnp/OuH8R/Yvtmn/wBt/Z/7KzJ532nHleZgbN2flx9/Ge+O9egUx4o5DmSNWPT5lBr5TOeH5ZjiY4mFTlaXLa3rrfo9ex0U63IrWPP7G8EPhNo3aVpTb3ElvEh/fPCrHZtzznaU/MVi6bDbS2Gr28VzZLDLp6LLNp8ZkhQ4YEuo6vg885IAyBjn02708s++3A56p0/KqjWk6HBib8Bn+Vfn+My7HYGpOEqUmr35lqt7ro18vvOqM4yitTg4xZHw7qMVj/ZQso5oXNxYweVbzjcpZH2buMDDNyAG56GoF8ptKmnk/s+PSl1FHig8w/Y5E8rBXeFxs3ndkqF3jHvXekFSQRgjqKK8n65ZtOPXv6eW+m/ToaKJx9ubBfC6/wBtfYo7U3UhtBPuNqq5O0HOAU67d2AflwBwK6LwS27SbHg4UOoOcqQCwBX/AGCPu/7OKvVYsP8Aj+j/AB/ka7MuxHtMfQjbepF7/wB4icfdb8mbNFFFfup5gUUUUAFFFFABRRRQAVk6fefZdPhgmtbrfGu1sQMR+da1FAGYZzd6lZmO3uEWJnZmkiKgZUjvWnRRQAUUUUAFFFFABRRRQAVHbf8AHrF/uD+VSVHbf8esX+4P5UAFv/qz/vv/AOhGpKjt/wDVn/ff/wBCNSUARXJRbdzK7Rpj5mU4IH17fWqVrOy2N3JEVl8tmMYRy6/dHAPf/HNaVFAGOdQ2TykXayo3lgSLtwMhieSdo6fyqS2v7ibykITfIglzg42bef8Ax7H4GtSmCFFmaUA72ABJYnj2Hb8KAKVpfGS0nkdw5iXJKAMOmeMHke3BqCLU2ckPPHHFuwZm2nHy5xwSOv8Ah1rXpksKzKA5cYORscqf0NAGZFqMrpEzyRq7LHti24Mu48kd/wDDHNPvbp7e9l2zqhECskbc72y3A+vTjnpWjHGsUaxxjCqMAegp1AFO2uZZrqSJwB5OQ/HUk/L/AOO8n61y2oXq2/24QXhnuCtwQ8NywljIDHa8R+6q8AMCOdvHNdlHCkW/YDl23MSxJJ/Gn4q4S5SJxclZMwLq+nufCmqTO7QXMccqtGnytAwHAz3OMHd3zkVn3Goagbm0RJZA+nM8U+M/v5fKk259RhQ2P9seldfRTU0ugnBvqcx/bEmq31vHYXsfl+ZF+9hIYZaOUsOuD90cHoahTxNcm6toWlTzPOSGRCqqHzKULAFtx4GeBgc8nt1tFPnj2J9nK3xHLpqupfZ0uHuIyPs0VyUEOM7mwVznpj8c+3FIdX1NbU3JuIyBa/atnkjnDY25z0I/HPtxXU0Uc8exTg9dTk28TT/bZo4p4zHh9xkVB5AWVE3EBiQAGYndj7ueBkVd03VPK0/WLuW6+2R29y2yRejARJgDt1PbjJNb9FLmja1g5JXvc5G11HUdPsJbe+MltOHSUtdyxlirj5gh3Ffvg4DEAAgelSRXLapd2TM58uS5iZhswJP9HZuRkjqOxx354NdVRTdRPW2olTa0uFFFFZGoUUUUAFFFFABRRRQAUUUUAFFFFABRRRQAUUUUAFFFFABRRRQAUUUUAFFFFABRRRQAUUUUAFFFFABRRRQAUUUUAFFFFABRRRQAUUUUAFFFFABRRRQAUUUUAFFFFABRRRQAjKHXDAMD2Ipn2eH/AJ4x/wDfIqSisZ0KVR3nFN+aHdrYj+zw/wDPGP8A75FPVFQYRQo9AMUtFEMPRpvmhBJ+SQXbCiiithBRRRQAUUUUAFFFFABRRRQAUUUUAFFFFABRRRQAUUUUAFR23/HrF/uD+VSVHbf8esX+4P5UAFv/AKs/77/+hGpKjt/9Wf8Aff8A9CNSUAQ3lytnaSXDo7pGNzCMZIHc474HPrxxmqcmuWyiYxJLOI2SNTEAfNkYZCLzycYJJwAD14OLd6ty1nIti0azsMI0n3Vz398dcd+nFYtv4dm02yW001ovJtZluLRZWOdxzvRiB0O4kNzgt0wACAXH11YrWSSbT7yOaOSOP7Mwj3sXYKpB37CCT/e4walh1q1NrNNe/wDEvFvJ5cq3bouxiARlgxXkMDwe/rWVcaHqN1b3ckpj82eaCRbR72WSJRHJvOGZflLZxhVAGBUkGj39ttuIYbRZI7kzJafaHMYyhQnzCmQTnP3cdR3zR/X5f8EDXm1Swt4Ipri+toopseVI8yqsn0JPP4U6TULKK7W1lu4EuHXcsLSgOw9Quc44P5Vjx6RqFnGj26WlxLIkyyxyysqR+ZIX+UhTkDOMEDIA6dKWHRr60vLUWskYhjWJZZWlYmUIuDmMqRnjhgwP1xggGnZavYahp7X1pdwyWy7t0ocbVx1ye3rUxu7ZXZTcRBkKhgXGVLfdB9M9vWqum2Mlvpb2V4sbLukUbGJ3oxJ5yBg89OfrWVp/hu7t7u0muZ4ZCGLXRGcy7OIe3Ycn36UdQ6GifEWnK3lvMi3H2drkQCRGcoM5xgkHoehq1Y6lZ6lGXsbmGfbjeI5AxQns2DwayI9DvIrWOFWgYmxktZCXI2knKkfLyPXp+NaFnp8ltqHnkps+xxQYUnOVLE9unzVMW3v/AFv/AMAH5f1t/wAEmfVdOjExkv7VBAcSlplHl84+bnjkEc0/+0bL7OZ/tlv5Ij80yeau3Z/eznp71mPpd/FYtHaPF5jXslww37dyMzHG7adp5HIHbGRnNVv+EanktbOKZodqzS/al3s4eJ5PM2gkZJyEBz2LVXQfU6JZUdmVHVmQgMAcleM8/hVOPWbCa8NvBdRTMqO7tHIrLHsKghiDwfmH5GotI0yey0uSG8lV7mViZJUzzxtU899qr+NZ6aRqpiRSLKB7exktIXjYvvJ2bWIKYUfIePmxnvR1EaUniHSIraO4OpWrQSyiFZVmUqXPbIOKspqFnJevZx3cD3SDLQLKC6j1K5yOo/OsaPRtQCSzOIfPa5inVGuXcHZgEFyvGfZcfzqSHS9R/tqG4uXiaGG4lkVhKeVZWAHlhQARuGSSScdeaEJm7RRRQMKKKKACiiigAooooAKKKKACiiigAooooAKKKKACiiigAooooAKKKKACiiigAooooAKKKKACiiigAooooAKKKKACiiigAooooAKKKKACiiigAooooAKKKKACiiigAooooAKKKKACiiigAooooAKKKKACiiigAooooAKKKKACiiigAooooAKKKKACiiigAooooAKKKKACo7b/AI9Yv9wfyqSo7b/j1i/3B/KgAt/9Wf8Aff8A9CNSVDCH2NhlA3v1X/aPvUmJP7y/98//AF6AHUU3En95f++f/r0Yk/vL/wB8/wD16AHUU3En95f++f8A69GJP7y/98//AF6AHUU3En95f++f/r0Yk/vL/wB8/wD16AHUU3En95f++f8A69GJP7y/98//AF6AHUU3En95f++f/r0Yk/vL/wB8/wD16AHUU3En95f++f8A69GJP7y/98//AF6AHUU3En95f++f/r0Yk/vL/wB8/wD16AHUU3En95f++f8A69GJP7y/98//AF6AHUU3En95f++f/r0Yk/vL/wB8/wD16AHUU3En95f++f8A69GJP7y/98//AF6AHUU3En95f++f/r0Yk/vL/wB8/wD16AHUU3En95f++f8A69GJP7y/98//AF6AHUU3En95f++f/r0Yk/vL/wB8/wD16AHUU3En95f++f8A69GJP7y/98//AF6AHUU3En95f++f/r0Yk/vL/wB8/wD16AHUU3En95f++f8A69GJP7y/98//AF6AHUU3En95f++f/r0Yk/vL/wB8/wD16AHUU3En95f++f8A69GJP7y/98//AF6AHUU3En95f++f/r0Yk/vL/wB8/wD16AHUU3En95f++f8A69GJP7y/98//AF6AHUU3En95f++f/r0Yk/vL/wB8/wD16AHUU3En95f++f8A69GJP7y/98//AF6AHUU3En95f++f/r0Yk/vL/wB8/wD16AHUU3En95f++f8A69GJP7y/98//AF6AHUU3En95f++f/r0Yk/vL/wB8/wD16AHUU3En95f++f8A69GJP7y/98//AF6AHUU3En95f++f/r0Yk/vL/wB8/wD16AHUU3En95f++f8A69GJP7y/98//AF6AHUU3En95f++f/r0Yk/vL/wB8/wD16AHUU3En95f++f8A69GJP7y/98//AF6AHUU3En95f++f/r0Yk/vL/wB8/wD16AHUU3En95f++f8A69GJP7y/98//AF6AHUU3En95f++f/r0Yk/vL/wB8/wD16AHUU3En95f++f8A69GJP7y/98//AF6AHUU3En95f++f/r0Yk/vL/wB8/wD16AHUU3En95f++f8A69GJP7y/98//AF6AHUU3En95f++f/r0Yk/vL/wB8/wD16AHUU3En95f++f8A69GJP7y/98//AF6AHUU3En95f++f/r0Yk/vL/wB8/wD16AHUU3En95f++f8A69GJP7y/98//AF6AHUU3En95f++f/r0Yk/vL/wB8/wD16AHUU3En95f++f8A69GJP7y/98//AF6AHUU3En95f++f/r0Yk/vL/wB8/wD16AHUU3En95f++f8A69GJP7y/98//AF6AHUU3En95f++f/r0Yk/vL/wB8/wD16AHUU3En95f++f8A69GJP7y/98//AF6AHVHbf8esX+4P5U7En95f++f/AK9Ntv8Aj1i/3B/KgAt/9Wf99/8A0I1JUdv/AKs/77/+hGpKACiqGtzzWuiXU1tPHbyqnyyy/dTnqeDj64IHeufsvErJ9hku78i1NzNDNPN5W1iE3KBIgCsMnAIxkjBGRWkabkroznUjBpM6+ivO01mffLfzav8AY7l9NikTMaf6Q4eXamGHfptXDHseK1ptQ1aW8ci/ktQNQitTCkUZCq8SE8lScgscdvUGtHQkna5n9Yj2/q1zrsjOM89cUVxY1O+2I7XUJuYrW+VbqaFeDHMqqx2rwMdQBjvjimnxBdtpAkj1YIEuzHJPJJAN48vO2OUL5R5PdVPUcHmp9i+/9XsHt49V/VrnbZGSM8jqKK4g61cG6aZbj7LFNb2RmvHt41eJH83LNwQOQBzlVzkVatdR1HUJbW2h1ORYZZblEvI44y06Jt2uMqV6kjIGDim6LW7/AKtcI4iL2R1tFZ+iXkt94es7q5YCWWBWdwMDOOT7VzEPiDVJLG6eS6KCN4UjmEK/NbtJhrrGMdO3QYzjBFSqUm2uxcqsYpN9Tt6K4ObU3nmhM2tFoLfVvLjvykY2obYknIUIeWPzYx36Cuo8O3k19pXmzTfaQJpEjuNoHnIGIV+AByO4GD1FEqTirkwrKcuVGpRXEaVqclteJDb6iZXfULlZNOCKSse+RjJ038Edc47YzVOTXLjUtMv4nvDdQSWaTgOY90beYo2kIPl4P3SWIx1q1Qk3Yl4iKWqPQ6K44+Ibo+KEt4bwtE880L27+WCmyN2BCgbxynVm5B6VXj1zV4NPtZZL552vNMju3d4U/wBHO+NXZQqjICuWwc/d9OKSoSdv67/5A8RBNq21/wALf5o7miuNvdauILGD7BrYvLd7to5NQIij2DZkL5mwxnnjdt/2evNVb3WrufSCmo6rHZq+nvJEY1Qretllxll5+UKcJgndkcUexkP6xH+renc7yiucvNVFtolnHb3q2xUwJdTgKTbIy53HcCBnAGSMDOaztS124tLS1lg10T2+2U+aqRxyXBVgBtDrskxyMKVLcEUlRk3ZDdeKV32udpRXODUtQPiZdJErDfILsOYwMW23BTp18zj1wetdHWcouNrmkZqV7dAoooqSwooooAKKKKACiiigAooooAKKKKACiiigAooooAKKKKACiiigAooooAKKKKACiiigAooooAKKKKACiiigAorhdGazXVtONsYRrPnTHV9uPN2bX/1nfbu2bc9sY4qPxhc2d7dGTz7Ly204PbS3Tf6wsxwbY9pOByMnlOKOw7HfUVw/iqa6nms3nsbwWtrdWbw8Kd8hmTJbnqB8oHqW9jWnqGj6Xqfi6226baG5tit5c3fkL5uRxEu/GckjPXomO9O35i6XOlorjZ30v/hN7I6e9sbwXLi5Rci7+4wy27kwjg44X7pB6Ax6HFp9n4sKWR0u9up57hrl4rPy7u3yzNmRixO3Py8gZypHFJag9DtqKKKACiiigAooooAKKK5zxR9g+36b/b/2f+x/3vnfa8eT5uB5e/d8vTfjPfHfFIZ0dFcxZXoh8FtFI0zTm1uJLeFGxO8KkhCuec7SnPuKyvD07Wa6k+ixWV7KLOHamlkeT5mWHz/7fOSc5KgcdMvqxLa/9dP8zvKK4fQ5LywsPEMenWl3Ld/bk+eVV3F3hi3SEZwSOWx9AKteHrK3m8O6pYvBcpAl3LkSsQz9zuIPOT1HQ5pSdvuv+X+Y7apeZ13TrRXEXf2VPB/huXUDYvapBHvh1FylvITFxubaygjqNwwT74rf8KC4Hhq2+143bpCgAIAj3t5eM842bcZ7VTVm12IjK6T7mxRRRSKCiiigAooooAKKKKACsewsWu7CG4lvbwPIu5ts5A/KtisXTdWsbfTYIZ5wkiLhlKnIP5UwJvs7WepWYS6uZFlZ1ZZZSwOFJ/pWpWUb+2vdUshayiQozlsA8DYa1aQBRRRQAUUUUAFFFFABUdt/x6xf7g/lUlR23/HrF/uD+VABb/6s/wC+/wD6EakqO3/1Z/33/wDQjUlABR0qC9/48pf3vlfLzJz8vvxVaC4ZdNneIrIYiQJFJZX4HIyScD0z2NAGhRWM2oGOSXbdrIpcBZBtx93PUkDr6f8A16miv7iXauEVzF52SDtCleP/AB79BQBp0YGMY4qhb3xexuJmff5WeQAR93PGDg/pVeLU3dyrTxxxhiBM205OFIXg4yST+X40Aa9FZUGoyyLEzyIJG8rEOOXDAEsO/GT/AN8mnXF28OoTKs6ghYykLfxkkggf/WpgTTaLpdxfC9n02zlulIYTvApcEdDuIzxVi5t0u7doZDIqt3jkZGH0IIIqGzuZZ5ZEkAHk/I+B1fP8sYP41yl7fLbrei3vDc3BSch4LlhIuMnbJEfugcANkc44GauKlPS5lJxp3dtzrLHT4NPjkW33kyv5kjyOXZ2wBkk+wA/CmXujaXqUiyajptpduo2q08CuQPQEisy7vZrvwjqMryNBcqkiusZKNbt/dz1yBg7u+cjgis661LUGntmSSRX0/wA2KZRnE83kyEZHcYVWx/tj0qlGV731Jbjbltp/wf6Z2IAHQYormG1aTVdXto9Nv4/I8zAlhw4OYXJHXB5AqOLxNcSXNmpkTzJFiEkW1VBLJkkAtvPbnGOo5NL2UilVi1dHV0VzFvqupNFDNJcxsrRWk7IIQM+c5VlznoMZHfPXI4pE1XUvsyXD3EZH2aO5KCHGdzYK5z0x+Ofbij2bvYPaJq51GBjGOPSiuSi8TTyvIEuIxEQhaV1T/RwZNpJCscDB6Mcg9eOKv2GpmHRdQvHuPtgink8t16SdNoH1OBxxzQ6ckrj9pFuxvUYrkbbUdQ03TpLa9eS3njkVy93JGXZHUk7WLlM71bAJ4GB6VJb3D6lqdi7OfLa5VyuzaHP2YOCVJOOffj9aPZO71JVVO2h1VFFFZGwUUUUAFFFFABRRRQAUUUUAFFFFABRRRQAUUUUAFFFFABRRRQAUUUUAFFFFABRRRQAUUUUAFFFFABRRRQAUUUUAFFFFABRRRQAUUUUAFFFFABRRRQAUUUUAFHXrRRQAUUUUAFFFFABRRRQAUUUUAFFFFABRRRQAUUUUAFFFFABRRRQAUUUUAFFFFABRRRQAVHbf8esX+4P5VJUdt/x6xf7g/lQAW/8Aqz/vv/6EakqO3/1Z/wB9/wD0I1JQAUVDeXK2dpJcOjukY3MIxkgdzjvgc+vHGapya5bKJjEks4jZI1MQB82RhkIvPJxgknAAPXg4ANKmLCiSvIAd743EsT0/l+FZr66sVrJJNp95HNHJHH9mYR72LsFUg79hBJ/vcYNSw61am1mmvf8AiXi3k8uVbt0XYxAIywYryGB4Pf1oA0KjmgSdQHLgD+47L/I1DNqlhbwRTXF9bRRTY8qR5lVZPoSefwp0moWUV2trLdwJcOu5YWlAdh6hc5xwfyoAmRFjjVEAVVGAB2FOqlaavZX+mvfWM6XECbstGwPK9R9arSeJLGLQ7TVWE3k3bxpHHs/ebnIGCM8Ec59MH0oA04oUhUrGDySSSxJJ+pp9Vxf2ZvjZi7gN0BuMHmDeB67etRJrFhLffZYbmKWVQxkEcit5e3GQ3PB5/Q0AXaKorrNjKkL2txHdJNMIA9u6uAxBPJB9BVmW7t4N/nTxR+WoZ97gbQTgE+gJBH4UAS0VTudUtbRm86VAsau0reYo8vaoY5BOehB4HfnrVaPxLpMkkS/bYFSaJJIpHlULJuJAAOeTlTxQBq0VWvb+DT445LpxHG77N7EBV4JySeg4pkmr6bFbxXEuoWqQzHEUjTqFk+hzg/hQBcoqlJq9lBJci6nS2S3ZVeSd1RCWGRgk+9Ok1XT4fK86/tY/OCmPdMo37vu455zjj1o3At0VXa/s0vVs3u4FumGVgMgDkeoXr2NJFqVjNJNHDeW8j2/+uVJVJj/3hnjoetAFmiqllqlnqMsiWM6XCxqrGWJwyHcWHBB/2TTTq9ib9LKO4jluGco0cbqzRkKW+YZyOFNAF2is2bxDpEFpJctqVq0MTrG7pMrBGY4AODx/+urJ1KxF1Ham9txcSruji81d7j1Azkjg0AWaKKKACiiigAooooAKKKKACiiigAooooAKKKKACiiigAooooAKKKKACiiigAooooAKKKKACiiigAooooAKKKKACiiigAooooAKKKKACiiigAooooAKKKKACiiigAooooAKKKKACiiigAooooAKKKKACiiigAooooAKKKKACiiigAooooAKKKKACo7b/j1i/wBwfyqSo7b/AI9Yv9wfyoALf/Vn/ff/ANCNSVHb/wCrP++//oRqSgCC9W5azkWxaNZ2GEaT7q57++OuO/TisW38OzabZLaaa0Xk2sy3FosrHO453oxA6HcSG5wW6YAB6GigDmrjQ9Rure7klMfmzzQSLaPeyyRKI5N5wzL8pbOMKoAwKkg0e/tttxDDaLJHcmZLT7Q5jGUKE+YUyCc5+7jqO+a6GigDn49I1CzjR7dLS4lkSZZY5ZWVI/MkL/KQpyBnGCBkAdOlLDo19aXlqLWSMQxrEssrSsTKEXBzGVIzxwwYH64wd+ijb+v67g9TNsrC4g0Wayl8vd+8WNlYkMrEkE8DB56c/WsuXw1dSMyedD9nQI8EZJ+WUlfMPTphTj3ds101FKwGINKvPtaxEQC1S7a7E4kPmknJ27duB97Gd3QYxVM+H9QuLSK0n+yRR29nLaxzI7M8m4KAxBUbfu8jJ69eK6einsrD63MC30a9a4juboRRzC4jdsXLS5RFYdSi85fpj8an1jRDqt5bksgtyrR3SNnMi/eXHuGA/Amtiilb+vwEYFroV2sVsbuaJ59k/wBokXPzNIAARx0AAHPpUcuhXs+mXcLm3SabShZLtdiA43jOdoOPmB6etdHRTWjuNO39fP8AQz9TtLi4htTarC8lvMsu2ZiFbAIxkA45PXHFZVxo2rTQybTbr9pEplhWdkWMvjGHCbmGASR8uSfy6WilZa+YlpbyOfk0fUo5TJavCQzxlk80xlgsWw/PsJXn05I7jpUQ8OXY0m7thJCJZtMNojbmIV8uc5Izj5hz14rpaKfW4LTYyI7G9hv5VWK0ktppxO0sjHzFIUDAXbgn5eG3DHpxznQeG7wWpt52i/c2zQQSmdn35Kn5k2gKDtGRlq6iigDN061vF1C7vL6K3ha4SNQkEhfG3d1YqufvDtVKLSdRWa2jItFitJJWjn3MzvvVwCV2gA5YZ5Ofat+ih6gcxHoOpPDO1w0PnNFAq5uGcM0b7+fkAUHphV4qzdaXqV1qYkZofI+0QzDEzDYF27l2hfmOQcFj3HAxW9RT63DpYKKKKQBRRRQAUUUUAFFFFABRRRQAUUUUAFFFFABRRRQAUUUUAFFFFABRRRQAUUUUAFFFFABRRRQAUUUUAFFFFABRRRQAUUUUAFFFFABRRRQAUUUUAFFFFABRRRQAUUUUAFFFFABRRRQAUUUUAFFFFABRRRQAUUUUAFFFFABRRRQAUUUUAFFFFABUdt/x6xf7g/lUlR23/HrF/uD+VADYS+xsKpG9+rf7R9qkzJ/dX/vr/wCtTbf/AFZ/33/9CNSUANzJ/dX/AL6/+tRmT+6v/fX/ANanUUANzJ/dX/vr/wCtRmT+6v8A31/9anUUANzJ/dX/AL6/+tRmT+6v/fX/ANanUUANzJ/dX/vr/wCtRmT+6v8A31/9anUUANzJ/dX/AL6/+tRmT+6v/fX/ANanUUANzJ/dX/vr/wCtRmT+6v8A31/9anUUANzJ/dX/AL6/+tRmT+6v/fX/ANanUUANzJ/dX/vr/wCtRmT+6v8A31/9anUUANzJ/dX/AL6/+tRmT+6v/fX/ANanUUANzJ/dX/vr/wCtRmT+6v8A31/9anUUANzJ/dX/AL6/+tRmT+6v/fX/ANanUUANzJ/dX/vr/wCtRmT+6v8A31/9anUUANzJ/dX/AL6/+tRmT+6v/fX/ANanUUANzJ/dX/vr/wCtRmT+6v8A31/9anUUANzJ/dX/AL6/+tRmT+6v/fX/ANanUUANzJ/dX/vr/wCtRmT+6v8A31/9anUUANzJ/dX/AL6/+tRmT+6v/fX/ANanUUANzJ/dX/vr/wCtRmT+6v8A31/9anUUANzJ/dX/AL6/+tRmT+6v/fX/ANanUUANzJ/dX/vr/wCtRmT+6v8A31/9anUUANzJ/dX/AL6/+tRmT+6v/fX/ANanUUANzJ/dX/vr/wCtRmT+6v8A31/9anUUANzJ/dX/AL6/+tRmT+6v/fX/ANanUUANzJ/dX/vr/wCtRmT+6v8A31/9anUUANzJ/dX/AL6/+tRmT+6v/fX/ANanUUANzJ/dX/vr/wCtRmT+6v8A31/9anUUANzJ/dX/AL6/+tRmT+6v/fX/ANanUUANzJ/dX/vr/wCtRmT+6v8A31/9anUUANzJ/dX/AL6/+tRmT+6v/fX/ANanUUANzJ/dX/vr/wCtRmT+6v8A31/9anUUANzJ/dX/AL6/+tRmT+6v/fX/ANanUUANzJ/dX/vr/wCtRmT+6v8A31/9anUUANzJ/dX/AL6/+tRmT+6v/fX/ANanUUANzJ/dX/vr/wCtRmT+6v8A31/9anUUANzJ/dX/AL6/+tRmT+6v/fX/ANanUUANzJ/dX/vr/wCtRmT+6v8A31/9anUUANzJ/dX/AL6/+tRmT+6v/fX/ANanUUANzJ/dX/vr/wCtRmT+6v8A31/9anUUANzJ/dX/AL6/+tRmT+6v/fX/ANanUUANzJ/dX/vr/wCtRmT+6v8A31/9anUUANzJ/dX/AL6/+tRmT+6v/fX/ANanUUANzJ/dX/vr/wCtRmT+6v8A31/9anVk2aaheWcdx/aRj8wbtohU4oA1Myf3V/76/wDrUZk/ur/31/8AWrPH2y11C1Sa98+OYspUxKuMKTnI+laVADcyf3V/76/+tRmT+6v/AH1/9anUUANzJ/dX/vr/AOtRmT+6v/fX/wBanUUANzJ/dX/vr/61GZP7q/8AfX/1qdRQA3Mn91f++v8A61Ntv+PWL/cH8qkqO2/49Yv9wfyoALf/AFZ/33/9CNSVHb/6s/77/wDoRqSgCnq1zPaaVPPZokk6r+7SRgATnHcj8sjPTNZNj4gnmurS3naEs800U/7lomQrGHA2sxwcEd2BHINb80MVxC8NxGksTjDI6hlYehB61VOi6WbRLU6baG3R96wmBdit/eAxjPvWkZRSaaM5xk2nFnLQeINUne5v4Li0RU02O6aKUMyNh5M7QGG3IAy3Pbg1el17VZLk/ZRaRQ/bI7ULLCzOPMjVgxIcDgt0xz6jrW3Jouly7PN02zfy8bN0CnbjJGOOMZP5mpzaWxYsbeIsZBKSUGS4GA31AA59q0dSF72M/Zztv/Vv8/vOYGuX7+XKYrd7yO2vBgSNHG7xyqg4LYAPXnJHY1Idf1RrMLCkL3SXBjnBtWV4l2bv9SZMseR91zwc89K6E6fZkEG0gIIdSPKHIc5YdO55PrUP9iaV9jFp/Zln9mDbxD5C7N3rjGM+9Lnh2/q4ezn3/q39anPr4huJNQAszbl7uKzVJ38wxqZPNydhYf3cAfKSSAT6WI9b1S5nisoDZpcedPC87Qs0bGMKQyrvB5zgjdwc88VuPplhJE8UllbtHIixujRKQyr91SMcgZOB2zT4bG0t0iW3tYYlhBEQSMARg9QMdM+1Jzh0X9WCNOfV/wBf11ItHvW1LRrS8kQI80Suyr0BI5x7Vy+oXmr6p4atJmura3F3qEUO2OGQYTzdmCRICc4BOMcZHvXSHRLP7RHNH9pi8vbsjhu5Y4hjoPLVgmPbHPerX2O2EKRC2h8uNw6J5Y2qwOQQOxzzn1oU4xlzJdRyhOUXFvo1+G5kWGqXtzel3msIrMXMlsIH3LNlM8ht2CTjO3b905zRd6teHVrmG0msIILOOKSQ3Wf3ocnowICDA64bJ7VpnS7A3j3Zsrc3LrtaYxLvYYxgnGcYpH0nTpHt2ksLVmtgBAWhU+UB0C8cYx2pc0b3sHJO1k/6/r+tTEXW9Ve6u4FS2WUpM1nGYmZZNh4/eK5De4+UgnvitDQ9YbW/tFzCFFkCiwnaQzHaGbPPYsB06g1dh02xt7uS6t7O3iuJc+ZKkSh3z1yQMmpYLeG1hEVrDHDGCSEjUKMk5JwPUnNDlFrRFKM1K9ySiiisjUKKKKACiiigAooooAKKKKACiiigAooooAKKKKACiiigAooooAKKKKACiiigAooooAKKKKACiiigAooooAKKKKACiiigAooooAKKKKAOQ0qeYXWkXv2u4luNRnmju4nnZkQKrnCoTtTayquVA685zSeKrm6kvLhbCWci10/7QTFdGEQEscSYBAl4U/KePl/2q6aLS9PgvZryGxto7qcYmnSFQ8g9GbGT+NRzaJpVwkCT6ZZyrbACBXgUiIDGAuRx0HT0o7DOY8S67J9ptEhubm2gt7i0d3jjdftBeVMrkD7oQnI7lgOxFTa1rMh8SWcSz3NtBa3kcZREdRcMwJOSBgqAQAO5J9BXWSwxToEnjSRQwYB1BAIOQee4IBH0okijl2+bGr7GDruUHaw6Ee9Hb1v+QulvI46K4vofEFu+65mkm1KWGSUXga3eLDkIsQY4ZQFz8qkFWyTnmxpKzWevxveSNdfbp7gRTRarNMgwzMFMJwigKNuRnBGO9dHHptjFqEl9FZW6Xki7XuFiUSOPQtjJpIdLsLe+lvbextorqb/WzpEqvJ9WAyfxoWgS1ZaooooAKKKKACiiigArE1sG61jTdOlmngtbgSu7QTtCzuoXau5SGHBY8H+Gtuq97p9nqdsbfUbSC7hJBMc8Ydcjvg8UDMey1N18Ey3lzdMHihnK3G3cxRCwWTH8RwAffNZ+jvPDLfWuqXdxYK9nDIPMvvOKElg0gkcnaScDb04yOprqhZ2wZGFvEGjjMSHYMqhxlR6DgcewqG20jTbKCWGz0+1t4pv9akUCqsnGOQBzxxzR1Yulv66HLS3N1ZabrFkJrqGZJ7dYImu2lbEhUACZjuXecjJ5XOR2pIJrl3TSbm4uYI31UwTKLt3eJPIMioJ87vmIBzkEbtvpXUwaNplrYPY22nWkNpJnfbxwKsbZ65UDBpRo+mDTm08adaiyb71t5C+We/K4xRt/XoHQwY5UfQnW9vr14Le+lghEE7Ca6CsQke8EMSDxnPO3k4zW9pEV1BpFtHqD77hU+cltxHoCe5AwM98Zptxoek3dlDZ3el2c9tB/qoJbdGSPjHyqRgcelWbW0t7G1S2sreK2gjGEihQIq/QDgUdA6ktFFFABRRRQAUUUUAFFFFABWZpF3bppNur3ESsEwQXAIrTqudPsmJJs4CTySYl5/SgCtPPFNqdgIpUfDvnawOPkNaNQxWdtC++G3ijbpuRADU1ABRRRQAUUUUAFFFFABUdt/wAesX+4P5VJUdt/x6xf7g/lQAW/+rP++/8A6EakqO3/ANWf99//AEI1JQBDdmQWsnksEkxhWYgAH8agjuXis52lBaWE4YMwIzgHqAOORzirjosiFHUMrDBUjIIpqQRRxeVHEiR8/IqgDnrxQBQa9ninljcxs4YBQqseNuTwB/P/AOtTo9SaXaqQjzGTzNpbHybcg5+pxVn7DabNn2WHbnO3yxjNKlrGkzyddyhApAwqjsMDpzQBFFeFrWaSXapizuBDLjjPORn8s/0qGPUJZJjCEUOuTucFQQAp6HkH5v0z7VdS3hjiaOOGNI2+8qqAD+FQS6bbyRCONFhUNuwkacn1wQeaAIYdSkmiSby0CZjVhu5y4B49huH15p013NFdz7djRxKjFSeeSQcflVmOzt4/LIhQtEoVHKgsABjrTntoJJRK8MbSL0cqCR+NMCG1uzcyMuzaY1xJz0bJGP0/UVz19qV7YW9xNLdzb2WYwvHskhkxkqFA+YMFHcYODyTiumggWAPglmkYuzNjJP4ewA/CoRpOnLNLKLC2EkwIkfyVy4PXJxzmqhJJ6kTi5LQz7rU57jwneX1q4t5fLfyiAGaIjj5geNwPUdjxz1rPuvEN4sto0RUC2ST7amBh5BHIQmewzGT9CvrXTG1gKSoYIysxzICgw5xjJ9eAPypPslsWZjbxZZ97HYOW27cn328Z9OKpSiuhLjJvcyLvVbx9YgtLHyl+cBi/IYGJm5xz1A9KZH4kkle1ZYU2SiMSKA52M67sb8BeOOOpBzxWtbaZYWYUWllbwBTlfKiVcHGMjA9CfzpBpWniZJhY23moAFfyVyoHTBxxijmh2BRnbVmTBr186RSyW9uI3jt5iFZs7Zm2gdOoxnPfpx1oTX74wrO9vbiIwR3BAds7Gbbt6de+fwx3rbFpbBQot4goVVACDgKcqPoD09KPsdts2fZ4tuwJt2DG0dB9PajmhfYOWdtzETxHNJL5aRRt52zyHw6r8z7QSWALDocjGenvVqz1KWPTdQutQZW+yzSA+X0wo6D/AD7VbXSNNRZVTT7VVmGJAIV+cZzzxzzUqWNpFb+RFawpDnPlrGAufXHTsKG4WskNKd7tnP6drl+dOdJkklu45V3mW3dGVGUtkR7QzAEMowOQufWnx6jcX+pWYim2wyXClwjsQw+zh8A8HGexHPf0rduLG0u8/arWGfIAPmRhunTr9T+dKlnbRFTHbxIUOVKoBt+Xbx+HH04o546uxKhPRNk1FFFZGwUUUUAFFFFABRRRQAUUUUAFFFFABRRRQAUUUUAFFFFABRRRQAUUUUAFFFFABRRRQAUUUUAFFFFABRRRQAUUUUAFFFFABRRRQAUUUUAFFFFABRRRQAUUUUAFFFFABRRRQAUUUUAFFFFABRRRQAUUUUAFFFFABRRRQAUUUUAFFFFABRRRQAUUUUAFFFFABUdt/wAesX+4P5VJUdt/x6xf7g/lQAW/+rP++/8A6EakqO3/ANWf99//AEI1JQBDd3cNjaSXNyxWKMbmIUscfQAk/hUdlqNvf7/s5kDRkb0lheJhnodrgHB9cY4NRa5azXuiXNvbZ82RcLggEHI554/Osa60q/U3STQtqqyyxZlnWJmaIBvl2ZVMqxzyMENnkjFAHUVHPPHbwtLM21Fxk4z3xXLQeHZZoIYr6xWSKK1uUSObY2xmlBj4HAIXpjgdOKW50q7mJ+06Ybu6dYDHdl4/3AULvTJO4chj8oIO7nvR/X5/5Cvr/Xl/n+B1lFc0ul3H9rBxp+24W5kkk1Hcn72Ihtsec7jwVGCMDbnsKqR+FtungHTYfPGmxgHCZFyufmz/AHhx8360Ib0Omv8AUrbTVia6Mn76Ty41iheRmbaWwFUE9FJ/CpredLmBZYxIqt0EkbRt+KsAR+IrP1mwmvrnSzDvCQXZkldGClF8mRc/mwHHrWdrOkzzzzBLJrySS3WO0u2ZCbSQbvn+YgjkqcqCTjHYUxvodLRXM3ehzPHqUwtVkmmvFfohaeEKmU5OMZBO0kA4561Wm0SY6TCq6ZLKVkkeK1kSBo4iQMAx7goGQSCrZGT6ml0JOsSaOSSREdWaMgOAfukjPP4EVDBqVpcLctDOrC0kaOft5bAAkHPsQaoaTpxs9Xv7iSxjie68tzPGFwxCAFc/ePIJ5GOeuaoy6Pem5kjjiAt7+Z1vDvHEYcsDjvuUlD3+YelLW9h9Lm/ZXtvqNjBeWcnm286CSN8EblIyDg80+eeO3jDzNtUuqA4J5YhQPzIrlH0S6Gm28Nxpf2uQWKwwfPH/AKJKN2XyTx1X5lyfl+lT3Gk3D6gTJpv2i4N1BKuobkG2NWQsvJ3DG1jtAwc56mq0bB6HSzSpBBJNKdscalmOM4AGTSo6yRq6HKsAQfUVyQ0O8N1dlrRxOy3GbpREBOHDBVLbt56rwQANvXAGdjUrS8Oi27WEatfWux4kZgBnG1hnp91mqdfy/UP+Caksqwx73DkZAwiFjycdBz3/AAqI39sDGPOU+ZKYVxk5cZyvHT7p/Kuci0C8gt5rdY98Vu8MdoS4JaPzVkc9eOwwf7nvUkfh5Ri3OmQiH+03nl+VNksbB8EjPONwGCP0ph0/rsdFdXUNlZzXVy+yGCNpJGwTtUDJOByeBUNlqdtfs6W5lV0ALJNA8TYPQ4cAkcHkcVknSrseCdT02OALLIt3HbxKygBWZ/LA7AbSuB29qiudK1CP7WsivqqypEqvcCM4QN88ewbFJ/iBPXODnABbG1ZfedNRXJrol6ukwxQWxhbz5YjGzIpS3lPzY2fKMcNgelaugafcWSzm8QKwKwQ/NnMMYwhPucsfxpf1/X9fkI05J44pYo5Gw0zFUGDyQCf5A0ss0cEe+Z1RcgZY45JwP1IrmrfS7mPUIJE0oJcxSyvNes6AXGUcKcg7jyR1Ax2qknh2eayull0hFWRIHa3McKrJIkm5sKGIyRxlmyfWgDtaK5htNupPEcN0umiERTqVnRYhiLZjaW3F+pI2gAfXv09HQOoUUUUAFFFFABRRRQAUUUUAFFFFABRRRQAUUUUAFFFFABRRRQAUUUUAFFFFABRRRQAUUUUAFFFFABRRRQAUUUUAFFFFABRRRQAUUUUAFFFFABRRRQAUUUUAFFFFABRRRQAUUUUAFFFFABRRRQAUUUUAFFFFABRRRQAUUUUAFFFFABRRRQAVHbf8esX+4P5VJUdt/wAesX+4P5UAFv8A6s/77/8AoRqSoYWIRsIx+d+Rj+8ak3n/AJ5t+Y/xoAdRTd5/55t+Y/xo3n/nm35j/GgB1FN3n/nm35j/ABo3n/nm35j/ABoAdRTd5/55t+Y/xo3n/nm35j/GgB1FN3n/AJ5t+Y/xo3n/AJ5t+Y/xoAdRTd5/55t+Y/xo3n/nm35j/GgB1FN3n/nm35j/ABo3n/nm35j/ABoAdRTd5/55t+Y/xo3n/nm35j/GgB1FN3n/AJ5t+Y/xo3n/AJ5t+Y/xoAdRTd5/55t+Y/xo3n/nm35j/GgB1FN3n/nm35j/ABo3n/nm35j/ABoAdRTd5/55t+Y/xo3n/nm35j/GgB1FN3n/AJ5t+Y/xo3n/AJ5t+Y/xoAdRTd5/55t+Y/xo3n/nm35j/GgB1FN3n/nm35j/ABo3n/nm35j/ABoAdRTd5/55t+Y/xo3n/nm35j/GgB1FN3n/AJ5t+Y/xo3n/AJ5t+Y/xoAdRTd5/55t+Y/xo3n/nm35j/GgB1FN3n/nm35j/ABo3n/nm35j/ABoAdRTd5/55t+Y/xo3n/nm35j/GgB1FN3n/AJ5t+Y/xo3n/AJ5t+Y/xoAdRTd5/55t+Y/xo3n/nm35j/GgB1FN3n/nm35j/ABo3n/nm35j/ABoAdRTd5/55t+Y/xo3n/nm35j/GgB1FN3n/AJ5t+Y/xo3n/AJ5t+Y/xoAdRTd5/55t+Y/xo3n/nm35j/GgB1FN3n/nm35j/ABo3n/nm35j/ABoAdRTd5/55t+Y/xo3n/nm35j/GgB1FN3n/AJ5t+Y/xo3n/AJ5t+Y/xoAdRTd5/55t+Y/xo3n/nm35j/GgB1FN3n/nm35j/ABo3n/nm35j/ABoAdRTd5/55t+Y/xo3n/nm35j/GgB1FN3n/AJ5t+Y/xo3n/AJ5t+Y/xoAdRTd5/55t+Y/xo3n/nm35j/GgB1FN3n/nm35j/ABo3n/nm35j/ABoAdRTd5/55t+Y/xo3n/nm35j/GgB1FN3n/AJ5t+Y/xo3n/AJ5t+Y/xoAdRTd5/55t+Y/xo3n/nm35j/GgB1FN3n/nm35j/ABo3n/nm35j/ABoAdRTd5/55t+Y/xo3n/nm35j/GgB1FN3n/AJ5t+Y/xo3n/AJ5t+Y/xoAdRTd5/55t+Y/xo3n/nm35j/GgB1FN3n/nm35j/ABo3n/nm35j/ABoAdRTd5/55t+Y/xo3n/nm35j/GgB1FN3n/AJ5t+Y/xo3n/AJ5t+Y/xoAdRTd5/55t+Y/xo3n/nm35j/GgB1FN3n/nm35j/ABo3n/nm35j/ABoAdUdt/wAesX+4P5U7ef8Anm35j/Gm23/HrF/uD+VABb/6s/77/wDoRqSo7f8A1Z/33/8AQjUlABRVXUrt7DTZ7qK3e5eJdwijBy35An8gfpWdY+IvtktnGYYd1zJLGWhuN6psXd3UHPsQCKpRbV0S5xTszbork4vE+oTTT3NvZJLbR2Mdy8LThPLG6QNg7SWJCjAOBx1He1L4nuPtBW00+OWH7SlsJHuShLOiup27Dx8wB5yPQ9Kv2M72M/bQOiorml8RzyeXMLOYyrb3TPaQyBwzxSKmB8uTk9Dxx2PZx8VS/wBmrcpZwyN55icpcM0cI27suwj3L6YKDkjtzS9lMftof1950dFc1/wkkn9oFIIfPknitvJj+0L5W6TzCTuCngBCSfmzxgDvKviK6lkjtrfT4mvTJNFJG9yVRGjAP39hJBDDB2/hQ6UkCrQZ0FFVdNvV1LS7a9RDGJ4w+wnJXI6Vzmo65q95oEFzY20Np9qvY7dG+1HftMmwn/VkLkj3wDnrxRGnKUuXzsEqsYx5n2udbRWTY6reXt2RFYKbFZXgNx9o+fcmQSU2j5dwIyDn2xTNdv72zvtJj09Vka5uWjeN2Cq4ETsMtgkAEA5AzxS5Hew3Uio8xs0VzVz4teCwWb7HD56+cJoGuTlTG21tm1CW574A9SOlC+I5o/tjgRS5u1jt45pPLwphR8fKrMxyTwATz6VXspi9tD+vvOlormm8WTvZrcWmmrIosvtkokuNhVQSGUfKcnjjOM+1XINbuLy+lWysBLZwTCGaYz7XUlQxIQjBADDPzA9cA0nTktw9rD+r+ps0VysHjdZIJrh7B/IEDTRFGYlsEYVsqApORjBYdav6Tf6jceINQtdRjjgENvA6RRSeYoLGTJ3bVJztHBHGOPWm6U0m2JVoNpLqbdFY1prd3eb7iHTN9iDKqSpODITGSOYyBgEqQMEnpkCq9p4oae1E01pGgWeKKVUnLNCH4BdWRWUg4BBGMcgnFL2civaw/ryOhoqnpd+dSsRdeUYkd2EYLZ3IGIDe2QM/Q1cqGmnZlppq6CiiikMKKKKACiiigAooooAKKKKACiiigAooooAKKKKACiiigAooooAKKKKACiiigAooooAKKKKACiiigAooooAKK5fTtS1BrjS7ye8eaHVZpIzamNAtuArsu0gBsjZg7ieT2pvijVdQtLyWPTp51MFmZ9tvCkgDbiAZdwJCcH7vzcN6CjsOx1VFcn4g8TPBdWsGn31vD5U9s105KncskirsAPqpLE9QMetJcazfHX7lhNeQWVneRWzGOGJ4G3BD8+T5mSXxlOF4JzzTSv8A16f5i6XOtorAKXw8WxQwaxdywqrT3NtJHB5aIchEBEYfJOSMseEOc1DplzqUOveXrM2ooLmaZbeJ1tvs5AYlQCg8zOwZ+Y9j9KS1B6HS0UUUAFFFFABRRRQAUUVj6vNdS6pY6ZaXctl9pWWR7iJEZgE2/KN4ZcktnkHgGgDYorFs9Vmk8Jy39xJCs8CTBpXGEJjZl3nHQHbnj1rM0vX57OO+l1qe68mC1inVb2JI5SzZBChAAVJ2gZ5ySD2o7hurnW0Vy2h6jqOp2esRzapbrcQ3ShZIwjLbxmONyB2OMuAzZ5HPHFTW011ceH7m5udYu7a2ilaSG+WOESywBerBoyuCd2CFBICnvyPTcZ0dFcpLdava6HpUdxeXb3d1MxlMUMRuAmGYKBt2ZX5Qxx645IrZ8P3kt/oNtcXLh5mBEh27SCGIIYdmGMEdM5pk3NKiiikMKKKKACiiigAooooAKy7afVbu2SeL7GqSDIDK2R+talUtG/5A1t/uUARpcX8V9bxXf2ZkmLDMQYEEAnv9K0apXn/IT0//AH3/APQDV2gAooooAKKKKACiiigAqO2/49Yv9wfyqSo7b/j1i/3B/KgAt/8AVn/ff/0I1JUdv/qz/vv/AOhGpKAIrq2ivLZ4LhS0bjBAYqfwI5B9xVA+G9MaFYzDLlZTN5n2mTzC5G0kvu3HI4wTjHFX7lpUtnaBd0gHyjHU1DFdkWkkk+S8RwyBcEHA46kdx371SlJbMlxjLdFJvCujsioLZ0RYhDtSeRQ0YJOwgNyMseD1q4dJsi7OYOWnW4OGP+sUAA9ewA46UxtReOSVZo1QqwVQZAM/Lnr3/L/GnpqUcigpHIxPIUDnG3dn9QPrRzyfUXJBdCM6FpxUg2/BWVf9Y3SRgz9+7AH27Ypn/CPaeIdgW4BMnmGUXcvmlsbeZN27pxjOKtw3izW0k2FATOcOD2z17fjioYtTEzmOKLfIMnCuCMAA5B/4EB9fzo5pLqPki+hEfDulmMoLXYCkaApIysojJKYIOQRuPI55qa20extDCYISGgLlGaRmbL/eJJOWJ9TmiLUllRZFibyzsDMSPlLAEDH/AAIfnSy3rw3MqtEWijVGLA9M5/PpQ5Se7FyRWyII9Ha2eFbPU7y2tYQoW0QRMmB2yyF+f97PpipxpNkLOG1EH7mCUTRrvb5XDbgc5z15qS3u1uH2orAhdzZ/hOSMfXINYd3rd/Yx3Ul00ULxrKyQywMFKrkqVkzhuBkjr9MVScpPRkyUIJ3NGTQLJrp7qHzbe4Zi6yRyEhHIwXCNlN2O+2mtoEVyiDU727v2ik8yGSR1iaJtpXKmJU7E9c0XerSN4audSsFUERM9uZeQ3oSB2Pp1x6GqNz4mkjksTFCpjaN5LwHrGVRyEHvujYf8B96pe0Jap32/r9S63hnSnt44fIkVI0aPCTyKXVjlgxDZfJ5O7PNSP4f01+kMkbBxIHindGB2BPvAg/dAGO9Q3eszR6lBaWdt5rM+HDMFyDGzjB7fd96aviW3ea2UR4FwqEAyrvXcMjKA5x2z+WaX7zuNey7fgWo9C06K3aGO2xG1ubYrvb/Vkk7evueetIdB05r1bowN5isr7RK4QsowrFM7SQMYJGeB6VVh8RGURs1jIkbrDJuMinCSnahx656jsPXpQniMsiyGxkWJo0m3GReI2O3OPXPOPTvninapcP3bW34FhPD2mIJV+zs0cqNG0TzOyKrdQqk4UH2Apbfw/p9s0jRJNvk8vfI1zKzN5ZJXLFs8En6jg8VWTxLDJM8UcPmSZAjWOZX3EttwSDhSDyevHvxVmy1N3sry5vkEAtZZFYZzhVGc570n7RK7Y7U29gXw/pq3T3AtyXbedplcopcYYhM7VJyckDPJ9TRH4f02O1ubcwvIl0gjmMs7yMyjOF3MSQBk4weM1m6d4pFxpDXE32eWVJgjmGQeXGGXeCzZOAAdpP8AeFTf2vc3Oo2sNsdsUtwA5ypIXyRJgEZB69fy9abjUTs2SpUmk0v62NqCCO2t44IECRRIERR/CAMAVJRRWO5skkrIKKKKBhRRRQAUUUUAFFFFABRRRQAUUUUAFFFFABRRRQAUUUUAFFFFABRRRQAUUUUAFFFFABRRRQAUUUUAFFFFAGdb6Bp1rfPdwQusrbiAZnKIW+8UQnahPcqBmmXHhzTLpY1mjmISIQkrdSqZEHRXIbLjrw2ep9TWpRQBUutKsb2NY7m1jdUdHXjGChBXp6EDjpUU+hafcaiL2aFzMGViBM4jdl+6zRg7WIwMEgkYHpWhRQBDDaQW8880SYkuGDSsSSWIAA69BgdBxVW20LT7S/a8gicSksQGmdkQt94ohO1Ce+0DNaFFABRRRQAUUUUAFFFFABVTUdLtdUiRLtZMxtuR4ZnidDjHDoQw444PNW6KAKQ0ixECQCAeQkDQCHcdhRsZBXOD06nnr6mm2WiWFg0jQxSO0qhWa4meY7R0UFySAPQcVfooAzZ/D2l3Fpe2z2xWK+cPcCKV4y5AAHKkEcKOBgfmadFodlFYtaH7TNA0iyFbi7lmOQQRy7E4yBxnHtWhRQBUv9MttSWMXSyZibdG8UrxOhxg4ZCCOPfmpbOzgsLRLa0jEcSZwuSepySSeSSSSSeSamooAKKKKACiiigAooooAKKKKACs/wDsPT+0BHsJGA/nWhRQBUg0qztphLDEQ69CXY4/M1boooAKKKKACiiigAooooAKjtv+PWL/AHB/KpKjtv8Aj1i/3B/KgAt/9Wf99/8A0I1JUdv/AKs/77/+hGpKAGyRrNG0cgyrDnnH61GtrCsDxBSUfO7cxYtn1J5p088VtA81zKkMUYy8kjBVUepJ6Uy0vrS/iMthdQ3MYO0vDIHAPpkUAM/s225OJNxOS3nPuPGOuc9KIrFI52fjHlCJFAI2qO2c8/WrVNeRIkLyMqKOrMcAUARrZwrDJFtZll+/ucsTxjqTnpVebTUK/uG2OWyXdnYnjHXcDjgcZxxV6igCrFp0ESxDDExqo+8QCVGASOhP/wBb0p8llBLP5rq284Bw5AbHIyM4NF3f2mnxLJf3UNrGzbVeaQICcZxk9+D+VPt7iG7gWa1mjmif7skbBlb6EUAMtbb7P5rEhnlcuxVcD8sn/OaqN4f052ffFI6sG+Rp3KLu67Vzhc89MdT61pUU02thOKe5VOm2htZ7fysQ3DM0iBiASeuOeM9eMc5Peozo2ns0rG2UmaQyvyfmYoUJ6/3SeOnJPWroIJIBBI6+1NjnilDmKVHEbFX2sDtI6g+ho5n3DlXYp22i2NpKkkMchkQ7g8k7yNnaV6sTngkU1NA06ORGSKRdhUqonfblRtBK5wTgAZPpV6GeK5gSa3kSWKRQySRsGVgehBHUUryJEoaR1QEhQWOOScAfiTinzSvuJQilZIqrpVksaosOFVIowN7cLGcoOvY/n3o/smy8kReT8giWHG9vuA5A6+tW3dY42eRgqKMszHAA9aFYMoZSCCMgg9aXM+4+VdjOXw/pyIVEUmNoVc3Eh2AHIC/N8uCOMYxUyaVZpZSWgiYwytvkVpGYuScnJJyc4qzLNHBHvnkWNMgbnOBknAH4kgUNNEhUNIil22Llh8zeg9+Dx7U+aXcXLHsQXGm21zMZZFkWRgql45XjOBnHKkf3j+dNg0mytmjaCDYYiCnzE4ITZ6/3Rj/69WZZY4IXmnkWOKNSzu7YVQOSST0FRWeo2WoKzWF5BdKhwxglVwp9Dg0uZ7D5VvYsUU1pY1kWNnUO+Sqk8tjrgU6kMKKKKACimtIiMiu6qznCgnBY4zgevANVrnVtOsrhbe81C1t5mAKxyzKrEE4BAJzyQRQBboopAQc4IODg4oAWiiigAooooAKKKKACiiigAooooAKKKKACiiigAooooAKKKKACiiigAooooAKKKKACiiigAooooAKKKKACiiigAooooAKKKKACiiigAooooAKKKKACiiigAooooAKKKKACiiigAooooAKKKKACiiigAooooAKKKKACiiigAooooAKjtv8Aj1i/3B/KpKjtv+PWL/cH8qAC3/1Z/wB9/wD0I1JUdv8A6s/77/8AoRqSgDO8QRTT6Bdx2ylpWTCAKW5yOw61jXC38M16b5JppZZIYzNZRyxJ5QDEMNm58hiQQG/u9Aa6qigDkoLbULuCGO5k1BUS1uSpV5YiWEoEeedxO3oGJyOuaL37VcKwvI9RN06wGBYVk8rbhS+4D5M7t+d3OMY7V1tFH9fn/mK2v9eX+RzSm7/tYbft/wBr+0yebnzPI8jDbcZ/d5xs+782eveqkdhf/wBniQy6p5402Ofm4l/4+BnIxnr0ynT2rsKKFp/X9evqN6/1/Xp6GRrlvcT3mj/ZtymO9LNIqbgg8iUZPtkgfiKo6yLxJ5lD3z3It1+wtbiQRmX5s79ny9dud/GOneulopjbuczdw34j1KcNeE/bFTCvLxBtQnYq89d3Kjd1warTfa10mF/N1CRBJI0cSpcqzDA2qzj94Od2CwIOenSuvopdP6/r+mSYmj2xh1rUpZY7lJLgxyASO7Jjy1BAP3MggjA5/DFZzWV3FcXdvb28qxatcSJM6qQIsMcuT23R5APqq11lFHUfQ4yOC4tdFtLd4tRhMenotnHaLIu2YbshwvH9z7/y9ferN2lxLfFblL9rsXduyCISGDyg8ZJ4+Tghic/N+GK6qimnrcHqceU1GWe9SQ3ZnKXAkjKTNG6EMEC5/dj+HG3n171saiby10O2uLKKaSe2CMbePOZBt2lSO+N2f+A1sUVNv0/C/wDmBykUOrxW80Ekl5I1m8MKS5bM+6VWZvcBMLn/AHveki0o/JbbL4f8TaSSRvMl4RhIQyuTwMEcqep9a6yimHS39bWObmhvJPAerW0kdxJP5d5FCrhnkdQzrH15bK7cHkn3qDzrljfXEcd7cq1vFGXNtLbOnznIX5dzABi2VGRjAPIx1dFO9xt30/r+tDkLUX8bCUQ3lwIPtPk71kViDGhUZky3LbgCfy4xRaR3ssnko2oC1eeEklrhWAKybxvkO/HC88AcYwa6+ipt+n4f5i6ff+JypWeNI4tROqm0je4SM25mMhIk/d7mT5iNucE8Hv2pZxqDa4oZ72NvMhMBCysvl4XeHCfusk7wd3I7dq6mimtAOYs0lk1myaVNQNylxKbkyiTyVGxwu3d8gHIxs/HmrFzcLZ+KL17i0upop7GCNPKtXlVyHmypIBA+8OpHWt+ijpYa0v5nHTR6hbR2NsI7yOe3ggCmJpnRju+ZSEwnAGCXJ+nrM8D2MeoxpDqBM9/udlknwqFchlK5JGRghMds4Arq6KOt/wCt7iM3QDcf2NGLsymRXkUGZWDFQ7BchiW+7jqSa0qKKACiiigAooooAKKKKACiiigAooooAKKKKACiiigAooooAKKKKACiiigAooooAKKKKACiiigAooooAKKKKACiiigAooooAKKKKACiiigAooooAKKKKACiiigAooooAKKKKACiiigAooooAKKKKACiiigAooooAKKKKACiiigAqO2/49Yv9wfyqSo7b/j1i/3B/KgBsLEI2EY/O/Ix/eNSbz/zzb8x/jTbf/Vn/ff/ANCNSUAN3n/nm35j/Gjef+ebfmP8adRQA3ef+ebfmP8AGjef+ebfmP8AGnUUAN3n/nm35j/Gjef+ebfmP8adRQA3ef8Anm35j/Gjef8Anm35j/GnUUAN3n/nm35j/Gjef+ebfmP8adRQA3ef+ebfmP8AGjef+ebfmP8AGnUUAN3n/nm35j/Gjef+ebfmP8adRQA3ef8Anm35j/Gjef8Anm35j/GnUUAN3n/nm35j/Gjef+ebfmP8adRQA3ef+ebfmP8AGjef+ebfmP8AGnUUAN3n/nm35j/Gjef+ebfmP8adRQA3ef8Anm35j/Gjef8Anm35j/GnUUAN3n/nm35j/Gjef+ebfmP8adRQA3ef+ebfmP8AGjef+ebfmP8AGnUUAN3n/nm35j/Gjef+ebfmP8adRQA3ef8Anm35j/Gjef8Anm35j/GnUUAN3n/nm35j/Gjef+ebfmP8adRQA3ef+ebfmP8AGjef+ebfmP8AGnUUAN3n/nm35j/Gjef+ebfmP8adRQA3ef8Anm35j/Gjef8Anm35j/GnUUAN3n/nm35j/Gjef+ebfmP8adRQA3ef+ebfmP8AGjef+ebfmP8AGnUUAN3n/nm35j/Gjef+ebfmP8adRQA3ef8Anm35j/Gjef8Anm35j/GnUUAN3n/nm35j/Gjef+ebfmP8adRQA3ef+ebfmP8AGjef+ebfmP8AGnUUAN3n/nm35j/Gjef+ebfmP8adRQA3ef8Anm35j/Gjef8Anm35j/GnUUAN3n/nm35j/Gjef+ebfmP8adRQA3ef+ebfmP8AGjef+ebfmP8AGnUUAN3n/nm35j/Gjef+ebfmP8adRQA3ef8Anm35j/Gjef8Anm35j/GnUUAN3n/nm35j/Gjef+ebfmP8adRQA3ef+ebfmP8AGjef+ebfmP8AGnUUAN3n/nm35j/Gjef+ebfmP8adRQA3ef8Anm35j/Gjef8Anm35j/GnUUAN3n/nm35j/Gjef+ebfmP8adRQA3ef+ebfmP8AGjef+ebfmP8AGnUUAN3n/nm35j/Gjef+ebfmP8adRQA3ef8Anm35j/Gjef8Anm35j/GnUUAN3n/nm35j/Gjef+ebfmP8adRQA3ef+ebfmP8AGjef+ebfmP8AGnVnQX95cwrNDYoY3GVJnwcfTFAF/ef+ebfmP8aN5/55t+Y/xqml7cC7hhubRYhMSFZZd3IGemB6VeoAbvP/ADzb8x/jRvP/ADzb8x/jTqKAG7z/AM82/Mf40bz/AM82/Mf406igBu8/882/Mf40bz/zzb8x/jTqKAG7z/zzb8x/jTbb/j1i/wBwfyqSo7b/AI9Yv9wfyoALf/Vn/ff/ANCNSVHb/wCrP++//oRqSgCtqN/DpenTXtzu8qFdzbcZ/Xj8+Kq22uQ3D2iG3nie6Z1QPsI+UZzlWIII6EE1durf7VavD5skO8Y8yIgMv0zkfmKyI/CltBGnkXl1DOk7T+fH5asWZdrDbs2gEAdFHr15rSPJZ33M5891ykC+Lg1zK6WNxNaLapcZiRd8YLOGLZYDA2jgZPXg1Zm8UW8VyYorK7uFEywCWIJtLsgZRywPII5xgdyKjHhG2SHyoL++hRrdbaQK6HzIwWOCSp5O48jB+lXP7AtA5KtKoN1HdbQRgMihQBx0wo/xrR+yuZ2q2/rt/mU28UW4RLp1migFvcSywvCC6mJ1VhkNgEEngZB65HeSTxRbxWcE8lpcA3EvlRR7ovnO3dkPv2YwP73XjrUq+HbaNt0U9zG4WcB1cAr5rh2I47Ece3XNQp4XgjtJYY725VppfNlkCRfvDtC4KbNmMAfw5zzS/d/16har/XoD+IkhvpYniuHYxwGK2WECQtJv4yWxn5DnOAMdT2efEsJWNYrG8luJGkQ2yhN6MmNwJLBehB64P5UxfCdlEi+RNcwvHHDHFIrLmPyt21hkYz87AggjHarNpoNvaTQzCWaWaNpHaRyuZWkxuLYAHYAYwOKT9n0/rQI+16/1/X3FeDWri61bTvISEadfQNIhIbzSQoPPZeuMc/hVmbWkj1JrSKzu7jymRZpYUBWEt0zzuPGCdoOAeaSLQreCGySKadTZRPFE4YZwwAyeOvFNOhL9s+0JqF7EX8vz1jdQJynQsduQeMHaVzR+7v8A13/y/Eq1RLz/AK/r/gkKeKbWSG9mjtbp4bMOXdQhzsOGGA2QepwwGQOM1o2mow3tzcwwBmFsyq0nG0kqGwDnsCM/WqkHh+3i1R76Wee4kaN4gsuz5VYgkZChmHAxuJxU+kaTBounLZ2rSOisW3ysCxye5wOgwPoBSlyW0HH2l9S9RRRWRqFFFFABRRRQAUUUUAFFFFABRRRQAUUUUAFFFFABRRRQAUUUUAFFFFABRRRQAUUUUAFFFFABRRRQAUUUUAFFFFABRRRQAUUUUAFFFFABRRRQBzthrl/NdWE9z9mNjqcrx28ccbCSLarMpZixDZVDwFGMjrU/iK51eyhWbSrqyTcVijt7i0eRpZGOAAyyrgevBwATUlr4dgtb1Z1u7p4omdre2cp5duz53FcLuPU43EgZOMVaGmI09lNPPNcPZoQhkK/MxGC5wB82MjjA+Y8UdgKGsXOs2l1afYbqxK3EyRLbyWjs7Hq53iUAAKGP3T071Pd397b+ILC1VIBZ3JdSxJMhYIW46ADj3zntjm41hE+qJfuztLHEYo1JG1ASCxA9TgD8PrRcWMdzeWty7OHtWZkAIwSylTn8DQJ36GNbaxfP4ke2u5ora2M7xQwyabMrSgLkYnL7CTgnAXoPxqPTPEd1eeIPscjWxRpJ0MKRsGiEZwD5hbbJnjIUAjPsa0v7DVtUS7mvryaOOUzRWsjqY43II3A7d3QnALEDPA4FMtfDkFreQSi6upYrZ3kt7ZynlwswIJGFDHhmHzE4z9KF0uN+Rr0UUUAFFFFABRRRQAVlate3iX1np2mPBFc3KySebcRNIqImM/KGUkkso6jua1ao6lpY1EwyJdT2dxASY7i327lBGCMOrKQfcdhQMbpl9PqeiCdRHBcnfGcqXRZFYoTjIJXcucZHHesf+3NUsLTV7jUJbK7isikUUkFs8IaU9QQXfIG5eR/tDtW3Z6YlhFBFbTzLFDGyeWSCHJIJdiRktnPfHJ4pi6JaLoZ0s+Y0JU7nLfOzE7i+R/Fu+bPrQ+olsZC+Ib2HQtQuJpbWa4tWQbvsstvsDEfM0TndwCSMN82MDBpi+IdSm0WWW18mWaO+Ft9ojsZZF2YBLmBW3jGSME+h6EVo/wDCNQvbTrc3t3cXEzxubuQoJFMZymAqhflPONvOTnNOTQBHbzBNTvlup5hM94roJCwUKPl27MYGMFcd+vNH9fl/wQ6ED6rff8IjLqFlNaXd1EkjNI0EkCKU3ZBiJLAjGCpYc55HStq3kM1rFI2AXQMce4qnDo0EWjTad5kzpcCTzZXYb3Z87m6YzknoMD0xV6KMQwpGuSEUKM+1HV/IO3zHUUUUAFFFFABRRRQAUUUUAFUtG/5A1t/uVdqj/Y9kOkbqPQSuAPwzQAt5/wAhPT/99/8A0A1dqrDptrBMsscbb1ztLSM2PzNWqACiiigAooooAKKKKACo7b/j1i/3B/KpKjtv+PWL/cH8qAC3/wBWf99//QjUlR2/+rP++/8A6EakoAiuZTBbPIqbyoyFHemRXatatPLtUJncBnI+oIBz7YqaRPMjZNzJkfeU4IqFbNBBLG7u5lOXdsBicAZ4AHGB27UAMW/BaUGGUeWQCNvPTP0pw1C3Me8P8ufQ/wB3dn8uaifSklbdJPK77t25gh7Y6bcfpSwWHlXDPnCrCsUeGycDqx44PQfhQBYjnWSIyBXAHYqcnjPHr+FRC/iLFAsnmAkGPb8w4Bz+RH5+tEenxx200IZiJs7jgA8jHYAfpVdtMaAbrNz5hJyxZUwMAY4QjHA7Z96ALKahBJsKbirbfn2nALdAfc5H50j3yRXMkUisAgUlwMgbsjn8qjg01YookaV8KELoMbXZQAD0z2HftUstiss7SGWRQ4UOgI2sB+Ge/amBJFcxTMBGckpv6dBnHP5H8qxZPEUsYu2aCD/R1kYwGbbMoU4DFSPut6j1HWtaztjAZnfAeWQthWyFHpnA75P4mqN14divQyXl5dTxEOEjcoRHvBBwduTwSPmJ6/Sqhy394ifNb3Sa71ZYtDudRtI/PWFGaME7RLj0PofX8elVbjxLDDJYYiZo7qN5ZWzzAqozcjucqRj2PpVz+yIBpk9gryi3m3YUEfuwf4V44HoDnGfTAqBvDlk7TFjL++kaRhuGBuRlKjjgfvHP1Y/SqXJ1JfPcfd63HbXsNtHDLO7ttZY1yR8jOMev3fanjWrQm3IEvl3AUxymMhSWGQOe+Py74pltocdvdJcyXdzczI27fKU5+Qr0VQOhqvH4Vs4riKVZpsx7MAhDnYu0fNt3Y9gQM9qLUwTqW1JovEVnMU2pcBX8shmiIG2Q4RvoTx/PA5oXxFZvtIS4CsquHMRA2McBs+mePXv05p6aHbJCkQeXakUEQyR0ibcvbqSef6Uf2FbfZhDvl2i3W3zkZ2qcg9OtH7u4fvLCtrlqjyJIkySLjajRkNJlto2j68c49enNSWOpreW1xO8bQJBK6MH4I29SfSqEHhW0t8mK4uFYAbHAjBQhtwPC/Mc92znvVxdHi/s24s5J55FuWZpXYrubPUcADB6dO9DULaDTncr2fiBJrBZrm3khmaURLAvzMSV3r1x1Qg89DkUPrMjahb21vFkSzhCzoQUXyhIcg4Oefw/SnP4bsAsqWiCzjmCiSKCKMRtjPJUqQTz6dh6VJaaFbWbwNE8xMLBl3MDnEQj549B+f5Ufu9WiV7TRM0qKKKyNgooooAKKKKACiiigAooooAKKKKACiiigAooooAKKKKACiiigAooooAKKKKACiiigAooooAKKKKACiiigAooooAKKKKACiiigAooooAKKKKACiiigAooooAKKKKACiiigAooooAKKKKACiiigAooooAKKKKACiiigAooooAKKKKACiiigAooooAKKKKACo7b/AI9Yv9wfyqSo7b/j1i/3B/KgAt/9Wf8Aff8A9CNSVHb/AOrP++//AKEakoAKKjuLaC7gaC6hjnib70ciBlPfkGuStdMtoNE0wafFHZSTX2Glt4kDcGTHbBx2yDSbt+H5gdjRXJvf3ahC1zEZ4Y72NbqeNQRsdQrEheOOuBjjOOK0tHvze6RdEzvcmF2jMsnlsG+UHhkAVhzjOB3BGRQ3pcdtbG1RXJafq0yXOlRy3oCS28CrawCMHLJkloyobb7ocDHTg1e17U5LDUbf/TfJi2gmCMx+ZKdwHCuvzjthSG575FU1Z2+RCldX8rm/RXOprTSXaWT3SG5+3TxywjG5YgkjJkdhgKQe9ZdprE9voA+w6oLt49L82RNiH7K6hNowBkZy3D5Py+xoWpUtNztqK5xJtQh1GVX1OeaO3vIodjxxYkV1UncQgOQW4xjoM5qlHq0ttb6YWvFgjaNSbeARK8hL4+4y/MvThCCPfIqb6pBsdhRXH3erStHrEEt4t0y287rEoikijCnADLtDKeeQ24HnmrseqTnV0i+35uDdNE2m4T5YhnEnTeOAGyTjnGKfYHodHRXOaLf3sl3pwurt7hb6xknZWRFEbIYx8u1Qed5zknpxillvr5NQnmF2/lQ6jFai3CJsZHWPOTt3ZBcnginbb+utgeiuzoqK53SNUmudQgQ6h9plljdru0wn+hsMYHygMOfl+YnPUdKj1WbSJPEsFsZrSPUVeOR55pVEkag5VEyc5bGMDjBJPUArsHc6aiiigAooooAKKKKACiiigAooooAKKKKACiiigAooooAKKKKACiiigAooooAKKKKACiiigAooooAKKKKACiiigAooooAKKKKACiiigAooooAKKKKACiiigAooooAKKKKACiiigAooooAKKKKACiiigAooooAKKKKACiiigAooooAKKKKACiiigAooooAKKKKACiiigAooooAKjtv+PWL/AHB/KpKjtv8Aj1i/3B/KgAt/9Wf99/8A0I1JUMLgIwIb779FJ/iNSeYPRv8Avk0AOopvmD0b/vk0eYPRv++TQA6im+YPRv8Avk0eYPRv++TQA6im+YPRv++TR5g9G/75NADqKb5g9G/75NHmD0b/AL5NADqKb5g9G/75NHmD0b/vk0AOopvmD0b/AL5NHmD0b/vk0AOopvmD0b/vk0eYPRv++TQA6im+YPRv++TR5g9G/wC+TQA6im+YPRv++TR5g9G/75NADqKb5g9G/wC+TR5g9G/75NADqKb5g9G/75NHmD0b/vk0AOopvmD0b/vk0eYPRv8Avk0AOopvmD0b/vk0eYPRv++TQA6im+YPRv8Avk0eYPRv++TQA6im+YPRv++TR5g9G/75NADqKb5g9G/75NHmD0b/AL5NADqKb5g9G/75NHmD0b/vk0AOopvmD0b/AL5NHmD0b/vk0AOopvmD0b/vk0eYPRv++TQA6im+YPRv++TR5g9G/wC+TQA6im+YPRv++TR5g9G/75NADqKb5g9G/wC+TR5g9G/75NADqKb5g9G/75NHmD0b/vk0AOopvmD0b/vk0eYPRv8Avk0AOopvmD0b/vk0eYPRv++TQA6im+YPRv8Avk0eYPRv++TQA6im+YPRv++TR5g9G/75NADqKb5g9G/75NHmD0b/AL5NADqKb5g9G/75NHmD0b/vk0AOopvmD0b/AL5NHmD0b/vk0AOopvmD0b/vk0eYPRv++TQA6im+YPRv++TR5g9G/wC+TQA6im+YPRv++TR5g9G/75NADqKb5g9G/wC+TR5g9G/75NADqKb5g9G/75NHmD0b/vk0AOopvmD0b/vk0eYPRv8Avk0AOopvmD0b/vk0eYPRv++TQA6im+YPRv8Avk0eYPRv++TQA6im+YPRv++TR5g9G/75NADqKb5g9G/75NHmD0b/AL5NADqKb5g9G/75NHmD0b/vk0AOopvmD0b/AL5NHmD0b/vk0AOopvmD0b/vk0eYPRv++TQA6im+YPRv++TR5g9G/wC+TQA6im+YPRv++TR5g9G/75NADqKb5g9G/wC+TR5g9G/75NADqjtv+PWL/cH8qd5g9G/75NNtv+PWL/cH8qAC3/1Z/wB9/wD0I1JUdv8A6s/77/8AoRqSgAoqK6uobK1kuLp9kUYyzYJ/Qcn6VXg1iyuHhSORw8zMiJJC6NlRkghgCOOecU7Nq4nJJ2ZdorCPi3Tku3R2cQCBJ1nWJ2yGZgSQF+UDbyx45qzP4j0u2uTBLPIZA4jOy3kcbyoYLkKRkgjA6ntVezn2I9pDualFZP8AwkViRFOs8YtGglmZ3DqyiNgrfKV4wTgg4OexqRvEGnrAsjPON0hiWM2svmFgu7Hl7d3Tnp0o5Jdh+0h3NKislvENnHNL5syeSsULpsV2kfzCwUbAvOdvAGT1yBT38RaYkEUvnSMJS4REt5GclPvDYF3AjuCM0ckuwe0h3NOiqj6pZx6YuoNOPsrqrJIATuDY24A5JORx1qt/wkemfZ1mEspDOyeWLaQyBlGWBj27hgYPI7j1pcsn0HzxXU1KKonWtPVXJuB+7aNT8rdZMbMcc5yOn9KvUmmtxpp7BRRRSGFFFFABRRRQAUUUUAFFFFABRRRQAUUUUAFFFFABRRRQAUUUUAFFFFABRRRQAUUUUAFFFFABRRRQAUUUUAFFFFABRRRQAUUUUAFFFFABRRRQAUVh2XiGW5vLbzrNIrK9d47ScT7ncqCfmTaAoIViMMenOKk17VNT0qE3FlYWl1CABiW8aKRnJwEVREwOSQByOT+NAGxRWDqXiR9P1QWn2SNgBEX33G2R97bcRJtO/HfkVYvdXu7K/RWsFNm08cHnGfEjM+ACqbTlQTySwPDcccm4GtRWDH4kaTX10/7LHsad4ARPmZSqlt7R7eEOOG3d145osvEb3N7apcWscNvfSSR2jifdI7Jkncm0beFJ4J98ULUHob1FFFABRRRQAUUUUAFFFZuqalPaT21pp9tHc3lzuZElmMSBVA3MWCse4HAPJFAGlRVKx1BtR0gXdrCBKysBDK+0CRSVKlgDxuBGQD9Ko2Oq6vdTahby6bZJPaBAhjvneN3YZ2FjECpA2nhT94UB0ubdFc4fE13b6PqN5f2NpC1nOsC7b0tFIxKg5kMalQC2Cdp6GpB4jlGiJfGPT5GkuBCrW9+ZIF93l8sbfT7p5wO9H9feBv0VzNz4uaHRbG8W3tI5Lu5e3/0q98qEbQ5LiTYdynZ8p287h0resLhrvT4bh/IzKgb/AEeXzYzn+6+BuHvgU7AWKKKKQBRRRQAUUUUAFFFFABVCPVfNQPDZXTo33WCLg/rV+qWjf8ga2/3KAFj1EPcRwyW1xC0mdpkUAHAz2Jq5VK8/5Cen/wC+/wD6Aau0AFFFFABRRRQAUUUUAFR23/HrF/uD+VSVHbf8esX+4P5UAFv/AKs/77/+hGpKjt/9Wf8Aff8A9CNSUAVtRtPt+nTWuYx5i4/exCRfxU9RWND4au7eO3eDU1W4t53kTdAzxorJtKKpfIHGR8x5J4xxW9PMsELSPkhew6k9hTILtJrdpjhEXOWLArj1yOMVcZyirIiVOMndnPx+E7u3t3httVRVltFtJS9ruJUFyWHzDB+f3Hse10eHFRj5dxhftsV0qlM4CIq7c577evv0rRXULdi/z42EA5HUkZxjr0qT7VBs3+am3OM7uOmf5c0/azve5Psodv62Mb/hGcZxdKcpcrh4AynzpA/IJwQMYx39qhHhWb+zvs7Xdu58/wA1Ue2Zooht24QGTcnrkMOp4roEuIpI2dXG1fvE8Y78/hTPtlvs3eaMbtuO+cZ6denP0o9pNdR+yhvYxP8AhFpVlS4TUme6ijtxHLNHvy0W8Zb5ssGEhGMgj1qzZaA1teQ3ct0JZ1kmllKx7VdpABwMnaAFHHNaa3lu7KEmRt4BXB4OenPvSNewx3LQyPtYBTz05JA/lQ6knuJUoLZGT/wj039j2+ni+XbaiJoX8jkSxtuDH5uQcAbf1ovtCvdRs0W7v7aWdZGcO1n8seRgBMOGUj13EnJ9sbSzRuVCuCWBIAPUDrWWfECCC4ufsk5tofMzKpU5MZIIIzkdDjP6U1Ob2CUILcj/AOEcB1LT7qS8kl+yxKkokUE3LICEdj6gsx+prbqpdalBbafdXYJlS1Vi4j5OVHIHbNV5dfs4m08MXIv1Z0OPuKE3Fm9B2+ppPnn/AF8xrkht/XQ06KoXWs2dnNDHLJkysANoztyrMCR15CnGKf8A2tYb4lF1GTKqshByCG+7z057evao5X2K5l3LlFUI9c02V1SO8jZnIC4zzn7v4HoD0J4HNA1zTC+0XkZJI9e5xn6Z4z0zx1p8suwc0e5foqn/AGtYZlH2qMeUCXyccA4OPXnjjvxS2WpW9+tw0BOyCTy2ZhjnaGP0+9jnuDSs9x3V7Fuis2016yu9PF4S0KGTywsg+YnGRgDOcrhh3waSXW4lkhSBRMZ51ijZHypBTfuJAOOPz+nNPlle1hc0bXuadFFFSUFFFFABRRRQAUUUUAFFFFABRRRQAUUUUAFFFFABRRRQAUUUUAFFFFABRRRQAUUUUAFFFFABRRRQAUUUUAFFFFAGFZ+Hp7a7t/Mvkks7J3ks4RBteNmDD5n3YYAMwACr75q6+mzXNxYS3tysv2QF2RItqyS4wHxk4Ay2BzyRzxWhRQBgap4afUL64lW6ijiuhGJQ9tvlTZ08t9w2evQ4PIqSfSNTl8RpqK6jZm3jAWK3msmdoh/GVYSgbm/vFTgceuduihaBuc/D4Zki1VLg3cRgjunulH2fE5Zs/KZd3K/MRjaDgAZ45Wz8MCDXTqM8lrIUkeSIxWaxSlmBGZHB+fAYgYC9cnJ5rfoo2B6hRRRQAUUUUAFFFFABWbqmm3F3cW13p9zHbXltuVHmhMqFWxuUqGU9geCORWlRQBn6dpsum20FvFcq8SI5k3x/NJIzbi+c8DJbjHfrxS2OnPYaS1tFcBrl9zvcMmd0rZJcrnpk9M9ABmr9FG4LQz4tMez0RLHT7owSxqNs7IH3NnJZgeu45zyDycEHms5vDNxJC0k19C9894Lt2NsfIZhH5YBi35xtAP3s7gD7V0NFHW4dLGLbaNf2GlpBp+owxXHnPM7NaboW3EkqIwwKrzxhs+pPNX9KsBpmmx2okMpUszORjczMWJA7DJOB2q3RQAUUUUAFFFFABRRRQAUUUUAFUI9K8pAkN7dIi/dUOuB+lX6KAKcenBLiOaS5uJmjztEjAgZGOwFXKKKACiiigAooooAKKKKACo7b/j1i/wBwfyqSo7b/AI9Yv9wfyoALf/Vn/ff/ANCNSVHb/wCrP++//oRqSgCK6txdWzRMcZwQSM4IORx9RUK2TG3nSWUF523FkTaAcADAyfQd6t0UAUHsLh3ZzdKHZgzBUZVOFxjAbPv1pkOnMkyqeY4oAmWUYdsY3Yz6EjmtKigCpFZyx2s0RuDukztZQf3fGOMkn361XNlPbHzom82YvnhMgDaBzufJ6DnNadFAGba6dLHbxo8oCko8iFctuXHQ5x/CO3rU1xZPNNKyzKscyKjqUycAnoc8dferlFAFOzt2juLiV1Kh3xGpx8q9T09WJP5VmXfhya+lnae7hBkikjEkVrskYMCAHYN8wGemByAa36KqMnHYmUVLRmZ/Y2NDudLS4IhkVkhJTJiVh06/Ng59OMfWqz+GUeeVzcttZ2KLsH7tGVwVHP8AekY5+g7VuUU+eQckTFtNCuItQhvLu9jmkiK8RwFAQqOg6sf7+fwqBvDE5aBf7RJhhMTBGRuNjbuBv2jPqQT7+nQ0U/aSbuSqcErGRHoPl28cX2nOyC2iz5fXyXLZ69849vemt4f3WRt/tOM2htt3l+rZ3df0rZope0le4/ZxtY54eGrhrozy6j5kig+WzxsxDeYsgLZcggbAMDaPpVxNIn+wahBLeKZL6Qu8kcW0ICqqQBk9l6571q0Ue0kHs43uYbeGkiEi2M7Ro5Rts7SSlWUFdytvDA4IHBGNtTWuivBJC8t20zxzLKzMnLkQ+Vyc9+ufw961qKPaSe7BU4rZBRRRUFhRRRQAUUUUAFFFFABRRRQAUUUUAFFFFABRRRQAUUUUAFFFFABRRRQAUUUUAFFFFABRRRQAUUUUAFFFFABRRRQAUUUUAFFFFABRRRQAUUUUAFFFFABRRRQAUUUUAFFFFABRRRQAUUUUAFFFFABRRRQAUUUUAFFFFABRRRQAUUUUAFFFFABRRRQAUUUUAFR23/HrF/uD+VSVHbf8esX+4P5UAFv/AKs/77/+hGpKjt/9Wf8Aff8A9CNSUARXU3kWzSbgp4CkqW5JwOByeTVGK9upT5H7pJvNKb2jOMBQ33d3Xn1/wrRkjSWNklRXRhgqwyDURsrUwmE20JiJ3FDGME+uKAKMF1cvCqJLEGxI7O4LZAcjA5GPrzjip1nnXR7eSHDzNGn3uc5Ayeoz+dWHs7aRUV7eJlQ5QFAQp9R6U94IpIfKeJGjwBsKgjjpxQBnjU38iZ90beVbtIW2lfmUkEEE8dOn60fariO4uXEkZiSdEMbAlvmVOhzx1zjBzVxrK1dUVraFljGEBjGF+npTjaW7TiZoIjKpyHKDcO3WgCgt5eyuoRrdRIZQuYmO3Y2OfmGc/hSC9uHLNAi72jhbBy2N24nC7hnp2wfrWkIY1xiNBjOMKOM9fzprWtu6FHgjZSAMFARgdPyoAonUJsQurR+TtHmSeUx53YIxnK9O4P6UR3VwzSRwNFGVaVi0oZsgPjA+bj+Q9KumztiYybeImIYT5B8n09KJLO2mUCW3icBiwDIDgnqfrQBRGo3DjzlWNYlMW5GUliHx3zxjPpVu5mmFxFBA0aM6s5aRSwwMcYBHr+lTGKM7sxqdxBOVHJHSkmt4blQtxFHKoOQHUNg+vNAGVHqF19li8kK7LbrKxYF9+c8ZyMdOvPWpVurpJL3fKmBOscKmIkrlFOODz1Pp9avPZ20oQSW8TiP7m5Adv09KWS1t5SxlgjcuAGLIDux0z9KBmTPfTvbSFvkkWCbLISuCrAZwCQP1PvV6O6mOoGKbYsbEiMBD82P9rOPXggH8qsC1t1TYsEQXBXaEGMHqKVbaBJzMsMayt1cKNx/GgkkooooGFFFFABRRRQAUUUUAFFFFABRRRQAUUUUAFFFFABRRRQAUUUUAFFFFABRRRQAUUUUAFFFFABRRRQAUUUUAFFFFABRRRQAUUUUAFFFFABRRRQAUUUUAFFFFABRRRQAUUUUAFFFFABRRRQAUUUUAFFFFABRRRQAUUUUAFFFFABRRRQAUUUUAFFFFABRRRQAUUUUAFFFFABUdt/x6xf7g/lUlR23/AB6xf7g/lQA2GRFRgWUHe/BP+0ak82P++v5023/1Z/33/wDQjUlADfNj/vr+dHmx/wB9fzp1FADfNj/vr+dHmx/31/OnUUAN82P++v50ebH/AH1/OnUUAN82P++v50ebH/fX86dRQA3zY/76/nR5sf8AfX86dRQA3zY/76/nR5sf99fzp1FADfNj/vr+dHmx/wB9fzp1FADfNj/vr+dHmx/31/OnUUAN82P++v50ebH/AH1/OnUUAN82P++v50ebH/fX86dRQA3zY/76/nR5sf8AfX86dRQA3zY/76/nR5sf99fzp1FADfNj/vr+dHmx/wB9fzp1FADfNj/vr+dHmx/31/OnUUAN82P++v50ebH/AH1/OnUUAN82P++v50ebH/fX86dRQA3zY/76/nR5sf8AfX86dRQA3zY/76/nR5sf99fzp1FADfNj/vr+dHmx/wB9fzp1FADfNj/vr+dHmx/31/OnUUAN82P++v50ebH/AH1/OnUUAN82P++v50ebH/fX86dRQA3zY/76/nR5sf8AfX86dRQA3zY/76/nR5sf99fzp1FADfNj/vr+dHmx/wB9fzp1FADfNj/vr+dHmx/31/OnUUAN82P++v50ebH/AH1/OnUUAN82P++v50ebH/fX86dRQA3zY/76/nR5sf8AfX86dRQA3zY/76/nR5sf99fzp1FADfNj/vr+dHmx/wB9fzp1FADfNj/vr+dHmx/31/OnUUAN82P++v50ebH/AH1/OnUUAN82P++v50ebH/fX86dRQA3zY/76/nR5sf8AfX86dRQA3zY/76/nR5sf99fzp1FADfNj/vr+dHmx/wB9fzp1FADfNj/vr+dHmx/31/OnUUAN82P++v50ebH/AH1/OnUUAN82P++v50ebH/fX86dRQA3zY/76/nR5sf8AfX86dRQA3zY/76/nR5sf99fzp1FADfNj/vr+dHmx/wB9fzp1FADfNj/vr+dHmx/31/OnUUAN82P++v50ebH/AH1/OnUUAN82P++v50ebH/fX86dRQA3zY/76/nTbb/j1i/3B/KpKjtv+PWL/AHB/KgAt/wDVn/ff/wBCNSUUUAFFFFABRRRQAUUUUAFFFFABRRRQAUUUUAFFFFABRRRQAUUUUAFFFFABRRRQAUUUUAFFFFABRRRQAUUUUAFFFFABRRRQAUUUUAFFFFABRRRQAUUUUAFFFFABRRRQAUUUUAFFFFABRRRQAUUUUAFFFFABRRRQAUUUUAFFFFABRRRQAUUUUAFFFFABRRRQAUUUUAFFFFABRRRQAUUUUAFFFFABRRRQAUUUUAFFFFABRRRQAUUUUAFFFFABUdt/x6xf7g/lRRQB/9k=)"
      ]
    },
    {
      "cell_type": "markdown",
      "metadata": {
        "id": "dzbt4YZp7sUb"
      },
      "source": [
        "# Insights\n",
        "\n",
        "During this project, I gained some valuable insight which I would like to share with you. \n",
        "\n",
        "*   You have to always carefully observe to understand the imbalance in target data in classification problem.\n",
        "*   Accuracy score doesnt give the true picture about your model in classification problem. You should use precision-recall curve, ROC-AUC curve and confusion metrics to understand the weaknesses of your model better.\n",
        "\n"
      ]
    },
    {
      "cell_type": "markdown",
      "metadata": {
        "id": "O6rr77dh7eYA"
      },
      "source": [
        "# Results & Conclusion"
      ]
    },
    {
      "cell_type": "markdown",
      "metadata": {
        "id": "VD-PgGaR7i2T"
      },
      "source": [
        "1. The model that performed best in our project is XGboost.\n",
        "2. ROC AUC scores increased while we deliberately balanced our data. \n",
        "3. In case of, logistic Regression & Random forest models we got improved ROC AUC score when submitted to competition.\n",
        "4. XGboost Model performed better with the untouched data in competition. \n",
        "5. Feature scaling improved the performance of our models. \n",
        "6. We thought, removing values greater than 17 in \"NumberOfTimes90DaysLate\" column would improve ROC AUC score. While it improved score in Logistic Regression model but failed to do well in other two models. "
      ]
    },
    {
      "cell_type": "markdown",
      "metadata": {
        "id": "T2qkq-MK-fNS"
      },
      "source": [
        "# Recommendation for further works\n",
        "\n",
        "1. Some other models can be applied such as LightGbm, decision tree classifier to check their performance in the data.\n",
        "2. It can be checked how the model performs without removing the values greater than 17 in \"NumberOfTimes90DaysLate\" column. We checked it and got better accuracy in some of the models. \n",
        "3. While imputing missing values in Monthly Income, Median instead of Mode can be tried to see the performance. "
      ]
    },
    {
      "cell_type": "markdown",
      "metadata": {
        "id": "_7atk8Y1A3-g"
      },
      "source": [
        "# Reference & Important Links\n",
        "\n",
        "1.https://machinelearningmastery.com/imbalanced-classification-with-python-7-day-mini-course/\n",
        "\n",
        "2.https://machinelearningmastery.com/threshold-moving-for-imbalanced-classification/\n",
        "\n",
        "3.https://www.kaggle.com/caesarlupum/modeling-give-me-some-credit\n",
        "\n",
        "4.https://www.kaggle.com/nicholasgah/eda-credit-scoring-top-100-on-leaderboard\n"
      ]
    }
  ]
}